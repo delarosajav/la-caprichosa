{
 "cells": [
  {
   "cell_type": "code",
   "execution_count": 1,
   "metadata": {
    "colab": {
     "base_uri": "https://localhost:8080/"
    },
    "id": "b51_QiYnRJWT",
    "outputId": "1b601532-6bb8-4f48-89b6-c2763db11faa"
   },
   "outputs": [
    {
     "name": "stdout",
     "output_type": "stream",
     "text": [
      "Collecting stanza\n",
      "  Downloading stanza-1.10.1-py3-none-any.whl.metadata (13 kB)\n",
      "Collecting emoji (from stanza)\n",
      "  Downloading emoji-2.14.1-py3-none-any.whl.metadata (5.7 kB)\n",
      "Requirement already satisfied: numpy in /home/ludivina/anaconda3/lib/python3.12/site-packages (from stanza) (1.26.4)\n",
      "Requirement already satisfied: protobuf>=3.15.0 in /home/ludivina/anaconda3/lib/python3.12/site-packages (from stanza) (3.20.3)\n",
      "Requirement already satisfied: requests in /home/ludivina/anaconda3/lib/python3.12/site-packages (from stanza) (2.32.2)\n",
      "Requirement already satisfied: networkx in /home/ludivina/anaconda3/lib/python3.12/site-packages (from stanza) (3.2.1)\n",
      "Collecting torch>=1.3.0 (from stanza)\n",
      "  Downloading torch-2.6.0-cp312-cp312-manylinux1_x86_64.whl.metadata (28 kB)\n",
      "Requirement already satisfied: tqdm in /home/ludivina/anaconda3/lib/python3.12/site-packages (from stanza) (4.66.4)\n",
      "Requirement already satisfied: filelock in /home/ludivina/anaconda3/lib/python3.12/site-packages (from torch>=1.3.0->stanza) (3.13.1)\n",
      "Requirement already satisfied: typing-extensions>=4.10.0 in /home/ludivina/anaconda3/lib/python3.12/site-packages (from torch>=1.3.0->stanza) (4.11.0)\n",
      "Requirement already satisfied: jinja2 in /home/ludivina/anaconda3/lib/python3.12/site-packages (from torch>=1.3.0->stanza) (3.1.4)\n",
      "Requirement already satisfied: fsspec in /home/ludivina/anaconda3/lib/python3.12/site-packages (from torch>=1.3.0->stanza) (2024.3.1)\n",
      "Collecting nvidia-cuda-nvrtc-cu12==12.4.127 (from torch>=1.3.0->stanza)\n",
      "  Downloading nvidia_cuda_nvrtc_cu12-12.4.127-py3-none-manylinux2014_x86_64.whl.metadata (1.5 kB)\n",
      "Collecting nvidia-cuda-runtime-cu12==12.4.127 (from torch>=1.3.0->stanza)\n",
      "  Downloading nvidia_cuda_runtime_cu12-12.4.127-py3-none-manylinux2014_x86_64.whl.metadata (1.5 kB)\n",
      "Collecting nvidia-cuda-cupti-cu12==12.4.127 (from torch>=1.3.0->stanza)\n",
      "  Downloading nvidia_cuda_cupti_cu12-12.4.127-py3-none-manylinux2014_x86_64.whl.metadata (1.6 kB)\n",
      "Collecting nvidia-cudnn-cu12==9.1.0.70 (from torch>=1.3.0->stanza)\n",
      "  Downloading nvidia_cudnn_cu12-9.1.0.70-py3-none-manylinux2014_x86_64.whl.metadata (1.6 kB)\n",
      "Collecting nvidia-cublas-cu12==12.4.5.8 (from torch>=1.3.0->stanza)\n",
      "  Downloading nvidia_cublas_cu12-12.4.5.8-py3-none-manylinux2014_x86_64.whl.metadata (1.5 kB)\n",
      "Collecting nvidia-cufft-cu12==11.2.1.3 (from torch>=1.3.0->stanza)\n",
      "  Downloading nvidia_cufft_cu12-11.2.1.3-py3-none-manylinux2014_x86_64.whl.metadata (1.5 kB)\n",
      "Collecting nvidia-curand-cu12==10.3.5.147 (from torch>=1.3.0->stanza)\n",
      "  Downloading nvidia_curand_cu12-10.3.5.147-py3-none-manylinux2014_x86_64.whl.metadata (1.5 kB)\n",
      "Collecting nvidia-cusolver-cu12==11.6.1.9 (from torch>=1.3.0->stanza)\n",
      "  Downloading nvidia_cusolver_cu12-11.6.1.9-py3-none-manylinux2014_x86_64.whl.metadata (1.6 kB)\n",
      "Collecting nvidia-cusparse-cu12==12.3.1.170 (from torch>=1.3.0->stanza)\n",
      "  Downloading nvidia_cusparse_cu12-12.3.1.170-py3-none-manylinux2014_x86_64.whl.metadata (1.6 kB)\n",
      "Collecting nvidia-cusparselt-cu12==0.6.2 (from torch>=1.3.0->stanza)\n",
      "  Downloading nvidia_cusparselt_cu12-0.6.2-py3-none-manylinux2014_x86_64.whl.metadata (6.8 kB)\n",
      "Collecting nvidia-nccl-cu12==2.21.5 (from torch>=1.3.0->stanza)\n",
      "  Downloading nvidia_nccl_cu12-2.21.5-py3-none-manylinux2014_x86_64.whl.metadata (1.8 kB)\n",
      "Collecting nvidia-nvtx-cu12==12.4.127 (from torch>=1.3.0->stanza)\n",
      "  Downloading nvidia_nvtx_cu12-12.4.127-py3-none-manylinux2014_x86_64.whl.metadata (1.7 kB)\n",
      "Collecting nvidia-nvjitlink-cu12==12.4.127 (from torch>=1.3.0->stanza)\n",
      "  Downloading nvidia_nvjitlink_cu12-12.4.127-py3-none-manylinux2014_x86_64.whl.metadata (1.5 kB)\n",
      "Collecting triton==3.2.0 (from torch>=1.3.0->stanza)\n",
      "  Downloading triton-3.2.0-cp312-cp312-manylinux_2_17_x86_64.manylinux2014_x86_64.whl.metadata (1.4 kB)\n",
      "Requirement already satisfied: setuptools in /home/ludivina/anaconda3/lib/python3.12/site-packages (from torch>=1.3.0->stanza) (69.5.1)\n",
      "Collecting sympy==1.13.1 (from torch>=1.3.0->stanza)\n",
      "  Downloading sympy-1.13.1-py3-none-any.whl.metadata (12 kB)\n",
      "Requirement already satisfied: mpmath<1.4,>=1.1.0 in /home/ludivina/anaconda3/lib/python3.12/site-packages (from sympy==1.13.1->torch>=1.3.0->stanza) (1.3.0)\n",
      "Requirement already satisfied: charset-normalizer<4,>=2 in /home/ludivina/anaconda3/lib/python3.12/site-packages (from requests->stanza) (2.0.4)\n",
      "Requirement already satisfied: idna<4,>=2.5 in /home/ludivina/anaconda3/lib/python3.12/site-packages (from requests->stanza) (3.7)\n",
      "Requirement already satisfied: urllib3<3,>=1.21.1 in /home/ludivina/anaconda3/lib/python3.12/site-packages (from requests->stanza) (2.2.2)\n",
      "Requirement already satisfied: certifi>=2017.4.17 in /home/ludivina/anaconda3/lib/python3.12/site-packages (from requests->stanza) (2024.8.30)\n",
      "Requirement already satisfied: MarkupSafe>=2.0 in /home/ludivina/anaconda3/lib/python3.12/site-packages (from jinja2->torch>=1.3.0->stanza) (2.1.3)\n",
      "Downloading stanza-1.10.1-py3-none-any.whl (1.1 MB)\n",
      "\u001b[2K   \u001b[38;2;114;156;31m━━━━━━━━━━━━━━━━━━━━━━━━━━━━━━━━━━━━━━━━\u001b[0m \u001b[32m1.1/1.1 MB\u001b[0m \u001b[31m5.8 MB/s\u001b[0m eta \u001b[36m0:00:00\u001b[0mm eta \u001b[36m0:00:01\u001b[0m[36m0:00:01\u001b[0m\n",
      "\u001b[?25hDownloading torch-2.6.0-cp312-cp312-manylinux1_x86_64.whl (766.6 MB)\n",
      "\u001b[2K   \u001b[38;2;114;156;31m━━━━━━━━━━━━━━━━━━━━━━━━━━━━━━━━━━━━━━━━\u001b[0m \u001b[32m766.6/766.6 MB\u001b[0m \u001b[31m8.9 MB/s\u001b[0m eta \u001b[36m0:00:00\u001b[0m0m eta \u001b[36m0:00:01\u001b[0m[36m0:00:02\u001b[0m\n",
      "\u001b[?25hDownloading nvidia_cublas_cu12-12.4.5.8-py3-none-manylinux2014_x86_64.whl (363.4 MB)\n",
      "\u001b[2K   \u001b[38;2;114;156;31m━━━━━━━━━━━━━━━━━━━━━━━━━━━━━━━━━━━━━━━━\u001b[0m \u001b[32m363.4/363.4 MB\u001b[0m \u001b[31m10.3 MB/s\u001b[0m eta \u001b[36m0:00:00\u001b[0mm eta \u001b[36m0:00:01\u001b[0m[36m0:00:01\u001b[0m\n",
      "\u001b[?25hDownloading nvidia_cuda_cupti_cu12-12.4.127-py3-none-manylinux2014_x86_64.whl (13.8 MB)\n",
      "\u001b[2K   \u001b[38;2;114;156;31m━━━━━━━━━━━━━━━━━━━━━━━━━━━━━━━━━━━━━━━━\u001b[0m \u001b[32m13.8/13.8 MB\u001b[0m \u001b[31m13.9 MB/s\u001b[0m eta \u001b[36m0:00:00\u001b[0mm eta \u001b[36m0:00:01\u001b[0m0:01\u001b[0m:01\u001b[0m\n",
      "\u001b[?25hDownloading nvidia_cuda_nvrtc_cu12-12.4.127-py3-none-manylinux2014_x86_64.whl (24.6 MB)\n",
      "\u001b[2K   \u001b[38;2;114;156;31m━━━━━━━━━━━━━━━━━━━━━━━━━━━━━━━━━━━━━━━━\u001b[0m \u001b[32m24.6/24.6 MB\u001b[0m \u001b[31m13.7 MB/s\u001b[0m eta \u001b[36m0:00:00\u001b[0mm eta \u001b[36m0:00:01\u001b[0m[36m0:00:01\u001b[0m\n",
      "\u001b[?25hDownloading nvidia_cuda_runtime_cu12-12.4.127-py3-none-manylinux2014_x86_64.whl (883 kB)\n",
      "\u001b[2K   \u001b[38;2;114;156;31m━━━━━━━━━━━━━━━━━━━━━━━━━━━━━━━━━━━━━━━━\u001b[0m \u001b[32m883.7/883.7 kB\u001b[0m \u001b[31m11.0 MB/s\u001b[0m eta \u001b[36m0:00:00\u001b[0mm eta \u001b[36m0:00:01\u001b[0m0:01\u001b[0m\n",
      "\u001b[?25hDownloading nvidia_cudnn_cu12-9.1.0.70-py3-none-manylinux2014_x86_64.whl (664.8 MB)\n",
      "\u001b[2K   \u001b[38;2;114;156;31m━━━━━━━━━━━━━━━━━━━━━━━━━━━━━━━━━━━━━━━━\u001b[0m \u001b[32m664.8/664.8 MB\u001b[0m \u001b[31m9.2 MB/s\u001b[0m eta \u001b[36m0:00:00\u001b[0m0m eta \u001b[36m0:00:01\u001b[0m[36m0:00:02\u001b[0m\n",
      "\u001b[?25hDownloading nvidia_cufft_cu12-11.2.1.3-py3-none-manylinux2014_x86_64.whl (211.5 MB)\n",
      "\u001b[2K   \u001b[38;2;114;156;31m━━━━━━━━━━━━━━━━━━━━━━━━━━━━━━━━━━━━━━━━\u001b[0m \u001b[32m211.5/211.5 MB\u001b[0m \u001b[31m10.8 MB/s\u001b[0m eta \u001b[36m0:00:00\u001b[0mm eta \u001b[36m0:00:01\u001b[0m[36m0:00:01\u001b[0m\n",
      "\u001b[?25hDownloading nvidia_curand_cu12-10.3.5.147-py3-none-manylinux2014_x86_64.whl (56.3 MB)\n",
      "\u001b[2K   \u001b[38;2;114;156;31m━━━━━━━━━━━━━━━━━━━━━━━━━━━━━━━━━━━━━━━━\u001b[0m \u001b[32m56.3/56.3 MB\u001b[0m \u001b[31m12.3 MB/s\u001b[0m eta \u001b[36m0:00:00\u001b[0mm eta \u001b[36m0:00:01\u001b[0m[36m0:00:01\u001b[0m\n",
      "\u001b[?25hDownloading nvidia_cusolver_cu12-11.6.1.9-py3-none-manylinux2014_x86_64.whl (127.9 MB)\n",
      "\u001b[2K   \u001b[38;2;114;156;31m━━━━━━━━━━━━━━━━━━━━━━━━━━━━━━━━━━━━━━━━\u001b[0m \u001b[32m127.9/127.9 MB\u001b[0m \u001b[31m10.8 MB/s\u001b[0m eta \u001b[36m0:00:00\u001b[0mm eta \u001b[36m0:00:01\u001b[0m[36m0:00:01\u001b[0m\n",
      "\u001b[?25hDownloading nvidia_cusparse_cu12-12.3.1.170-py3-none-manylinux2014_x86_64.whl (207.5 MB)\n",
      "\u001b[2K   \u001b[38;2;114;156;31m━━━━━━━━━━━━━━━━━━━━━━━━━━━━━━━━━━━━━━━━\u001b[0m \u001b[32m207.5/207.5 MB\u001b[0m \u001b[31m10.2 MB/s\u001b[0m eta \u001b[36m0:00:00\u001b[0mm eta \u001b[36m0:00:01\u001b[0m[36m0:00:01\u001b[0m\n",
      "\u001b[?25hDownloading nvidia_cusparselt_cu12-0.6.2-py3-none-manylinux2014_x86_64.whl (150.1 MB)\n",
      "\u001b[2K   \u001b[38;2;114;156;31m━━━━━━━━━━━━━━━━━━━━━━━━━━━━━━━━━━━━━━━━\u001b[0m \u001b[32m150.1/150.1 MB\u001b[0m \u001b[31m10.7 MB/s\u001b[0m eta \u001b[36m0:00:00\u001b[0mm eta \u001b[36m0:00:01\u001b[0m[36m0:00:01\u001b[0m\n",
      "\u001b[?25hDownloading nvidia_nccl_cu12-2.21.5-py3-none-manylinux2014_x86_64.whl (188.7 MB)\n",
      "\u001b[2K   \u001b[38;2;114;156;31m━━━━━━━━━━━━━━━━━━━━━━━━━━━━━━━━━━━━━━━━\u001b[0m \u001b[32m188.7/188.7 MB\u001b[0m \u001b[31m9.7 MB/s\u001b[0m eta \u001b[36m0:00:00\u001b[0m0m eta \u001b[36m0:00:01\u001b[0m[36m0:00:01\u001b[0m\n",
      "\u001b[?25hDownloading nvidia_nvjitlink_cu12-12.4.127-py3-none-manylinux2014_x86_64.whl (21.1 MB)\n",
      "\u001b[2K   \u001b[38;2;114;156;31m━━━━━━━━━━━━━━━━━━━━━━━━━━━━━━━━━━━━━━━━\u001b[0m \u001b[32m21.1/21.1 MB\u001b[0m \u001b[31m12.6 MB/s\u001b[0m eta \u001b[36m0:00:00\u001b[0mm eta \u001b[36m0:00:01\u001b[0m[36m0:00:01\u001b[0m\n",
      "\u001b[?25hDownloading nvidia_nvtx_cu12-12.4.127-py3-none-manylinux2014_x86_64.whl (99 kB)\n",
      "\u001b[2K   \u001b[38;2;114;156;31m━━━━━━━━━━━━━━━━━━━━━━━━━━━━━━━━━━━━━━━━\u001b[0m \u001b[32m99.1/99.1 kB\u001b[0m \u001b[31m5.5 MB/s\u001b[0m eta \u001b[36m0:00:00\u001b[0m\n",
      "\u001b[?25hDownloading sympy-1.13.1-py3-none-any.whl (6.2 MB)\n",
      "\u001b[2K   \u001b[38;2;114;156;31m━━━━━━━━━━━━━━━━━━━━━━━━━━━━━━━━━━━━━━━━\u001b[0m \u001b[32m6.2/6.2 MB\u001b[0m \u001b[31m12.6 MB/s\u001b[0m eta \u001b[36m0:00:00\u001b[0mm eta \u001b[36m0:00:01\u001b[0m0:01\u001b[0m:01\u001b[0m\n",
      "\u001b[?25hDownloading triton-3.2.0-cp312-cp312-manylinux_2_17_x86_64.manylinux2014_x86_64.whl (253.2 MB)\n",
      "\u001b[2K   \u001b[38;2;114;156;31m━━━━━━━━━━━━━━━━━━━━━━━━━━━━━━━━━━━━━━━━\u001b[0m \u001b[32m253.2/253.2 MB\u001b[0m \u001b[31m9.1 MB/s\u001b[0m eta \u001b[36m0:00:00\u001b[0m0m eta \u001b[36m0:00:01\u001b[0m[36m0:00:01\u001b[0m\n",
      "\u001b[?25hDownloading emoji-2.14.1-py3-none-any.whl (590 kB)\n",
      "\u001b[2K   \u001b[38;2;114;156;31m━━━━━━━━━━━━━━━━━━━━━━━━━━━━━━━━━━━━━━━━\u001b[0m \u001b[32m590.6/590.6 kB\u001b[0m \u001b[31m9.9 MB/s\u001b[0m eta \u001b[36m0:00:00\u001b[0m[31m13.9 MB/s\u001b[0m eta \u001b[36m0:00:01\u001b[0m\n",
      "\u001b[?25hInstalling collected packages: triton, nvidia-cusparselt-cu12, sympy, nvidia-nvtx-cu12, nvidia-nvjitlink-cu12, nvidia-nccl-cu12, nvidia-curand-cu12, nvidia-cufft-cu12, nvidia-cuda-runtime-cu12, nvidia-cuda-nvrtc-cu12, nvidia-cuda-cupti-cu12, nvidia-cublas-cu12, emoji, nvidia-cusparse-cu12, nvidia-cudnn-cu12, nvidia-cusolver-cu12, torch, stanza\n",
      "  Attempting uninstall: sympy\n",
      "    Found existing installation: sympy 1.12\n",
      "    Uninstalling sympy-1.12:\n",
      "      Successfully uninstalled sympy-1.12\n",
      "Successfully installed emoji-2.14.1 nvidia-cublas-cu12-12.4.5.8 nvidia-cuda-cupti-cu12-12.4.127 nvidia-cuda-nvrtc-cu12-12.4.127 nvidia-cuda-runtime-cu12-12.4.127 nvidia-cudnn-cu12-9.1.0.70 nvidia-cufft-cu12-11.2.1.3 nvidia-curand-cu12-10.3.5.147 nvidia-cusolver-cu12-11.6.1.9 nvidia-cusparse-cu12-12.3.1.170 nvidia-cusparselt-cu12-0.6.2 nvidia-nccl-cu12-2.21.5 nvidia-nvjitlink-cu12-12.4.127 nvidia-nvtx-cu12-12.4.127 stanza-1.10.1 sympy-1.13.1 torch-2.6.0 triton-3.2.0\n"
     ]
    }
   ],
   "source": [
    "!pip install stanza\n",
    "import stanza"
   ]
  },
  {
   "cell_type": "code",
   "execution_count": 3,
   "metadata": {
    "colab": {
     "base_uri": "https://localhost:8080/",
     "height": 496,
     "referenced_widgets": [
      "038e6bda481e413c95c42afe12f6c78b",
      "c04567d8306a43dfa6a6016d1859a05d",
      "63254401b3c4427f863bdc18278301f1",
      "f1d59f9ba13f433680129bf6641296a2",
      "2ddb771325af47a9bb68e5276f9d56ce",
      "01f24dd4e2734273b33a2031099d37d2",
      "17284fe9e15341fda97e70a3779421ac",
      "8ce49b8bfa7f4ae9986c1ad6c31feb02",
      "a2e483de07ad48cb8d9bbd154b36f6f7",
      "42e3feeac29241cc939770dd477d2063",
      "d97f3a7acdf2407281d9fe7385f54c33"
     ]
    },
    "id": "b3_LIcwBjSto",
    "outputId": "17226448-649b-4af3-9c39-f2ae4aeceb79"
   },
   "outputs": [
    {
     "name": "stderr",
     "output_type": "stream",
     "text": [
      "2025-03-13 14:21:39 INFO: Checking for updates to resources.json in case models have been updated.  Note: this behavior can be turned off with download_method=None or download_method=DownloadMethod.REUSE_RESOURCES\n"
     ]
    },
    {
     "data": {
      "application/vnd.jupyter.widget-view+json": {
       "model_id": "56a68adfac31482c8002e609e8ab809a",
       "version_major": 2,
       "version_minor": 0
      },
      "text/plain": [
       "Downloading https://raw.githubusercontent.com/stanfordnlp/stanza-resources/main/resources_1.10.0.json:   0%|  …"
      ]
     },
     "metadata": {},
     "output_type": "display_data"
    },
    {
     "name": "stderr",
     "output_type": "stream",
     "text": [
      "2025-03-13 14:21:39 INFO: Downloaded file to /home/ludivina/stanza_resources/resources.json\n",
      "2025-03-13 14:21:40 INFO: Loading these models for language: es (Spanish):\n",
      "=================================\n",
      "| Processor | Package           |\n",
      "---------------------------------\n",
      "| tokenize  | combined          |\n",
      "| mwt       | combined          |\n",
      "| pos       | combined_charlm   |\n",
      "| lemma     | combined_nocharlm |\n",
      "| depparse  | combined_charlm   |\n",
      "| ner       | conll02           |\n",
      "=================================\n",
      "\n",
      "2025-03-13 14:21:40 INFO: Using device: cuda\n",
      "2025-03-13 14:21:40 INFO: Loading: tokenize\n",
      "2025-03-13 14:21:40 INFO: Loading: mwt\n",
      "2025-03-13 14:21:40 INFO: Loading: pos\n",
      "2025-03-13 14:21:42 INFO: Loading: lemma\n",
      "2025-03-13 14:21:43 INFO: Loading: depparse\n",
      "2025-03-13 14:21:43 INFO: Loading: ner\n",
      "2025-03-13 14:21:45 INFO: Done loading processors!\n"
     ]
    },
    {
     "name": "stdout",
     "output_type": "stream",
     "text": [
      "[[('A', 'a', 'ADP', 3, 'case'), ('el', 'el', 'DET', 3, 'det'), ('Sr.', 'sr.', 'PROPN', 7, 'obl'), ('D.', 'd.', 'PROPN', 3, 'flat'), ('R.', 'R.', 'PROPN', 3, 'flat'), ('P.', 'p.', 'PROPN', 3, 'flat'), ('Enviando', 'enviar', 'VERB', 0, 'root'), ('le', 'él', 'PRON', 7, 'obl:arg'), ('mis', 'mi', 'DET', 10, 'det'), ('obras', 'obra', 'NOUN', 7, 'obj')], [('La', 'el', 'DET', 2, 'det'), ('mujer', 'mujer', 'NOUN', 0, 'root'), ('piadosa', 'piadoso', 'ADJ', 2, 'amod'), ('(', '(', 'PUNCT', 5, 'punct'), ('Fragmentos', 'Fragmentos', 'PROPN', 2, 'appos'), (')', ')', 'PUNCT', 5, 'punct')], [('Desvarío', 'desvarío', 'NOUN', 0, 'root')], [('Soneto', 'soneto', 'PROPN', 0, 'root'), ('.', '.', 'PUNCT', 1, 'punct'), ('\"', '\"', 'PUNCT', 3, 'punct'), ('¡', '¡', 'PUNCT', 3, 'punct'), ('Gloria', 'gloria', 'PROPN', 0, 'root'), ('y', 'y', 'CCONJ', 5, 'cc'), ('pobreza', 'pobreza', 'NOUN', 3, 'conj'), ('!', '!', 'PUNCT', 3, 'punct'), ('El', 'el', 'DET', 3, 'det'), ('inmortal', 'inmortal', 'ADJ', 3, 'amod'), ('Quintana', 'Quintana', 'PROPN', 0, 'root'), ('...', '...', 'PUNCT', 3, 'punct'), ('\"', '\"', 'PUNCT', 3, 'punct')], [('Balada', 'Balada', 'PROPN', 0, 'root'), ('.', '.', 'PUNCT', 1, 'punct'), ('La', 'el', 'DET', 2, 'det'), ('despedida', 'despedida', 'NOUN', 0, 'root'), ('de', 'de', 'ADP', 5, 'case'), ('una', 'uno', 'DET', 5, 'det'), ('hija', 'hija', 'NOUN', 2, 'nmod')], [('Un', 'uno', 'DET', 2, 'det'), ('viaje', 'viaje', 'NOUN', 0, 'root'), ('a', 'a', 'ADP', 5, 'case'), ('la', 'el', 'DET', 5, 'det'), ('Luna', 'luna', 'PROPN', 2, 'nmod'), ('.', '.', 'PUNCT', 2, 'punct'), ('Prólogo', 'prólogo', 'NOUN', 0, 'root'), (':', ':', 'PUNCT', 4, 'punct'), ('La', 'el', 'DET', 4, 'det'), ('pesadilla', 'pesadilla', 'PROPN', 1, 'appos'), ('de', 'de', 'ADP', 6, 'case'), ('Mocquet', 'Mocquet', 'PROPN', 4, 'nmod')], [('En', 'en', 'ADP', 3, 'case'), ('el', 'el', 'DET', 3, 'det'), ('álbum', 'álbum', 'NOUN', 0, 'root'), ('de', 'de', 'ADP', 6, 'case'), ('la', 'el', 'DET', 6, 'det'), ('señora', 'señora', 'NOUN', 3, 'nmod'), ('M…', 'm…', 'PROPN', 6, 'appos')], [('La', 'el', 'DET', 2, 'det'), ('primavera', 'primavera', 'NOUN', 0, 'root')], [('La', 'el', 'DET', 2, 'det'), ('perejilera', 'perejilera', 'NOUN', 0, 'root')], [('Un', 'uno', 'DET', 2, 'det'), ('viaje', 'viaje', 'NOUN', 0, 'root'), ('a', 'a', 'ADP', 5, 'case'), ('la', 'el', 'DET', 5, 'det'), ('Luna', 'luna', 'PROPN', 2, 'nmod'), ('.', '.', 'PUNCT', 2, 'punct'), ('(', '(', 'PUNCT', 2, 'punct'), ('Continuación', 'continuación', 'NOUN', 0, 'root'), (')', ')', 'PUNCT', 2, 'punct')], [('A', 'a', 'ADP', 3, 'case'), ('el', 'el', 'DET', 3, 'det'), ('señor', 'señor', 'NOUN', 0, 'root'), ('Don', 'Don', 'PROPN', 3, 'appos'), ('B.', 'B.', 'PROPN', 4, 'flat'), ('M.', 'M.', 'PROPN', 4, 'flat')], [('A', 'a', 'ADP', 2, 'case'), ('orillas', 'orilla', 'NOUN', 0, 'root'), ('de', 'de', 'ADP', 5, 'case'), ('el', 'el', 'DET', 5, 'det'), ('Manzanares', 'manzanares', 'PROPN', 2, 'nmod'), ('.', '.', 'PUNCT', 2, 'punct'), ('La', 'el', 'DET', 2, 'det'), ('súplica', 'súplica', 'NOUN', 0, 'root')], [('Un', 'uno', 'DET', 2, 'det'), ('viaje', 'viaje', 'NOUN', 0, 'root'), ('a', 'a', 'ADP', 5, 'case'), ('la', 'el', 'DET', 5, 'det'), ('Luna', 'luna', 'PROPN', 2, 'nmod'), ('.', '.', 'PUNCT', 2, 'punct'), ('(', '(', 'PUNCT', 2, 'punct'), ('Continuación', 'continuación', 'NOUN', 0, 'root'), (')', ')', 'PUNCT', 2, 'punct')], [('Fragmentos', 'fragmentos', 'NOUN', 0, 'root'), ('de', 'de', 'ADP', 4, 'case'), ('la', 'el', 'DET', 4, 'det'), ('Rosa', 'Rosa', 'PROPN', 1, 'nmod'), ('de', 'de', 'ADP', 6, 'case'), ('Alejandra', 'Alejandra', 'PROPN', 4, 'nmod')], [('Gente', 'gente', 'NOUN', 0, 'root'), ('morena', 'moreno', 'ADJ', 1, 'amod')], [('Un', 'uno', 'DET', 2, 'det'), ('viaje', 'viaje', 'NOUN', 0, 'root'), ('a', 'a', 'ADP', 5, 'case'), ('la', 'el', 'DET', 5, 'det'), ('Luna', 'luna', 'PROPN', 2, 'nmod'), ('.', '.', 'PUNCT', 2, 'punct'), ('(', '(', 'PUNCT', 2, 'punct'), ('Continuación', 'continuación', 'NOUN', 0, 'root'), (')', ')', 'PUNCT', 2, 'punct')], [('A', 'a', 'ADP', 3, 'case'), ('el', 'el', 'DET', 3, 'det'), ('excmo', 'excmo', 'NOUN', 0, 'root'), ('.', '.', 'PUNCT', 3, 'punct'), ('Sr.', 'sr.', 'PROPN', 0, 'root'), ('D.', 'd.', 'PROPN', 1, 'flat'), ('Agustín', 'agustín', 'PROPN', 1, 'flat'), ('Esteban', 'esteban', 'PROPN', 1, 'flat'), ('Collantes', 'Collantes', 'PROPN', 1, 'flat'), (',', ',', 'PUNCT', 9, 'punct'), ('en', 'en', 'ADP', 9, 'case'), ('el', 'el', 'DET', 9, 'det'), ('día', 'día', 'NOUN', 1, 'nmod'), ('de', 'de', 'ADP', 12, 'case'), ('su', 'su', 'DET', 12, 'det'), ('santo', 'santo', 'NOUN', 9, 'nmod')], [('A', 'a', 'ADP', 3, 'case'), ('la', 'el', 'DET', 3, 'det'), ('niña', 'niña', 'NOUN', 0, 'root'), ('Margarita', 'margarita', 'PROPN', 3, 'appos'), ('Aurora', 'aurora', 'PROPN', 4, 'flat'), ('de', 'de', 'ADP', 7, 'case'), ('Wilson', 'wilson', 'PROPN', 4, 'flat'), ('y', 'y', 'CCONJ', 9, 'cc'), ('Serrano', 'Serrano', 'PROPN', 4, 'conj'), (',', ',', 'PUNCT', 12, 'punct'), ('el', 'el', 'DET', 12, 'det'), ('día', 'día', 'NOUN', 3, 'appos'), ('de', 'de', 'ADP', 15, 'case'), ('su', 'su', 'DET', 15, 'det'), ('cumpleaños', 'cumpleaños', 'NOUN', 12, 'nmod')], [('Costumbres', 'costumbres', 'NOUN', 0, 'root'), ('de', 'de', 'ADP', 4, 'case'), ('el', 'el', 'DET', 4, 'det'), ('siglo', 'siglo', 'NOUN', 1, 'nmod'), ('XIX', 'xix', 'NUM', 4, 'nummod'), ('.', '.', 'PUNCT', 1, 'punct'), ('I', 'i', 'NUM', 0, 'root')], [('Margarita', 'margarita', 'PROPN', 0, 'root'), ('.', '.', 'PUNCT', 1, 'punct'), ('Novela', 'novela', 'NOUN', 0, 'root'), ('bretona', 'bretono', 'ADJ', 1, 'amod')], [('Los', 'el', 'DET', 2, 'det'), ('escondidos', 'esconder', 'ADJ', 0, 'root'), ('y', 'y', 'CCONJ', 5, 'cc'), ('la', 'el', 'DET', 5, 'det'), ('tapada', 'tapada', 'NOUN', 2, 'conj'), ('.', '.', 'PUNCT', 2, 'punct'), ('Fragmentos', 'fragmentos', 'NOUN', 0, 'root')], [('A', 'a', 'ADP', 4, 'case'), ('mi', 'mi', 'DET', 4, 'det'), ('apreciable', 'apreciable', 'ADJ', 4, 'amod'), ('amiga', 'amiga', 'NOUN', 0, 'root'), ('la', 'el', 'DET', 6, 'det'), ('Señora', 'señora', 'PROPN', 4, 'appos'), ('doña', 'doña', 'PROPN', 6, 'appos'), ('M.', 'M.', 'PROPN', 7, 'flat'), ('De', 'de', 'ADP', 11, 'case'), ('el', 'el', 'DET', 11, 'det'), ('Pilar', 'Pilar', 'PROPN', 7, 'flat'), ('Sinués', 'Sinués', 'PROPN', 7, 'flat'), ('de', 'de', 'ADP', 14, 'case'), ('Marco', 'marco', 'PROPN', 6, 'flat'), ('en', 'en', 'ADP', 17, 'case'), ('su', 'su', 'DET', 17, 'det'), ('álbum', 'álbum', 'NOUN', 6, 'nmod')], [('Costumbres', 'costumbres', 'NOUN', 0, 'root'), ('de', 'de', 'ADP', 4, 'case'), ('el', 'el', 'DET', 4, 'det'), ('siglo', 'siglo', 'NOUN', 1, 'nmod'), ('XIX', 'xix', 'NUM', 4, 'nummod'), ('.', '.', 'PUNCT', 1, 'punct'), ('II', 'ii', 'NUM', 0, 'root')], [('Margarita', 'margarita', 'PROPN', 0, 'root'), ('.', '.', 'PUNCT', 1, 'punct'), ('Novela', 'novela', 'NOUN', 0, 'root'), ('bretona', 'bretono', 'ADJ', 1, 'amod'), ('.', '.', 'PUNCT', 1, 'punct'), ('(', '(', 'PUNCT', 2, 'punct'), ('Continuación', 'continuación', 'NOUN', 0, 'root'), (')', ')', 'PUNCT', 2, 'punct')], [('A', 'a', 'ADP', 3, 'case'), ('la', 'el', 'DET', 3, 'det'), ('niña', 'niña', 'NOUN', 0, 'root'), ('Margarita', 'margarita', 'PROPN', 3, 'appos'), ('Aurora', 'aurora', 'PROPN', 4, 'flat'), ('de', 'de', 'ADP', 7, 'case'), ('Wilson', 'wilson', 'PROPN', 4, 'flat'), ('y', 'y', 'CCONJ', 9, 'cc'), ('Serrano', 'Serrano', 'PROPN', 4, 'conj')], [('A', 'a', 'ADP', 2, 'case'), ('María', 'María', 'PROPN', 0, 'root')], [('A', 'a', 'ADP', 3, 'case'), ('su', 'su', 'DET', 3, 'det'), ('Alteza', 'alteza', 'PROPN', 6, 'nmod'), ('Real', 'real', 'PROPN', 3, 'amod'), ('el', 'el', 'DET', 6, 'det'), ('Príncipe', 'Príncipe', 'PROPN', 0, 'root'), ('de', 'de', 'ADP', 8, 'case'), ('Asturias', 'Asturias', 'PROPN', 6, 'nmod')], [('Margarita', 'margarita', 'PROPN', 0, 'root'), ('.', '.', 'PUNCT', 1, 'punct'), ('Novela', 'novela', 'NOUN', 0, 'root'), ('bretona', 'bretono', 'ADJ', 1, 'amod'), ('.', '.', 'PUNCT', 1, 'punct'), ('(', '(', 'PUNCT', 2, 'punct'), ('Conclusión', 'Conclusión', 'PROPN', 0, 'root'), (')', ')', 'PUNCT', 2, 'punct')], [('El', 'el', 'DET', 2, 'det'), ('otoño', 'otoño', 'NOUN', 0, 'root')], [('Soneto', 'soneto', 'PROPN', 0, 'root'), ('.', '.', 'PUNCT', 1, 'punct'), ('\"', '\"', 'PUNCT', 4, 'punct'), ('Aún', 'aún', 'ADV', 3, 'advmod'), ('eco', 'eco', 'NOUN', 4, 'nsubj'), ('tienen', 'tener', 'VERB', 0, 'root'), ('en', 'en', 'ADP', 7, 'case'), ('el', 'el', 'DET', 7, 'det'), ('alma', 'alma', 'NOUN', 4, 'obl'), ('mía', 'mía', 'DET', 7, 'amod'), ('...', '...', 'PUNCT', 4, 'punct'), ('\"', '\"', 'PUNCT', 4, 'punct')], [('Atentado', 'atentado', 'NOUN', 0, 'root'), ('contra', 'contra', 'ADP', 3, 'case'), ('SS.', 'ss.', 'PROPN', 1, 'nmod'), ('MM.', 'mm.', 'PROPN', 3, 'flat'), ('II', 'ii', 'NUM', 3, 'nummod'), ('.', '.', 'PUNCT', 1, 'punct')], [('\"', '\"', 'PUNCT', 3, 'punct'), ('El', 'el', 'DET', 3, 'det'), ('matrimonio', 'matrimonio', 'NOUN', 0, 'root'), ('de', 'de', 'ADP', 6, 'case'), ('la', 'el', 'DET', 6, 'det'), ('Princesa', 'Princesa', 'PROPN', 3, 'nmod'), ('real', 'real', 'PROPN', 6, 'flat'), ('de', 'de', 'ADP', 9, 'case'), ('Inglaterra', 'inglaterra', 'PROPN', 6, 'flat'), ('[', '[', 'PUNCT', 3, 'punct'), ('...', '...', 'PUNCT', 3, 'punct'), (']\"', ']\"', 'PUNCT', 3, 'punct'), ('-', '-', 'PUNCT', 3, 'punct'), ('\"', '\"', 'PUNCT', 15, 'punct'), ('Hace', 'hacer', 'VERB', 3, 'acl'), ('algunos', 'alguno', 'DET', 17, 'det'), ('años', 'año', 'NOUN', 15, 'obl'), ('que', 'que', 'SCONJ', 20, 'mark'), ('un', 'uno', 'DET', 20, 'det'), ('banquero', 'banquero', 'NOUN', 15, 'obj'), ('muy', 'mucho', 'ADV', 22, 'advmod'), ('rico', 'rico', 'ADJ', 20, 'amod'), ('[', '[', 'PUNCT', 20, 'punct'), ('...', '...', 'PUNCT', 28, 'punct'), (']\"', ']\"', 'PUNCT', 28, 'punct'), ('-\"', '-\"', 'PUNCT', 28, 'punct'), ('Varios', 'varios', 'DET', 28, 'det'), ('periódicos', 'periódico', 'NOUN', 20, 'appos'), ('franceses', 'francés', 'ADJ', 28, 'amod'), ('y', 'y', 'CCONJ', 33, 'cc'), ('de', 'de', 'ADP', 33, 'case'), ('el', 'el', 'DET', 33, 'det'), ('extranjero', 'extranjero', 'NOUN', 29, 'conj'), ('[', '[', 'PUNCT', 28, 'punct'), ('...', '...', 'PUNCT', 28, 'punct'), (']', ']', 'PUNCT', 28, 'punct'), ('\"', '\"', 'PUNCT', 15, 'punct')], [('A', 'a', 'ADP', 3, 'case'), ('la', 'el', 'DET', 3, 'det'), ('Poesía', 'poesía', 'PROPN', 0, 'root'), ('.', '.', 'PUNCT', 3, 'punct'), ('Oda', 'oda', 'PROPN', 0, 'root')], [('A', 'a', 'ADP', 4, 'case'), ('mi', 'mi', 'DET', 4, 'det'), ('buen', 'buen', 'ADJ', 4, 'amod'), ('amigo', 'amigo', 'NOUN', 0, 'root'), ('el', 'el', 'DET', 7, 'det'), ('distinguido', 'distinguir', 'ADJ', 7, 'amod'), ('escritor', 'escritor', 'NOUN', 4, 'nsubj'), ('don', 'don', 'ADJ', 7, 'appos'), ('Alejandro', 'alejandro', 'PROPN', 7, 'appos'), ('Dumas', 'dumas', 'PROPN', 9, 'flat'), ('en', 'en', 'ADP', 12, 'case'), ('prueba', 'prueba', 'NOUN', 7, 'nmod'), ('de', 'de', 'ADP', 15, 'case'), ('sincera', 'sincero', 'ADJ', 15, 'amod'), ('amistad', 'amistad', 'NOUN', 12, 'nmod')], [('A', 'a', 'ADP', 3, 'case'), ('la', 'el', 'DET', 3, 'det'), ('luna', 'luna', 'NOUN', 0, 'root'), ('.', '.', 'PUNCT', 3, 'punct'), ('Soneto', 'soneto', 'NOUN', 0, 'root')], [('Las', 'el', 'DET', 2, 'det'), ('apariencias', 'apariencia', 'NOUN', 3, 'nsubj'), ('engañan', 'engañar', 'VERB', 0, 'root'), ('.', '.', 'PUNCT', 3, 'punct'), ('Historia-cuento', 'historia-cuento', 'NOUN', 0, 'root')], [('\"', '\"', 'PUNCT', 3, 'punct'), ('El', 'el', 'DET', 3, 'det'), ('viaje', 'viaje', 'NOUN', 0, 'root'), ('de', 'de', 'ADP', 5, 'case'), ('SS.', 'ss.', 'PROPN', 3, 'nmod'), ('AA.', 'aa.', 'PROPN', 22, 'nsubj'), ('[', '[', 'PUNCT', 1, 'punct'), ('...', '...', 'PUNCT', 22, 'punct'), (']\"', ']\"', 'PUNCT', 7, 'punct'), ('-\"', '-\"', 'PUNCT', 22, 'punct'), ('El', 'el', 'DET', 7, 'det'), ('sábado', 'sábado', 'NOUN', 22, 'obl'), ('a', 'a', 'ADP', 10, 'case'), ('la', 'el', 'DET', 10, 'det'), ('una', 'uno', 'PRON', 7, 'nmod'), ('[', '[', 'PUNCT', 7, 'punct'), ('...', '...', 'PUNCT', 7, 'punct'), (']\"', ']\"', 'PUNCT', 7, 'punct'), ('-\"', '-\"', 'PUNCT', 22, 'punct'), ('El', 'el', 'DET', 16, 'det'), ('príncipe', 'príncipe', 'NOUN', 22, 'nsubj'), ('Mirza-Ally-Kan-Bahadoor', 'Mirza-Ally-Kan-Bahadoor', 'PROPN', 16, 'appos'), ('[', '[', 'PUNCT', 22, 'punct'), ('...', '...', 'PUNCT', 22, 'punct'), (']\"', ']\"', 'PUNCT', 22, 'punct'), ('-\"', '-\"', 'PUNCT', 22, 'punct'), ('Habláse', 'hablar', 'VERB', 0, 'root'), ('mucho', 'mucho', 'PRON', 22, 'advmod'), ('en', 'en', 'ADP', 26, 'case'), ('los', 'el', 'DET', 26, 'det'), ('círculos', 'círculo', 'NOUN', 22, 'obl'), ('aristocrático', 'aristocrático', 'ADJ', 26, 'amod'), ('de', 'de', 'ADP', 30, 'case'), ('un', 'uno', 'DET', 30, 'det'), ('matrimonio', 'matrimonio', 'NOUN', 26, 'nmod'), ('[', '[', 'PUNCT', 22, 'punct'), ('...', '...', 'PUNCT', 22, 'punct'), (']', ']', 'PUNCT', 22, 'punct'), ('\"', '\"', 'PUNCT', 22, 'punct')], [('El', 'el', 'DET', 2, 'det'), ('invierno', 'invierno', 'NOUN', 0, 'root')], [('La', 'el', 'DET', 2, 'det'), ('hada', 'hada', 'NOUN', 0, 'root'), ('azul', 'azul', 'ADJ', 2, 'amod')], [('\"', '\"', 'PUNCT', 10, 'punct'), ('El', 'el', 'DET', 3, 'det'), ('lunes', 'lunes', 'NOUN', 10, 'obl'), ('5', '5', 'NUM', 3, 'appos'), ('de', 'de', 'ADP', 7, 'case'), ('el', 'el', 'DET', 7, 'det'), ('corriente', 'corriente', 'NOUN', 3, 'nmod'), ('se', 'él', 'PRON', 10, 'expl:pv'), ('ha', 'haber', 'AUX', 10, 'aux'), ('inaugurado', 'inaugurar', 'VERB', 0, 'root'), ('[', '[', 'PUNCT', 10, 'punct'), ('...', '...', 'PUNCT', 15, 'punct'), (']\"', ']\"', 'PUNCT', 15, 'punct'), ('-\"', '-\"', 'PUNCT', 15, 'punct'), ('Vamos', 'ir', 'VERB', 10, 'xcomp'), ('a', 'a', 'ADP', 17, 'mark'), ('contar', 'contar', 'VERB', 15, 'xcomp'), ('una', 'uno', 'DET', 19, 'det'), ('historia', 'historia', 'NOUN', 17, 'obj'), ('ocurrida', 'ocurrir', 'ADJ', 19, 'acl'), ('en', 'en', 'ADP', 23, 'case'), ('estos', 'este', 'DET', 23, 'det'), ('días', 'día', 'NOUN', 20, 'obl'), ('de', 'de', 'ADP', 25, 'case'), ('Pascua\"', 'Pascua\"', 'PROPN', 23, 'nmod'), ('-\"', '-\"', 'PUNCT', 28, 'punct'), ('Cuando', 'cuando', 'SCONJ', 28, 'mark'), ('Ismail', 'Ismail', 'PROPN', 15, 'nsubj'), (',', ',', 'PUNCT', 30, 'punct'), ('generalísimo', 'generalísimo', 'NOUN', 28, 'appos'), ('de', 'de', 'ADP', 33, 'case'), ('el', 'el', 'DET', 33, 'det'), ('ejército', 'ejército', 'NOUN', 30, 'nmod'), ('otomano', 'otomano', 'ADJ', 33, 'amod'), ('[', '[', 'PUNCT', 28, 'punct'), ('...', '...', 'PUNCT', 28, 'punct'), (']', ']', 'PUNCT', 30, 'punct'), ('\"', '\"', 'PUNCT', 15, 'punct')], [('El', 'el', 'DET', 2, 'det'), ('navío', 'navío', 'NOUN', 0, 'root'), ('Leviatán', 'leviatán', 'PROPN', 2, 'appos')], [('Ayes', 'ayes', 'PROPN', 0, 'root'), ('de', 'de', 'ADP', 4, 'case'), ('el', 'el', 'DET', 4, 'det'), ('corazón', 'corazón', 'NOUN', 1, 'flat')], [('Carta', 'carta', 'NOUN', 0, 'root'), ('de', 'de', 'ADP', 3, 'case'), ('M.', 'M.', 'PROPN', 1, 'nmod'), ('de', 'de', 'ADP', 5, 'case'), ('Lamartine', 'Lamartine', 'PROPN', 3, 'flat')], [('Introducción', 'introducción', 'NOUN', 0, 'root')], [('Isabel', 'isabel', 'PROPN', 0, 'root'), ('II', 'ii', 'NUM', 1, 'nummod')], [('Hamlet', 'Hamlet', 'PROPN', 0, 'root')], [('\"', '\"', 'PUNCT', 22, 'punct'), ('Lo', 'él', 'PRON', 6, 'det'), ('que', 'que', 'PRON', 6, 'obj'), ('cada', 'cada', 'DET', 5, 'det'), ('lector', 'lector', 'NOUN', 6, 'nsubj'), ('pide', 'pedir', 'VERB', 22, 'csubj'), ('[', '[', 'PUNCT', 6, 'punct'), ('...', '...', 'PUNCT', 6, 'punct'), (']\"', ']\"', 'PUNCT', 11, 'punct'), ('-La', '-la', 'DET', 11, 'det'), ('trata', 'trata', 'NOUN', 6, 'obj'), ('de', 'de', 'ADP', 13, 'case'), ('blancas-De', 'blancas-de', 'NOUN', 15, 'case'), ('la', 'el', 'DET', 15, 'det'), ('decadencia', 'decadencia', 'NOUN', 11, 'nmod'), ('de', 'de', 'ADP', 18, 'case'), ('las', 'el', 'DET', 18, 'det'), ('costumbres', 'costumbre', 'NOUN', 15, 'nmod'), ('-\"', '-\"', 'PUNCT', 22, 'punct'), ('La', 'el', 'DET', 21, 'det'), ('Malibran', 'malibran', 'PROPN', 22, 'nsubj'), ('recibía', 'recibir', 'VERB', 0, 'root'), ('en', 'en', 'ADP', 24, 'case'), ('Londres', 'Londres', 'PROPN', 22, 'obl'), ('[', '[', 'PUNCT', 30, 'punct'), ('...', '...', 'PUNCT', 22, 'punct'), (']\"', ']\"', 'PUNCT', 30, 'punct'), ('-\"', '-\"', 'PUNCT', 30, 'punct'), ('El', 'el', 'DET', 30, 'det'), ('gobierno', 'gobierno', 'NOUN', 22, 'obj'), ('de', 'de', 'ADP', 33, 'case'), ('el', 'el', 'DET', 33, 'det'), ('Brasil', 'Brasil', 'PROPN', 30, 'nmod'), ('[', '[', 'PUNCT', 30, 'punct'), ('...', '...', 'PUNCT', 22, 'punct'), (']', ']', 'PUNCT', 30, 'punct'), ('\"', '\"', 'PUNCT', 22, 'punct')], [('\"', '\"', 'PUNCT', 2, 'punct'), ('Consignamos', 'consignar', 'VERB', 0, 'root'), ('la', 'el', 'DET', 4, 'det'), ('acarta', 'acarta', 'NOUN', 2, 'obj'), ('original', 'original', 'ADJ', 4, 'amod'), ('qu', 'qu', 'PROPN', 9, 'nsubj'), ('enos', 'enos', 'PROPN', 6, 'flat'), ('ha', 'haber', 'AUX', 9, 'aux'), ('dirigido', 'dirigir', 'VERB', 2, 'ccomp'), ('M.', 'M.', 'PROPN', 9, 'obj'), ('de', 'de', 'ADP', 12, 'case'), ('Lamartine', 'Lamartine', 'PROPN', 10, 'flat'), ('[', '[', 'PUNCT', 9, 'punct'), ('...', '...', 'PUNCT', 2, 'punct'), (']', ']', 'PUNCT', 2, 'punct'), ('\"', '\"', 'PUNCT', 2, 'punct')], [('Porvenir', 'porvenir', 'PROPN', 0, 'root'), ('de', 'de', 'ADP', 4, 'case'), ('la', 'el', 'DET', 4, 'det'), ('raza', 'raza', 'NOUN', 1, 'nmod'), ('latina', 'latino', 'ADJ', 4, 'amod'), ('y', 'y', 'CCONJ', 9, 'cc'), ('de', 'de', 'ADP', 9, 'case'), ('la', 'el', 'DET', 9, 'det'), ('Francia', 'francia', 'PROPN', 4, 'conj'), ('en', 'en', 'ADP', 12, 'case'), ('el', 'el', 'DET', 12, 'det'), ('Nuevo-Mundo', 'Nuevo-Mundo', 'PROPN', 1, 'nmod'), ('.', '.', 'PUNCT', 1, 'punct'), ('Introducción', 'introducción', 'NOUN', 0, 'root')], [('Confederación', 'Confederación', 'PROPN', 0, 'root'), ('Argentina', 'argentina', 'PROPN', 1, 'amod'), ('y', 'y', 'CCONJ', 4, 'cc'), ('república', 'república', 'NOUN', 1, 'conj'), ('de', 'de', 'ADP', 8, 'case'), ('el', 'el', 'DET', 8, 'det'), ('Uruguay-Le', 'Uruguay-Le', 'PROPN', 8, 'amod'), ('Paraguay', 'paraguay', 'PROPN', 1, 'nmod')], [('S.', 'S.', 'PROPN', 0, 'root'), ('M.', 'M.', 'PROPN', 1, 'flat'), ('La', 'el', 'DET', 4, 'det'), ('emperatriz', 'emperatriz', 'NOUN', 1, 'appos'), ('de', 'de', 'ADP', 7, 'case'), ('los', 'el', 'DET', 7, 'det'), ('franceses', 'francés', 'NOUN', 4, 'nmod')], [('Cursos', 'curso', 'NOUN', 0, 'root'), ('familiares', 'familiar', 'ADJ', 1, 'amod'), ('de', 'de', 'ADP', 4, 'case'), ('literatura', 'literatura', 'NOUN', 1, 'nmod'), ('.', '.', 'PUNCT', 1, 'punct'), ('La', 'el', 'DET', 2, 'det'), ('pintura', 'pintura', 'NOUN', 0, 'root')], [('El', 'el', 'DET', 2, 'det'), ('perro', 'perro', 'NOUN', 0, 'root'), ('de', 'de', 'ADP', 4, 'case'), ('Zurbarán', 'zurbarán', 'PROPN', 2, 'nmod')], [('Serenatas', 'serenatas', 'PROPN', 0, 'root'), ('.', '.', 'PUNCT', 1, 'punct'), ('Introducción', 'introducción', 'NOUN', 0, 'root'), ('.', '.', 'PUNCT', 1, 'punct'), ('(', '(', 'PUNCT', 2, 'punct'), ('Fragmentos', 'Fragmentos', 'PROPN', 0, 'root'), (')', ')', 'PUNCT', 2, 'punct')], [('Lo', 'él', 'PRON', 3, 'det'), ('que', 'que', 'PRON', 3, 'nsubj'), ('viene', 'venir', 'VERB', 11, 'csubj'), ('a', 'a', 'ADP', 7, 'mark'), ('ser', 'ser', 'AUX', 7, 'cop'), ('un', 'uno', 'DET', 7, 'det'), ('periodista', 'periodista', 'NOUN', 3, 'xcomp'), ('inglés', 'inglés', 'ADJ', 7, 'amod'), ('-\"', '-\"', 'PUNCT', 11, 'punct'), ('Ha', 'haber', 'AUX', 11, 'aux'), ('sucedido', 'suceder', 'VERB', 0, 'root'), ('en', 'en', 'ADP', 14, 'case'), ('los', 'el', 'DET', 14, 'det'), ('alrededores', 'alrededor', 'NOUN', 11, 'obl'), ('de', 'de', 'ADP', 16, 'case'), ('Filadelfia', 'filadelfia', 'PROPN', 14, 'nmod'), ('[', '[', 'PUNCT', 11, 'punct'), ('...', '...', 'PUNCT', 11, 'punct'), (']\"', ']\"', 'PUNCT', 11, 'punct'), ('-Máximas', '-máximas', 'NOUN', 11, 'punct')], [('Recuerdo', 'recordar', 'VERB', 0, 'root'), ('.', '.', 'PUNCT', 1, 'punct'), ('Un', 'uno', 'DET', 2, 'det'), ('baile', 'baile', 'NOUN', 0, 'root'), ('en', 'en', 'ADP', 5, 'case'), ('el', 'el', 'DET', 5, 'det'), ('hotel', 'hotel', 'NOUN', 2, 'nmod'), ('de', 'de', 'ADP', 7, 'case'), ('Ville', 'ville', 'PROPN', 5, 'nmod'), (',', ',', 'PUNCT', 10, 'punct'), ('en', 'en', 'ADP', 10, 'case'), ('1859', '1859', 'NUM', 5, 'nmod')], [('Abertura', 'abertura', 'PROPN', 0, 'root'), ('de', 'de', 'ADP', 4, 'case'), ('el', 'el', 'DET', 4, 'det'), ('Paraguay', 'paraguay', 'PROPN', 1, 'nmod'), ('y', 'y', 'CCONJ', 8, 'cc'), ('de', 'de', 'ADP', 8, 'case'), ('los', 'el', 'DET', 8, 'det'), ('ríos', 'río', 'NOUN', 4, 'conj')], [('La', 'el', 'DET', 2, 'det'), ('Escma', 'Escma', 'PROPN', 0, 'root'), ('.', '.', 'PUNCT', 2, 'punct'), ('Sra', 'sra', 'PROPN', 0, 'root'), ('.', '.', 'PUNCT', 1, 'punct'), ('Dª', 'dª', 'PROPN', 0, 'root'), ('Gertrudis', 'Gertrudis', 'PROPN', 1, 'flat'), ('Gómez', 'Gómez', 'PROPN', 1, 'flat'), ('de', 'de', 'ADP', 5, 'case'), ('Avellaneda', 'avellaneda', 'PROPN', 1, 'nmod')], [('El', 'el', 'DET', 2, 'det'), ('20', '20', 'NUM', 0, 'root'), ('de', 'de', 'ADP', 4, 'case'), ('marzo', 'marzo', 'PROPN', 2, 'nmod')], [('Cursos', 'curso', 'NOUN', 0, 'root'), ('familiares', 'familiar', 'ADJ', 1, 'amod'), ('de', 'de', 'ADP', 4, 'case'), ('literatura', 'literatura', 'NOUN', 1, 'nmod'), ('.', '.', 'PUNCT', 1, 'punct'), ('Leopoldo', 'Leopoldo', 'PROPN', 0, 'root'), ('Robert', 'robert', 'PROPN', 1, 'flat')], [('Leyenda', 'leyenda', 'NOUN', 0, 'root'), ('pastoral', 'pastoral', 'ADJ', 1, 'amod')], [('La', 'el', 'DET', 2, 'det'), ('dalia', 'dalia', 'NOUN', 0, 'root')], [('\"', '\"', 'PUNCT', 2, 'punct'), ('Leemos', 'leer', 'VERB', 0, 'root'), ('en', 'en', 'ADP', 5, 'case'), ('el', 'el', 'DET', 5, 'det'), ('Monitor', 'Monitor', 'PROPN', 2, 'obl'), ('[', '[', 'PUNCT', 2, 'punct'), ('...', '...', 'PUNCT', 2, 'punct'), (']\"', ']\"', 'PUNCT', 2, 'punct'), ('-\"', '-\"', 'PUNCT', 13, 'punct'), ('Según', 'según', 'ADP', 13, 'case'), ('el', 'el', 'DET', 13, 'det'), (\"'\", \"'\", 'PUNCT', 13, 'punct'), ('Anuario', 'anuario', 'PROPN', 2, 'obl'), ('diplomático', 'diplomático', 'ADJ', 13, 'amod'), ('de', 'de', 'ADP', 16, 'case'), ('1859', '1859', 'NOUN', 13, 'nmod'), (\"'\", \"'\", 'PUNCT', 13, 'punct'), ('[', '[', 'PUNCT', 13, 'punct'), ('...', '...', 'PUNCT', 13, 'punct'), (']\"', ']\"', 'PUNCT', 13, 'punct'), ('-\"', '-\"', 'PUNCT', 2, 'punct'), ('Hace', 'hacer', 'VERB', 2, 'advcl'), ('algunas', 'alguno', 'DET', 24, 'det'), ('semanas', 'semana', 'NOUN', 22, 'obl'), ('que', 'que', 'SCONJ', 27, 'mark'), ('los', 'el', 'DET', 27, 'det'), ('diarios', 'diario', 'NOUN', 22, 'obl'), ('de', 'de', 'ADP', 30, 'case'), ('el', 'el', 'DET', 30, 'det'), ('Alto', 'alto', 'PROPN', 27, 'nmod'), ('y', 'y', 'CCONJ', 34, 'cc'), ('de', 'de', 'ADP', 34, 'case'), ('el', 'el', 'DET', 34, 'det'), ('Bajo', 'bajo', 'PROPN', 30, 'conj'), ('Rin', 'rin', 'PROPN', 30, 'conj'), ('[', '[', 'PUNCT', 22, 'punct'), ('...', '...', 'PUNCT', 22, 'punct'), (']\"', ']\"', 'PUNCT', 13, 'punct'), ('-\"', '-\"', 'PUNCT', 2, 'punct'), ('He', 'haber', 'AUX', 2, 'advcl'), ('aquí', 'aquí', 'ADV', 40, 'advmod'), ('la', 'el', 'DET', 44, 'det'), ('siguiente', 'siguiente', 'ADJ', 44, 'amod'), ('anécdota', 'anécdota', 'NOUN', 2, 'advcl'), ('[', '[', 'PUNCT', 44, 'punct'), ('...', '...', 'PUNCT', 44, 'punct'), (']\"', ']\"', 'PUNCT', 52, 'punct'), ('-\"', '-\"', 'PUNCT', 52, 'punct'), ('Un', 'uno', 'DET', 50, 'det'), ('curioso', 'curioso', 'ADJ', 52, 'nsubj'), ('ha', 'haber', 'AUX', 52, 'aux'), ('dicho', 'decir', 'VERB', 2, 'advcl'), ('[', '[', 'PUNCT', 52, 'punct'), ('...', '...', 'PUNCT', 52, 'punct'), (']\"', ']\"', 'PUNCT', 58, 'punct'), ('-\"', '-\"', 'PUNCT', 58, 'punct'), ('El', 'el', 'DET', 58, 'det'), ('matrimonio', 'matrimonio', 'NOUN', 52, 'obj'), ('de', 'de', 'ADP', 61, 'case'), ('el', 'el', 'DET', 61, 'det'), ('hijo', 'hijo', 'NOUN', 58, 'nmod'), ('mayor', 'mayor', 'ADJ', 61, 'amod'), ('[', '[', 'PUNCT', 66, 'punct'), ('...', '...', 'PUNCT', 66, 'punct'), (']\"', ']\"', 'PUNCT', 66, 'punct'), ('-Savonnette', '-Savonnette', 'PROPN', 58, 'appos'), ('a', 'a', 'ADP', 68, 'case'), ('vilain', 'vilain', 'PROPN', 66, 'flat')], [('Carta', 'carta', 'NOUN', 0, 'root'), ('de', 'de', 'ADP', 3, 'case'), ('Ramón', 'ramón', 'PROPN', 1, 'nmod'), ('de', 'de', 'ADP', 6, 'case'), ('la', 'el', 'DET', 6, 'det'), ('Sagra', 'sagra', 'PROPN', 3, 'flat')], [('Artículo', 'artículo', 'NOUN', 0, 'root'), ('I.', 'i.', 'NUM', 1, 'nummod'), ('Los', 'el', 'DET', 4, 'det'), ('Estados-Unidos', 'Estados-Unidos', 'PROPN', 1, 'appos'), ('y', 'y', 'CCONJ', 7, 'cc'), ('el', 'el', 'DET', 7, 'det'), ('Paraguay', 'paraguay', 'PROPN', 4, 'conj')], [('Costumbres', 'costumbres', 'NOUN', 0, 'root'), ('andaluzas', 'andaluza', 'ADJ', 1, 'amod'), ('.', '.', 'PUNCT', 1, 'punct'), ('Los', 'el', 'DET', 3, 'det'), ('dos', 'dos', 'NUM', 1, 'nummod'), ('marineros', 'marinero', 'NOUN', 0, 'root')], [('Viaje', 'viaje', 'NOUN', 0, 'root'), ('por', 'por', 'ADP', 4, 'case'), ('un', 'uno', 'DET', 4, 'det'), ('vestido', 'vestido', 'NOUN', 1, 'nmod'), ('de', 'de', 'ADP', 6, 'case'), ('boda', 'boda', 'NOUN', 4, 'nmod')], [('SS.', 'ss.', 'PROPN', 0, 'root'), ('AA.', 'aa.', 'PROPN', 1, 'flat'), ('II', 'ii', 'NUM', 1, 'nummod'), ('el', 'el', 'DET', 5, 'det'), ('príncipe', 'príncipe', 'NOUN', 1, 'appos'), ('y', 'y', 'CCONJ', 8, 'cc'), ('la', 'el', 'DET', 8, 'det'), ('princesa', 'princesa', 'NOUN', 5, 'conj'), ('Napoleón', 'napoleón', 'PROPN', 8, 'appos')], [('El', 'el', 'DET', 2, 'det'), ('miércoles', 'miércoles', 'NOUN', 0, 'root'), ('de', 'de', 'ADP', 4, 'case'), ('ceniza', 'ceniza', 'NOUN', 2, 'nmod')], [('Cursos', 'curso', 'NOUN', 0, 'root'), ('familiares', 'familiar', 'ADJ', 1, 'amod'), ('de', 'de', 'ADP', 4, 'case'), ('literatura', 'literatura', 'NOUN', 1, 'nmod'), ('.', '.', 'PUNCT', 1, 'punct'), ('Leopoldo', 'Leopoldo', 'PROPN', 0, 'root'), ('Robert', 'robert', 'PROPN', 1, 'flat'), ('.', '.', 'PUNCT', 1, 'punct'), ('(', '(', 'PUNCT', 5, 'punct'), ('Conclusión', 'Conclusión', 'PROPN', 1, 'appos'), (')', ')', 'PUNCT', 5, 'punct')], [('\"', '\"', 'PUNCT', 18, 'punct'), ('Pues', 'pues', 'SCONJ', 8, 'mark'), ('que', 'que', 'SCONJ', 8, 'mark'), ('en', 'en', 'ADP', 6, 'case'), ('nuestros', 'nuestro', 'DET', 6, 'det'), ('días', 'día', 'NOUN', 8, 'obl'), ('se', 'él', 'PRON', 8, 'expl:pass'), ('hacen', 'hacer', 'VERB', 18, 'advcl'), ('tantos', 'tanto', 'DET', 10, 'det'), ('adelantos', 'adelanto', 'NOUN', 8, 'nsubj'), ('en', 'en', 'ADP', 13, 'case'), ('la', 'el', 'DET', 13, 'det'), ('fotografía', 'fotografía', 'NOUN', 8, 'obl'), ('[', '[', 'PUNCT', 8, 'punct'), ('...', '...', 'PUNCT', 8, 'punct'), (']\"', ']\"', 'PUNCT', 8, 'punct'), ('-\"', '-\"', 'PUNCT', 18, 'punct'), ('Acaba', 'acabar', 'VERB', 0, 'root'), ('de', 'de', 'ADP', 20, 'mark'), ('llegar', 'llegar', 'VERB', 18, 'xcomp'), ('de', 'de', 'ADP', 22, 'case'), ('San', 'san', 'PROPN', 20, 'obl'), ('Petesburgo', 'petesburgo', 'PROPN', 22, 'flat'), ('[', '[', 'PUNCT', 30, 'punct'), ('...', '...', 'PUNCT', 30, 'punct'), (']\"', ']\"', 'PUNCT', 30, 'punct'), ('-\"', '-\"', 'PUNCT', 30, 'punct'), ('El', 'el', 'DET', 29, 'det'), ('Entreacto', 'Entreacto', 'PROPN', 30, 'nsubj'), ('publica', 'publicar', 'VERB', 18, 'advcl'), ('un', 'uno', 'DET', 32, 'det'), ('acarta', 'acarta', 'NOUN', 30, 'obj'), ('fechada', 'fechada', 'ADJ', 32, 'amod'), ('en', 'en', 'ADP', 35, 'case'), ('Génova', 'génova', 'PROPN', 33, 'obl'), ('[', '[', 'PUNCT', 30, 'punct'), ('...', '...', 'PUNCT', 30, 'punct'), (']', ']', 'PUNCT', 30, 'punct'), ('\"', '\"', 'PUNCT', 30, 'punct')], [('Memorándum', 'Memorándum', 'NOUN', 0, 'root'), ('especial', 'especial', 'ADJ', 1, 'amod'), ('por', 'por', 'ADP', 5, 'case'), ('la', 'el', 'DET', 5, 'det'), ('guerra', 'guerra', 'NOUN', 1, 'nmod'), ('de', 'de', 'ADP', 7, 'case'), ('Italia', 'Italia', 'PROPN', 5, 'nmod')], [('Introducción', 'introducción', 'NOUN', 0, 'root')], [('Pbro', 'pbro', 'PROPN', 0, 'root'), ('.', '.', 'PUNCT', 1, 'punct'), ('D.', 'd.', 'PROPN', 0, 'root'), ('Félix', 'félix', 'PROPN', 1, 'flat'), ('Varela', 'varela', 'PROPN', 1, 'flat')], [('Las', 'el', 'DET', 2, 'det'), ('flores', 'flor', 'NOUN', 0, 'root'), ('de', 'de', 'ADP', 4, 'case'), ('mayo', 'mayo', 'NOUN', 2, 'nmod')], [('A', 'a', 'ADP', 3, 'case'), ('la', 'el', 'DET', 3, 'det'), ('catedral', 'catedral', 'NOUN', 0, 'root'), ('de', 'de', 'ADP', 5, 'case'), ('Bron', 'bron', 'PROPN', 3, 'nmod')], [('Viaje', 'viaje', 'NOUN', 0, 'root'), ('a', 'a', 'ADP', 4, 'case'), ('el', 'el', 'DET', 4, 'det'), ('rededpr', 'rededpr', 'NOUN', 1, 'nmod'), ('de', 'de', 'ADP', 7, 'case'), ('un', 'uno', 'DET', 7, 'det'), ('vestido', 'vestido', 'NOUN', 4, 'nmod'), ('de', 'de', 'ADP', 9, 'case'), ('boda', 'boda', 'NOUN', 7, 'nmod'), ('.', '.', 'PUNCT', 1, 'punct'), ('(', '(', 'PUNCT', 2, 'punct'), ('Conclusiones', 'conclusiones', 'NOUN', 0, 'root'), (')', ')', 'PUNCT', 2, 'punct')], [('Artículo', 'artículo', 'NOUN', 0, 'root'), ('II', 'ii', 'NUM', 1, 'nummod'), ('.', '.', 'PUNCT', 1, 'punct'), ('Los', 'el', 'DET', 2, 'det'), ('Estados-Unidos', 'Estados-Unidos', 'PROPN', 0, 'root'), ('y', 'y', 'CCONJ', 5, 'cc'), ('el', 'el', 'DET', 5, 'det'), ('Paraguay', 'paraguay', 'PROPN', 2, 'conj')], [('Una', 'uno', 'PRON', 0, 'root'), ('de', 'de', 'ADP', 3, 'case'), ('tantas', 'tanto', 'PRON', 1, 'nmod')], [('\"', '\"', 'PUNCT', 5, 'punct'), ('Para', 'para', 'ADP', 5, 'mark'), ('que', 'que', 'SCONJ', 5, 'mark'), ('se', 'él', 'PRON', 5, 'expl:pass'), ('vea', 'ver', 'VERB', 0, 'root'), ('cómo', 'cómo', 'PRON', 5, 'obl'), ('los', 'el', 'DET', 9, 'det'), ('principales', 'principal', 'ADJ', 9, 'amod'), ('intereses', 'interés', 'NOUN', 5, 'nsubj'), ('y', 'y', 'CCONJ', 11, 'cc'), ('amortización', 'amortización', 'NOUN', 9, 'conj'), ('de', 'de', 'ADP', 14, 'case'), ('la', 'el', 'DET', 14, 'det'), ('Deuda', 'deuda', 'PROPN', 9, 'nmod'), ('pública', 'público', 'ADJ', 14, 'amod'), ('[', '[', 'PUNCT', 5, 'punct'), ('...', '...', 'PUNCT', 5, 'punct'), (']', ']', 'PUNCT', 5, 'punct'), ('\"', '\"', 'PUNCT', 5, 'punct')], [('Carta', 'carta', 'NOUN', 0, 'root'), ('de', 'de', 'ADP', 3, 'case'), ('M.', 'M.', 'PROPN', 1, 'nmod'), ('Alejandro', 'alejandro', 'PROPN', 3, 'flat'), ('Dumas', 'dumas', 'PROPN', 3, 'flat')], [('Carta', 'carta', 'NOUN', 0, 'root'), ('de', 'de', 'ADP', 4, 'case'), ('el', 'el', 'DET', 4, 'det'), ('Sr.', 'sr.', 'PROPN', 1, 'nmod'), ('Guillemot', 'Guillemot', 'PROPN', 0, 'root')], [('Napoleón', 'napoleón', 'PROPN', 0, 'root'), ('III', 'iii', 'NUM', 1, 'nummod')], [('Víctor', 'Víctor', 'PROPN', 0, 'root'), ('Manuel', 'Manuel', 'PROPN', 1, 'flat'), ('II', 'ii', 'NUM', 1, 'nummod')], [('El', 'el', 'DET', 2, 'det'), ('oso', 'oso', 'NOUN', 0, 'root')], [('Poesía', 'poesía', 'NOUN', 0, 'root'), ('.', '.', 'PUNCT', 1, 'punct'), ('A', 'a', 'ADP', 3, 'case'), ('mi', 'mi', 'DET', 3, 'det'), ('amigo', 'amigo', 'NOUN', 0, 'root'), ('Mariano', 'mariano', 'PROPN', 3, 'appos'), ('G.', 'G.', 'PROPN', 4, 'flat'), ('Manrique', 'Manrique', 'PROPN', 4, 'flat')], [('Perfil', 'perfil', 'NOUN', 0, 'root'), ('inglés', 'inglés', 'ADJ', 1, 'amod')], [('La', 'el', 'DET', 2, 'det'), ('ostra', 'ostra', 'NOUN', 0, 'root')], [('Poesía', 'poesía', 'NOUN', 0, 'root'), ('.', '.', 'PUNCT', 1, 'punct'), ('A', 'a', 'ADP', 2, 'case'), ('Napoleón', 'napoleón', 'PROPN', 0, 'root'), ('III', 'iii', 'NUM', 2, 'nummod')], [('A', 'a', 'ADP', 3, 'case'), ('una', 'uno', 'DET', 3, 'det'), ('tumba', 'tumba', 'NOUN', 0, 'root'), ('en', 'en', 'ADP', 6, 'case'), ('el', 'el', 'DET', 6, 'det'), ('cementerio', 'cementerio', 'NOUN', 3, 'nmod'), ('de', 'de', 'ADP', 8, 'case'), ('Montmartre', 'montmartre', 'PROPN', 6, 'nmod'), ('.', '.', 'PUNCT', 3, 'punct'), ('(', '(', 'PUNCT', 2, 'punct'), ('Fragmento', 'Fragmento', 'PROPN', 0, 'root'), (')', ')', 'PUNCT', 2, 'punct')], [('Consideraciones', 'consideraciones', 'NOUN', 0, 'root'), ('sobre', 'sobre', 'ADP', 4, 'case'), ('los', 'el', 'DET', 4, 'det'), ('vestidos', 'vestido', 'NOUN', 1, 'nmod')], [('Gran', 'Gran', 'ADJ', 2, 'amod'), ('batalla', 'batalla', 'NOUN', 0, 'root'), ('de', 'de', 'ADP', 4, 'case'), ('Solferino', 'Solferino', 'PROPN', 2, 'nmod')], [('Memorándum', 'Memorándum', 'NOUN', 0, 'root'), ('especial', 'especial', 'ADJ', 1, 'amod'), ('por', 'por', 'ADP', 5, 'case'), ('la', 'el', 'DET', 5, 'det'), ('guerra', 'guerra', 'NOUN', 1, 'nmod'), ('de', 'de', 'ADP', 7, 'case'), ('Italia', 'Italia', 'PROPN', 5, 'nmod')], [('Batalla', 'batalla', 'PROPN', 0, 'root'), ('de', 'de', 'ADP', 3, 'case'), ('Solferino', 'Solferino', 'PROPN', 1, 'nmod'), ('.', '.', 'PUNCT', 1, 'punct'), ('El', 'el', 'DET', 2, 'det'), ('emperador', 'emperador', 'NOUN', 0, 'root'), ('a', 'a', 'ADP', 5, 'case'), ('la', 'el', 'DET', 5, 'det'), ('emperatriz', 'emperatriz', 'NOUN', 2, 'nmod')], [('Ejército', 'Ejército', 'PROPN', 0, 'root'), ('de', 'de', 'ADP', 3, 'case'), ('Italia', 'Italia', 'PROPN', 1, 'flat'), ('.', '.', 'PUNCT', 1, 'punct'), ('Proclama', 'proclamar', 'VERB', 0, 'root')], [('La', 'el', 'DET', 2, 'det'), ('entrevista', 'entrevista', 'NOUN', 0, 'root'), ('de', 'de', 'ADP', 4, 'case'), ('Villafranca', 'villafranca', 'PROPN', 2, 'nmod'), ('.', '.', 'PUNCT', 2, 'punct'), ('Nuevos', 'nuevo', 'ADJ', 2, 'amod'), ('detalles', 'detalle', 'NOUN', 0, 'root')], [('El', 'el', 'DET', 2, 'det'), ('mariscal', 'mariscal', 'NOUN', 0, 'root'), ('Vaillant', 'Vaillant', 'PROPN', 2, 'appos'), (',', ',', 'PUNCT', 6, 'punct'), ('mayor', 'mayor', 'ADJ', 6, 'amod'), ('general', 'general', 'NOUN', 2, 'appos'), ('de', 'de', 'ADP', 9, 'case'), ('el', 'el', 'DET', 9, 'det'), ('ejército', 'ejército', 'NOUN', 6, 'nmod'), ('de', 'de', 'ADP', 11, 'case'), ('Italia', 'Italia', 'PROPN', 9, 'nmod')], [('Poesía', 'poesía', 'NOUN', 0, 'root'), ('.', '.', 'PUNCT', 1, 'punct'), ('Costumbres', 'costumbres', 'NOUN', 0, 'root'), ('andaluzas', 'andaluza', 'ADJ', 1, 'amod'), ('.', '.', 'PUNCT', 1, 'punct'), ('Un', 'uno', 'DET', 2, 'det'), ('baile', 'baile', 'NOUN', 0, 'root'), ('de', 'de', 'ADP', 4, 'case'), ('candil', 'candil', 'NOUN', 2, 'nmod')], [('A', 'a', 'ADP', 3, 'case'), ('S.', 'S.', 'PROPN', 3, 'det'), ('M.', 'M.', 'PROPN', 5, 'nmod'), ('el', 'el', 'DET', 5, 'det'), ('emperador', 'emperador', 'NOUN', 0, 'root'), ('Napoleón', 'napoleón', 'PROPN', 5, 'appos'), ('III', 'iii', 'NUM', 6, 'nummod'), ('(', '(', 'PUNCT', 9, 'punct'), ('Fragmentos', 'Fragmentos', 'PROPN', 6, 'appos'), (')', ')', 'PUNCT', 9, 'punct')], [('Mi', 'mi', 'DET', 2, 'det'), ('fotografía', 'fotografía', 'NOUN', 0, 'root')], [('El', 'el', 'DET', 2, 'det'), ('festín', 'festín', 'NOUN', 0, 'root'), ('de', 'de', 'ADP', 4, 'case'), ('Baltasar', 'Baltasar', 'PROPN', 2, 'nmod'), ('.', '.', 'PUNCT', 2, 'punct'), ('Estudio', 'estudio', 'NOUN', 0, 'root'), ('bíblico', 'bíblico', 'ADJ', 1, 'amod')], [('Quién', 'quién', 'PRON', 3, 'nsubj'), ('es', 'ser', 'AUX', 3, 'cop'), ('el', 'el', 'DET', 0, 'root'), ('...', '...', 'PUNCT', 3, 'punct')], [('\"', '\"', 'PUNCT', 4, 'punct'), ('La', 'el', 'DET', 4, 'det'), ('primera', 'primero', 'ADJ', 4, 'amod'), ('quincena', 'quincena', 'NOUN', 0, 'root'), ('de', 'de', 'ADP', 7, 'case'), ('el', 'el', 'DET', 7, 'det'), ('mes', 'mes', 'NOUN', 4, 'nmod'), ('de', 'de', 'ADP', 9, 'case'), ('agosto', 'agosto', 'PROPN', 7, 'nmod'), ('[', '[', 'PUNCT', 4, 'punct'), ('…', '...', 'PUNCT', 4, 'punct'), (']', ']', 'PUNCT', 4, 'punct'), ('\"', '\"', 'PUNCT', 4, 'punct')], [('El', 'el', 'DET', 2, 'det'), ('general', 'general', 'NOUN', 0, 'root'), ('Garibaldi', 'garibaldi', 'PROPN', 2, 'appos')], [('En', 'en', 'ADP', 3, 'case'), ('sus', 'su', 'DET', 3, 'det'), ('días', 'día', 'NOUN', 0, 'root')], [('A', 'a', 'ADP', 3, 'case'), ('la', 'el', 'DET', 3, 'det'), ('Señora', 'señora', 'PROPN', 0, 'root'), ('Doña', 'Doña', 'PROPN', 3, 'appos'), ('Emilia', 'emilia', 'PROPN', 4, 'flat'), ('Serrano', 'Serrano', 'PROPN', 4, 'flat'), ('de', 'de', 'ADP', 8, 'case'), ('Wilson', 'wilson', 'PROPN', 4, 'flat'), ('en', 'en', 'ADP', 11, 'case'), ('débil', 'débil', 'ADJ', 11, 'amod'), ('muestra', 'muestra', 'NOUN', 3, 'nmod'), ('de', 'de', 'ADP', 13, 'case'), ('aprecio', 'aprecio', 'NOUN', 11, 'nmod')], [('Offland', 'offland', 'PROPN', 0, 'root')], [('La', 'el', 'DET', 2, 'det'), ('señorita', 'señorita', 'NOUN', 0, 'root'), ('doña', 'doña', 'ADJ', 2, 'appos'), ('María', 'María', 'PROPN', 2, 'appos'), ('Verdejo', 'Verdejo', 'PROPN', 4, 'flat'), ('y', 'y', 'CCONJ', 7, 'cc'), ('Durán', 'durán', 'PROPN', 4, 'conj')], [('Una', 'uno', 'DET', 2, 'det'), ('cifra', 'cifra', 'NOUN', 0, 'root'), ('en', 'en', 'ADP', 5, 'case'), ('un', 'uno', 'DET', 5, 'det'), ('ciprés', 'ciprés', 'NOUN', 2, 'nmod')], [('María', 'María', 'PROPN', 0, 'root'), ('Leczinska', 'leczinska', 'PROPN', 1, 'flat')], [('Composición', 'composición', 'NOUN', 0, 'root'), ('de', 'de', 'ADP', 4, 'case'), ('la', 'el', 'DET', 4, 'det'), ('ópera', 'ópera', 'NOUN', 1, 'nmod'), ('Otello', 'otello', 'PROPN', 4, 'appos'), ('por', 'por', 'ADP', 7, 'case'), ('Rossini', 'Rossini', 'PROPN', 1, 'nmod')], [('El', 'el', 'DET', 2, 'det'), ('robo', 'robo', 'NOUN', 0, 'root'), ('de', 'de', 'ADP', 5, 'case'), ('el', 'el', 'DET', 5, 'det'), ('niño', 'niño', 'NOUN', 2, 'nmod'), ('de', 'de', 'ADP', 8, 'case'), ('la', 'el', 'DET', 8, 'det'), ('señora', 'señora', 'NOUN', 5, 'nmod'), ('Hua', 'hua', 'PROPN', 8, 'appos')], [('La', 'el', 'DET', 2, 'det'), ('señora', 'señora', 'NOUN', 0, 'root'), ('doña', 'doña', 'ADJ', 2, 'appos'), ('Carolina', 'carolina', 'PROPN', 2, 'appos'), ('Coronado', 'Coronado', 'PROPN', 4, 'flat')], [('La', 'el', 'DET', 2, 'det'), ('granadina', 'granadino', 'NOUN', 0, 'root'), ('.', '.', 'PUNCT', 2, 'punct'), ('Marcha', 'Marcha', 'NOUN', 0, 'root'), ('guerrera', 'guerrera', 'ADJ', 1, 'amod')], [('El', 'el', 'DET', 2, 'det'), ('genio', 'genio', 'NOUN', 0, 'root')], [('María', 'María', 'PROPN', 0, 'root'), ('Leczinska', 'leczinska', 'PROPN', 1, 'flat')], [('El', 'el', 'DET', 2, 'det'), ('coro', 'coro', 'NOUN', 0, 'root'), ('de', 'de', 'ADP', 5, 'case'), ('los', 'el', 'DET', 5, 'det'), ('ángeles', 'ángel', 'NOUN', 2, 'nmod')], [('El', 'el', 'DET', 2, 'det'), ('kaleidescopio', 'kaleidescopio', 'NOUN', 0, 'root')], [('El', 'el', 'DET', 2, 'det'), ('duelo', 'duelo', 'NOUN', 0, 'root'), ('de', 'de', 'ADP', 5, 'case'), ('las', 'el', 'DET', 5, 'det'), ('mujeres', 'mujer', 'NOUN', 2, 'nmod')], [('Los', 'el', 'DET', 2, 'det'), ('secretos', 'secreto', 'NOUN', 0, 'root'), ('de', 'de', 'ADP', 5, 'case'), ('la', 'el', 'DET', 5, 'det'), ('hermosura', 'hermosura', 'NOUN', 2, 'nmod')], [('A', 'a', 'ADP', 3, 'case'), ('la', 'el', 'DET', 3, 'det'), ('niña', 'niña', 'NOUN', 0, 'root'), ('Adelaida', 'adelaida', 'PROPN', 3, 'appos'), ('.', '.', 'PUNCT', 3, 'punct'), ('En', 'en', 'ADP', 3, 'case'), ('su', 'su', 'DET', 3, 'det'), ('día', 'día', 'NOUN', 0, 'root')], [('Esther', 'Esther', 'PROPN', 0, 'root')], [('Origen', 'origen', 'NOUN', 0, 'root'), ('de', 'de', 'ADP', 4, 'case'), ('algunos', 'alguno', 'DET', 4, 'det'), ('instrumentos', 'instrumento', 'NOUN', 1, 'nmod'), ('.', '.', 'PUNCT', 1, 'punct'), ('La', 'el', 'DET', 2, 'det'), ('guitarra', 'guitarra', 'NOUN', 0, 'root')], [('Tetuán', 'tetuán', 'PROPN', 0, 'root')], [('El', 'el', 'DET', 2, 'det'), ('duelo', 'duelo', 'NOUN', 0, 'root'), ('de', 'de', 'ADP', 5, 'case'), ('las', 'el', 'DET', 5, 'det'), ('mujeres', 'mujer', 'NOUN', 2, 'nmod'), ('.', '.', 'PUNCT', 2, 'punct'), ('(', '(', 'PUNCT', 2, 'punct'), ('Continuación', 'continuación', 'NOUN', 0, 'root'), ('.', '.', 'PUNCT', 2, 'punct'), (')', ')', 'PUNCT', 2, 'punct')], [('Secretos', 'secreto', 'NOUN', 0, 'root'), ('de', 'de', 'ADP', 4, 'case'), ('la', 'el', 'DET', 4, 'det'), ('hermosura', 'hermosura', 'NOUN', 1, 'nmod'), ('.', '.', 'PUNCT', 1, 'punct'), ('(', '(', 'PUNCT', 2, 'punct'), ('Continuación', 'continuación', 'NOUN', 0, 'root'), (')', ')', 'PUNCT', 2, 'punct')], [('L', 'l', 'PROPN', 0, 'root'), ('a', 'a', 'ADP', 3, 'case'), ('vuelta', 'vuelta', 'NOUN', 1, 'nmod'), ('de', 'de', 'ADP', 6, 'case'), ('la', 'el', 'DET', 6, 'det'), ('golondrina', 'golondrina', 'NOUN', 3, 'nmod'), ('.', '.', 'PUNCT', 1, 'punct'), ('(', '(', 'PUNCT', 2, 'punct'), ('Fragmentos', 'Fragmentos', 'PROPN', 0, 'root'), (')', ')', 'PUNCT', 2, 'punct')], [('El', 'el', 'DET', 2, 'det'), ('duelo', 'duelo', 'NOUN', 0, 'root'), ('de', 'de', 'ADP', 5, 'case'), ('las', 'el', 'DET', 5, 'det'), ('mujeres', 'mujer', 'NOUN', 2, 'nmod'), ('.', '.', 'PUNCT', 2, 'punct'), ('(', '(', 'PUNCT', 2, 'punct'), ('Continuación', 'continuación', 'NOUN', 0, 'root'), ('.', '.', 'PUNCT', 2, 'punct'), (')', ')', 'PUNCT', 2, 'punct')], [('Secretos', 'secreto', 'NOUN', 0, 'root'), ('de', 'de', 'ADP', 4, 'case'), ('la', 'el', 'DET', 4, 'det'), ('hermosura', 'hermosura', 'NOUN', 1, 'nmod'), ('.', '.', 'PUNCT', 1, 'punct'), ('(', '(', 'PUNCT', 2, 'punct'), ('Continuación', 'continuación', 'NOUN', 0, 'root'), (')', ')', 'PUNCT', 2, 'punct')], [('El', 'el', 'DET', 2, 'det'), ('sauce', 'sauce', 'NOUN', 0, 'root')], [('Balada', 'Balada', 'PROPN', 0, 'root')], [('El', 'el', 'DET', 2, 'det'), ('duelo', 'duelo', 'NOUN', 0, 'root'), ('de', 'de', 'ADP', 5, 'case'), ('las', 'el', 'DET', 5, 'det'), ('mujeres', 'mujer', 'NOUN', 2, 'nmod'), ('.', '.', 'PUNCT', 2, 'punct'), ('(', '(', 'PUNCT', 2, 'punct'), ('Continuación', 'continuación', 'NOUN', 0, 'root'), ('.', '.', 'PUNCT', 2, 'punct'), (')', ')', 'PUNCT', 2, 'punct')], [('La', 'el', 'DET', 2, 'det'), ('hermana', 'hermana', 'NOUN', 0, 'root'), ('de', 'de', 'ADP', 4, 'case'), ('Velázquez', 'velázquez', 'PROPN', 2, 'nmod')], [('La', 'el', 'DET', 2, 'det'), ('cuaresma', 'cuaresma', 'NOUN', 0, 'root'), ('de', 'de', 'ADP', 5, 'case'), ('el', 'el', 'DET', 5, 'det'), ('amor', 'amor', 'NOUN', 2, 'nmod')], [('Lo', 'él', 'PRON', 2, 'det'), ('mejor', 'mejor', 'ADJ', 0, 'root'), ('de', 'de', 'ADP', 5, 'case'), ('una', 'uno', 'DET', 5, 'det'), ('niña', 'niña', 'NOUN', 2, 'nmod')], [('El', 'el', 'DET', 2, 'det'), ('duelo', 'duelo', 'NOUN', 0, 'root'), ('de', 'de', 'ADP', 5, 'case'), ('las', 'el', 'DET', 5, 'det'), ('mujeres', 'mujer', 'NOUN', 2, 'nmod'), ('.', '.', 'PUNCT', 2, 'punct'), ('(', '(', 'PUNCT', 2, 'punct'), ('Continuación', 'continuación', 'NOUN', 0, 'root'), ('.', '.', 'PUNCT', 2, 'punct'), (')', ')', 'PUNCT', 2, 'punct')], [('El', 'el', 'DET', 2, 'det'), ('museo', 'museo', 'NOUN', 0, 'root'), ('viviente', 'viviente', 'ADJ', 2, 'amod'), (':', ':', 'PUNCT', 5, 'punct'), ('colección', 'colección', 'NOUN', 2, 'appos'), ('de', 'de', 'ADP', 7, 'case'), ('cuadros', 'cuadro', 'NOUN', 5, 'nmod'), ('sociales', 'social', 'ADJ', 7, 'amod'), ('.', '.', 'PUNCT', 2, 'punct'), ('Cuadro', 'cuadro', 'NOUN', 0, 'root'), ('primero', 'primero', 'ADJ', 1, 'amod'), (':', ':', 'PUNCT', 4, 'punct'), ('doña', 'doña', 'NOUN', 1, 'appos'), ('Eulogia', 'Eulogia', 'PROPN', 4, 'flat')], [('La', 'el', 'DET', 2, 'det'), ('hermana', 'hermana', 'NOUN', 0, 'root'), ('de', 'de', 'ADP', 4, 'case'), ('Velázquez', 'velázquez', 'PROPN', 2, 'nmod')], [('La', 'el', 'DET', 2, 'det'), ('oliva', 'oliva', 'NOUN', 0, 'root'), ('.', '.', 'PUNCT', 2, 'punct'), ('A', 'a', 'ADP', 3, 'case'), ('la', 'el', 'DET', 3, 'det'), ('paz', 'paz', 'NOUN', 0, 'root'), ('entre', 'entre', 'ADP', 5, 'case'), ('España', 'España', 'PROPN', 3, 'nmod'), ('y', 'y', 'CCONJ', 7, 'cc'), ('Marruecos', 'Marruecos', 'PROPN', 5, 'conj')], [('Descripción', 'descripción', 'NOUN', 0, 'root'), ('de', 'de', 'ADP', 4, 'case'), ('el', 'el', 'DET', 4, 'det'), ('teatro', 'teatro', 'NOUN', 1, 'nmod'), ('de', 'de', 'ADP', 6, 'case'), ('D.', 'd.', 'PROPN', 4, 'nmod'), ('José', 'José', 'PROPN', 6, 'flat'), ('Piquer', 'piquer', 'PROPN', 6, 'flat')], [('El', 'el', 'DET', 2, 'det'), ('duelo', 'duelo', 'NOUN', 0, 'root'), ('de', 'de', 'ADP', 5, 'case'), ('las', 'el', 'DET', 5, 'det'), ('mujeres', 'mujer', 'NOUN', 2, 'nmod'), ('.', '.', 'PUNCT', 2, 'punct'), ('(', '(', 'PUNCT', 2, 'punct'), ('Continuación', 'continuación', 'NOUN', 0, 'root'), ('.', '.', 'PUNCT', 2, 'punct'), (')', ')', 'PUNCT', 2, 'punct')], [('La', 'el', 'DET', 2, 'det'), ('hermana', 'hermana', 'NOUN', 0, 'root'), ('de', 'de', 'ADP', 4, 'case'), ('Velázquez', 'velázquez', 'PROPN', 2, 'nmod')], [('El', 'el', 'DET', 2, 'det'), ('ángel', 'ángel', 'NOUN', 0, 'root'), ('de', 'de', 'ADP', 5, 'case'), ('la', 'el', 'DET', 5, 'det'), ('inclusa', 'inclusa', 'NOUN', 2, 'nmod')], [('Los', 'el', 'DET', 2, 'det'), ('espejos', 'espejo', 'NOUN', 0, 'root'), ('mágicos', 'mágico', 'ADJ', 2, 'amod'), ('.', '.', 'PUNCT', 2, 'punct'), ('Cuento', 'cuento', 'NOUN', 0, 'root'), ('fantástico', 'fantástico', 'ADJ', 1, 'amod')], [('Cartas', 'cartas', 'NOUN', 0, 'root'), ('de', 'de', 'ADP', 3, 'case'), ('Cuba', 'Cuba', 'PROPN', 1, 'nmod'), ('.', '.', 'PUNCT', 1, 'punct'), ('Cojimar', 'cojimar', 'PROPN', 0, 'root')], [('\"', '\"', 'PUNCT', 5, 'punct'), ('Días', 'día', 'NOUN', 5, 'obl'), ('pasados', 'pasado', 'ADJ', 2, 'amod'), ('se', 'él', 'PRON', 5, 'expl:pv'), ('hallaba', 'hallar', 'VERB', 0, 'root'), ('en', 'en', 'ADP', 8, 'case'), ('el', 'el', 'DET', 8, 'det'), ('bosque', 'bosque', 'NOUN', 5, 'obl'), ('[', '[', 'PUNCT', 5, 'punct'), ('...', '...', 'PUNCT', 5, 'punct'), (']', ']', 'PUNCT', 5, 'punct'), ('\"', '\"', 'PUNCT', 5, 'punct'), ('-', '-', 'PUNCT', 16, 'punct'), ('\"', '\"', 'PUNCT', 16, 'punct'), ('La', 'el', 'DET', 16, 'det'), ('ópera', 'ópera', 'NOUN', 33, 'nsubj'), ('de', 'de', 'ADP', 18, 'case'), ('Verdi', 'Verdi', 'PROPN', 16, 'flat'), ('[', '[', 'PUNCT', 16, 'punct'), ('...', '...', 'PUNCT', 16, 'punct'), (']\"', ']\"', 'PUNCT', 24, 'punct'), ('-\"', '-\"', 'PUNCT', 24, 'punct'), ('El', 'el', 'DET', 24, 'det'), ('marqués', 'marqués', 'PROPN', 16, 'appos'), ('de', 'de', 'ADP', 26, 'case'), ('Casa-Riera', 'Casa-Riera', 'PROPN', 24, 'flat'), ('[', '[', 'PUNCT', 24, 'punct'), ('...', '...', 'PUNCT', 24, 'punct'), (']\"', ']\"', 'PUNCT', 24, 'punct'), ('-\"', '-\"', 'PUNCT', 33, 'punct'), ('No', 'no', 'ADV', 33, 'advmod'), ('podemos', 'poder', 'AUX', 33, 'aux'), ('resistir', 'resistir', 'VERB', 5, 'advcl'), ('el', 'el', 'DET', 35, 'det'), ('deseo', 'deseo', 'NOUN', 33, 'obj'), ('de', 'de', 'ADP', 37, 'mark'), ('copiar', 'copiar', 'VERB', 35, 'acl'), ('[', '[', 'PUNCT', 33, 'punct'), ('...', '...', 'PUNCT', 33, 'punct'), (']', ']', 'PUNCT', 5, 'punct'), ('\"', '\"', 'PUNCT', 5, 'punct')], [('La', 'el', 'DET', 2, 'det'), ('cama', 'cama', 'NOUN', 0, 'root'), ('de', 'de', 'ADP', 4, 'case'), ('matrimonio', 'matrimonio', 'NOUN', 2, 'nmod'), ('.', '.', 'PUNCT', 2, 'punct'), ('Balada', 'Balada', 'PROPN', 0, 'root')], [('Las', 'el', 'DET', 3, 'det'), ('dos', 'dos', 'NUM', 1, 'nummod'), ('tumbas', 'tumba', 'NOUN', 0, 'root'), ('.', '.', 'PUNCT', 3, 'punct'), ('Dolora', 'Dolora', 'PROPN', 0, 'root')], [('A', 'a', 'ADP', 2, 'case'), ('Colón', 'colón', 'PROPN', 0, 'root')], [('Una', 'uno', 'DET', 2, 'det'), ('madre', 'madre', 'NOUN', 0, 'root')], [('Un', 'uno', 'DET', 2, 'det'), ('baile', 'baile', 'NOUN', 0, 'root'), ('de', 'de', 'ADP', 4, 'case'), ('manga', 'manga', 'NOUN', 2, 'nmod'), ('larga', 'largo', 'ADJ', 4, 'amod')], [('La', 'el', 'DET', 2, 'det'), ('heredad', 'heredad', 'NOUN', 0, 'root'), ('bendecida', 'bendecido', 'ADJ', 2, 'amod')], [('Esto', 'este', 'PRON', 0, 'root'), ('y', 'y', 'CCONJ', 3, 'cc'), ('aquello', 'aquel', 'PRON', 1, 'conj')], [('Macahé', 'Macahé', 'PROPN', 0, 'root')], [('A', 'a', 'ADP', 2, 'case'), ('Emilia', 'emilia', 'PROPN', 0, 'root'), ('.', '.', 'PUNCT', 2, 'punct'), ('En', 'en', 'ADP', 3, 'case'), ('su', 'su', 'DET', 3, 'det'), ('álbum', 'álbum', 'NOUN', 0, 'root')], [('La', 'el', 'DET', 2, 'det'), ('ascensión', 'ascensión', 'NOUN', 0, 'root'), ('de', 'de', 'ADP', 5, 'case'), ('el', 'el', 'DET', 5, 'det'), ('Señor', 'señor', 'PROPN', 2, 'nmod')], [('Una', 'uno', 'DET', 2, 'det'), ('madre', 'madre', 'NOUN', 0, 'root')], [('Cartas', 'cartas', 'NOUN', 0, 'root'), ('de', 'de', 'ADP', 3, 'case'), ('Cuba', 'Cuba', 'PROPN', 1, 'nmod'), ('.', '.', 'PUNCT', 1, 'punct'), ('El', 'el', 'DET', 2, 'det'), ('conuco', 'conuco', 'NOUN', 0, 'root'), ('de', 'de', 'ADP', 5, 'case'), ('el', 'el', 'DET', 5, 'det'), ('indio', 'indio', 'NOUN', 2, 'nmod')], [('Amor', 'amor', 'NOUN', 0, 'root'), ('y', 'y', 'CCONJ', 3, 'cc'), ('fe', 'fe', 'NOUN', 1, 'conj')], [('Las', 'el', 'DET', 3, 'det'), ('dos', 'dos', 'NUM', 1, 'nummod'), ('rosas', 'rosa', 'NOUN', 0, 'root')], [('Griseldina', 'griseldina', 'PROPN', 0, 'root')], [('A', 'a', 'ADP', 3, 'case'), ('mi', 'mi', 'DET', 3, 'det'), ('sobrina', 'sobrina', 'NOUN', 0, 'root'), ('Araceli', 'Araceli', 'PROPN', 3, 'appos'), ('Abril', 'abril', 'PROPN', 4, 'flat'), ('de', 'de', 'ADP', 7, 'case'), ('Armendi', 'armendi', 'PROPN', 3, 'nmod')], [('El', 'el', 'DET', 2, 'det'), ('mensage', 'mensage', 'NOUN', 0, 'root')], [('Griseldina', 'griseldina', 'PROPN', 0, 'root')], [('Cartas', 'cartas', 'NOUN', 0, 'root'), ('de', 'de', 'ADP', 3, 'case'), ('Cuba', 'Cuba', 'PROPN', 1, 'nmod'), ('.', '.', 'PUNCT', 1, 'punct'), ('El', 'el', 'DET', 2, 'det'), ('conuco', 'conuco', 'NOUN', 0, 'root'), ('de', 'de', 'ADP', 5, 'case'), ('el', 'el', 'DET', 5, 'det'), ('indio', 'indio', 'NOUN', 2, 'nmod')], [('Una', 'uno', 'DET', 2, 'det'), ('caricia', 'caricia', 'NOUN', 4, 'nsubj'), ('puede', 'poder', 'AUX', 4, 'aux'), ('curar', 'curar', 'VERB', 0, 'root'), ('un', 'uno', 'DET', 6, 'det'), ('defecto', 'defecto', 'NOUN', 4, 'obj')], [('Sin', 'sin', 'ADP', 2, 'case'), ('princpio', 'princpio', 'NOUN', 0, 'root'), ('ni', 'ni', 'CCONJ', 4, 'cc'), ('fin', 'fin', 'NOUN', 2, 'conj'), ('.', '.', 'PUNCT', 2, 'punct')], [('La', 'el', 'DET', 2, 'det'), ('felicidad', 'felicidad', 'NOUN', 0, 'root')], [('En', 'en', 'ADP', 3, 'case'), ('el', 'el', 'DET', 3, 'det'), ('álbum', 'álbum', 'NOUN', 0, 'root'), ('de', 'de', 'ADP', 6, 'case'), ('una', 'uno', 'DET', 6, 'det'), ('niña', 'niña', 'NOUN', 3, 'nmod')], [('El', 'el', 'DET', 2, 'det'), ('arte', 'arte', 'NOUN', 0, 'root'), ('.', '.', 'PUNCT', 2, 'punct'), ('Oda', 'oda', 'PROPN', 0, 'root')], [('A', 'a', 'ADP', 3, 'case'), ('una', 'uno', 'DET', 3, 'det'), ('dama', 'dama', 'NOUN', 0, 'root'), ('muy', 'mucho', 'ADV', 5, 'advmod'), ('galanteada', 'galanteado', 'ADJ', 3, 'amod'), ('.', '.', 'PUNCT', 3, 'punct'), ('En', 'en', 'ADP', 3, 'case'), ('su', 'su', 'DET', 3, 'det'), ('álbum', 'álbum', 'NOUN', 0, 'root')], [('Sin', 'sin', 'ADP', 2, 'case'), ('princpio', 'princpio', 'NOUN', 0, 'root'), ('ni', 'ni', 'CCONJ', 4, 'cc'), ('fin', 'fin', 'NOUN', 2, 'conj'), ('.', '.', 'PUNCT', 2, 'punct'), ('Novela', 'novela', 'NOUN', 0, 'root'), ('de', 'de', 'ADP', 3, 'case'), ('costumbres', 'costumbre', 'NOUN', 1, 'nmod'), ('contemporáneas', 'contemporáneo', 'ADJ', 3, 'amod')], [('La', 'el', 'DET', 2, 'det'), ('felicidad', 'felicidad', 'NOUN', 0, 'root')], [('Periquito', 'periquito', 'PROPN', 0, 'root'), ('el', 'el', 'DET', 3, 'det'), ('Veleidoso', 'Veleidoso', 'PROPN', 1, 'appos')], [('Cartas', 'cartas', 'NOUN', 0, 'root'), ('de', 'de', 'ADP', 3, 'case'), ('Cuba', 'Cuba', 'PROPN', 1, 'nmod'), ('(', '(', 'PUNCT', 5, 'punct'), ('III', 'iii', 'NUM', 1, 'appos'), (')', ')', 'PUNCT', 5, 'punct'), ('.', '.', 'PUNCT', 1, 'punct'), ('El', 'el', 'DET', 2, 'det'), ('conuco', 'conuco', 'NOUN', 0, 'root'), ('de', 'de', 'ADP', 5, 'case'), ('el', 'el', 'DET', 5, 'det'), ('indio', 'indio', 'NOUN', 2, 'nmod')], [('A', 'a', 'ADP', 3, 'case'), ('Santo', 'santo', 'PROPN', 3, 'amod'), ('Domingo', 'domingo', 'PROPN', 0, 'root')], [('El', 'el', 'DET', 2, 'det'), ('toque', 'toque', 'NOUN', 0, 'root'), ('de', 'de', 'ADP', 5, 'case'), ('la', 'el', 'DET', 5, 'det'), ('oración', 'oración', 'NOUN', 2, 'nmod')], [('Soledad', 'soledad', 'PROPN', 0, 'root')], [('Sin', 'sin', 'ADP', 2, 'case'), ('princpio', 'princpio', 'NOUN', 0, 'root'), ('ni', 'ni', 'CCONJ', 4, 'cc'), ('fin', 'fin', 'NOUN', 2, 'conj'), ('.', '.', 'PUNCT', 2, 'punct'), ('Novela', 'novela', 'NOUN', 0, 'root'), ('de', 'de', 'ADP', 3, 'case'), ('costumbres', 'costumbre', 'NOUN', 1, 'nmod'), ('contemporáneas', 'contemporáneo', 'ADJ', 3, 'amod')], [('Los', 'el', 'DET', 2, 'det'), ('bailes', 'bail', 'NOUN', 0, 'root'), ('campestres', 'campestre', 'ADJ', 2, 'amod'), ('en', 'en', 'ADP', 5, 'case'), ('Santander', 'Santander', 'PROPN', 2, 'nmod')], [('Periquito', 'periquito', 'PROPN', 0, 'root'), ('el', 'el', 'DET', 3, 'det'), ('Veleidoso', 'Veleidoso', 'PROPN', 1, 'flat'), ('(', '(', 'PUNCT', 5, 'punct'), ('Conclusion', 'conclusion', 'PROPN', 1, 'appos'), (')', ')', 'PUNCT', 5, 'punct')], [('Duelos', 'duelos', 'NOUN', 0, 'root'), ('de', 'de', 'ADP', 3, 'case'), ('amor', 'amor', 'NOUN', 1, 'nmod')], [('\"', '\"', 'PUNCT', 2, 'punct'), ('Allende', 'allende', 'PROPN', 0, 'root'), ('los', 'el', 'DET', 4, 'det'), ('mares', 'mare', 'PROPN', 2, 'flat'), ('mora', 'mora', 'PROPN', 2, 'flat'), ('[', '[', 'PUNCT', 2, 'punct'), ('...', '...', 'PUNCT', 2, 'punct'), (']', ']', 'PUNCT', 2, 'punct'), ('\"', '\"', 'PUNCT', 2, 'punct')], [('A', 'a', 'ADP', 3, 'case'), ('la', 'el', 'DET', 3, 'det'), ('señora', 'señora', 'NOUN', 0, 'root'), ('doña', 'doña', 'ADJ', 3, 'appos'), ('Emila', 'Emila', 'PROPN', 3, 'appos'), ('Serrano', 'Serrano', 'PROPN', 5, 'flat'), ('de', 'de', 'ADP', 8, 'case'), ('Wilson', 'wilson', 'PROPN', 5, 'flat'), ('en', 'en', 'ADP', 11, 'case'), ('su', 'su', 'DET', 11, 'det'), ('álbum', 'álbum', 'NOUN', 3, 'nmod')], [('En', 'en', 'ADP', 3, 'case'), ('el', 'el', 'DET', 3, 'det'), ('álbum', 'álbum', 'NOUN', 0, 'root'), ('de', 'de', 'ADP', 6, 'case'), ('la', 'el', 'DET', 6, 'det'), ('señorita', 'señorita', 'NOUN', 3, 'nmod'), ('J.', 'J.', 'PROPN', 6, 'appos'), ('R.', 'R.', 'PROPN', 7, 'flat')], [('Carta', 'carta', 'NOUN', 0, 'root')], [('Cada', 'cada', 'DET', 2, 'det'), ('cual', 'cual', 'PRON', 0, 'root'), ('en', 'en', 'ADP', 5, 'case'), ('su', 'su', 'DET', 5, 'det'), ('lugar', 'lugar', 'NOUN', 2, 'nmod')], [('Duelos', 'duelos', 'NOUN', 0, 'root'), ('de', 'de', 'ADP', 3, 'case'), ('amor', 'amor', 'NOUN', 1, 'nmod'), ('(', '(', 'PUNCT', 5, 'punct'), ('Conclusión', 'Conclusión', 'PROPN', 1, 'appos'), ('.', '.', 'PUNCT', 1, 'punct'), (')', ')', 'PUNCT', 0, 'root')], [('Rolandseck', 'rolandseck', 'PROPN', 0, 'root'), ('.', '.', 'PUNCT', 1, 'punct'), ('Tradición', 'tradición', 'NOUN', 0, 'root')], [('Secretos', 'secreto', 'NOUN', 0, 'root'), ('de', 'de', 'ADP', 4, 'case'), ('el', 'el', 'DET', 4, 'det'), ('tocador', 'tocador', 'NOUN', 1, 'nmod')], [('La', 'el', 'DET', 2, 'det'), ('madre', 'madre', 'NOUN', 0, 'root'), ('de', 'de', 'ADP', 5, 'case'), ('la', 'el', 'DET', 5, 'det'), ('marquesa', 'marquesa', 'NOUN', 2, 'nmod')], [('Poesía', 'poesía', 'NOUN', 0, 'root')], [('Ilusión', 'ilusión', 'NOUN', 0, 'root'), ('.', '.', 'PUNCT', 1, 'punct'), ('A', 'a', 'ADP', 2, 'case'), ('el', 'el', 'DET', 0, 'root'), ('...', '...', 'PUNCT', 1, 'punct')], [('La', 'el', 'DET', 2, 'det'), ('violeta', 'violeta', 'NOUN', 0, 'root'), ('.', '.', 'PUNCT', 2, 'punct'), ('Soneto', 'soneto', 'NOUN', 0, 'root')], [('La', 'el', 'DET', 2, 'det'), ('verdad', 'verdad', 'NOUN', 0, 'root'), ('de', 'de', 'ADP', 5, 'case'), ('el', 'el', 'DET', 5, 'det'), ('sentimiento', 'sentimiento', 'NOUN', 2, 'nmod')], [('De', 'de', 'ADP', 3, 'case'), ('la', 'el', 'DET', 3, 'det'), ('poesía', 'poesía', 'NOUN', 0, 'root'), ('.', '.', 'PUNCT', 3, 'punct'), ('Su', 'su', 'DET', 2, 'det'), ('oportunidad', 'oportunidad', 'NOUN', 0, 'root'), ('y', 'y', 'CCONJ', 5, 'cc'), ('su', 'su', 'DET', 5, 'det'), ('objeto', 'objeto', 'NOUN', 2, 'conj')], [('Cada', 'cada', 'DET', 2, 'det'), ('cual', 'cual', 'PRON', 0, 'root'), ('en', 'en', 'ADP', 5, 'case'), ('su', 'su', 'DET', 5, 'det'), ('lugar', 'lugar', 'NOUN', 2, 'nmod'), ('(', '(', 'PUNCT', 7, 'punct'), ('Conclusión', 'Conclusión', 'PROPN', 2, 'appos'), ('.', '.', 'PUNCT', 2, 'punct'), (')', ')', 'PUNCT', 0, 'root')], [('Viaje', 'viaje', 'NOUN', 0, 'root'), ('de', 'de', 'ADP', 3, 'case'), ('SS.', 'ss.', 'PROPN', 1, 'nmod'), ('MM', 'mm', 'PROPN', 3, 'flat'), ('.', '.', 'PUNCT', 1, 'punct')], [('Mariquita', 'mariquita', 'PROPN', 0, 'root')], [('\"', '\"', 'PUNCT', 4, 'punct'), ('Entre', 'entre', 'ADP', 4, 'case'), ('las', 'el', 'DET', 4, 'det'), ('aventuras', 'aventura', 'NOUN', 19, 'obl'), ('numerosas', 'numeroso', 'ADJ', 4, 'amod'), ('[', '[', 'PUNCT', 4, 'punct'), ('...', '...', 'PUNCT', 19, 'punct'), (']\"', ']\"', 'PUNCT', 4, 'punct'), ('-\"', '-\"', 'PUNCT', 19, 'punct'), ('Cuando', 'cuando', 'SCONJ', 19, 'mark'), ('el', 'el', 'DET', 12, 'det'), ('general', 'general', 'NOUN', 19, 'nsubj'), ('Bonaparte', 'bonaparte', 'PROPN', 12, 'appos'), ('[', '[', 'PUNCT', 19, 'punct'), ('...', '...', 'PUNCT', 19, 'punct'), (']\"', ']\"', 'PUNCT', 4, 'punct'), ('-\"', '-\"', 'PUNCT', 19, 'punct'), ('Es', 'ser', 'AUX', 19, 'cop'), ('notable', 'notable', 'ADJ', 0, 'root'), ('lo', 'él', 'PRON', 21, 'det'), ('siguiente', 'siguiente', 'ADJ', 19, 'nsubj'), ('[', '[', 'PUNCT', 19, 'punct'), ('...', '...', 'PUNCT', 19, 'punct'), (']', ']', 'PUNCT', 19, 'punct'), ('\"', '\"', 'PUNCT', 19, 'punct')], [('La', 'el', 'DET', 2, 'det'), ('madre', 'madre', 'NOUN', 0, 'root'), ('de', 'de', 'ADP', 5, 'case'), ('la', 'el', 'DET', 5, 'det'), ('marquesa', 'marquesa', 'NOUN', 2, 'nmod'), ('(', '(', 'PUNCT', 7, 'punct'), ('Continuación', 'Continuación', 'PROPN', 2, 'appos'), (')', ')', 'PUNCT', 7, 'punct')], [('El', 'el', 'DET', 2, 'det'), ('sargento', 'sargento', 'NOUN', 0, 'root'), ('Pérez', 'Pérez', 'PROPN', 2, 'appos'), ('.', '.', 'PUNCT', 2, 'punct'), ('Episodio', 'episodio', 'NOUN', 0, 'root'), ('de', 'de', 'ADP', 3, 'case'), ('dominación', 'dominación', 'NOUN', 1, 'nmod'), ('francesa', 'francés', 'ADJ', 3, 'amod'), ('en', 'en', 'ADP', 7, 'case'), ('Santo', 'santo', 'PROPN', 7, 'amod'), ('Domingo', 'domingo', 'PROPN', 1, 'nmod')], [('Sin', 'sin', 'ADP', 2, 'case'), ('princpio', 'princpio', 'NOUN', 0, 'root'), ('ni', 'ni', 'CCONJ', 4, 'cc'), ('fin', 'fin', 'NOUN', 2, 'conj'), ('.', '.', 'PUNCT', 2, 'punct'), ('Novela', 'novela', 'NOUN', 0, 'root'), ('de', 'de', 'ADP', 3, 'case'), ('costumbres', 'costumbre', 'NOUN', 1, 'nmod'), ('contemporáneas', 'contemporáneo', 'ADJ', 3, 'amod')], [('Los', 'el', 'DET', 2, 'det'), ('pájaros', 'pájaro', 'NOUN', 0, 'root')], [('Una', 'uno', 'DET', 2, 'det'), ('flor', 'flor', 'NOUN', 0, 'root')], [('La', 'el', 'DET', 2, 'det'), ('moneda', 'moneda', 'NOUN', 0, 'root'), ('de', 'de', 'ADP', 4, 'case'), ('oro', 'oro', 'NOUN', 2, 'nmod')], [('Matrimonios', 'matrimonios', 'NOUN', 0, 'root'), ('por', 'por', 'ADP', 4, 'case'), ('anuncios-Los', 'anunciosolo', 'DET', 4, 'det'), ('baños', 'baño', 'NOUN', 1, 'nmod'), ('de', 'de', 'ADP', 6, 'case'), ('Biarritz-\"', 'biarritz-\"', 'PROPN', 4, 'nmod'), ('Hace', 'hacer', 'VERB', 1, 'advcl'), ('pocos', 'poco', 'DET', 9, 'det'), ('días', 'día', 'NOUN', 7, 'obj'), ('[', '[', 'PUNCT', 1, 'punct'), ('...', '...', 'PUNCT', 1, 'punct'), (']', ']', 'PUNCT', 1, 'punct'), ('\"', '\"', 'PUNCT', 1, 'punct')], [('La', 'el', 'DET', 2, 'det'), ('madre', 'madre', 'NOUN', 0, 'root'), ('de', 'de', 'ADP', 5, 'case'), ('la', 'el', 'DET', 5, 'det'), ('marquesa', 'marquesa', 'NOUN', 2, 'nmod'), ('(', '(', 'PUNCT', 7, 'punct'), ('Continuación', 'Continuación', 'PROPN', 2, 'appos'), (')', ')', 'PUNCT', 7, 'punct')], [('A', 'a', 'ADP', 2, 'case'), ('Sevilla', 'Sevilla', 'PROPN', 0, 'root')], [('Soneto', 'soneto', 'PROPN', 0, 'root'), ('.', '.', 'PUNCT', 1, 'punct'), ('\"', '\"', 'PUNCT', 3, 'punct'), ('Un', 'uno', 'DET', 3, 'det'), ('año', 'año', 'NOUN', 0, 'root'), ('más', 'más', 'ADV', 3, 'advmod'), ('[', '[', 'PUNCT', 3, 'punct'), ('...', '...', 'PUNCT', 3, 'punct'), (']', ']', 'PUNCT', 3, 'punct'), ('\"', '\"', 'PUNCT', 3, 'punct')], [('Carta', 'Carta', 'PROPN', 0, 'root'), ('I.', 'i.', 'PROPN', 1, 'flat'), ('Monserrat', 'monserrat', 'PROPN', 1, 'flat')], [('La', 'el', 'DET', 2, 'det'), ('moneda', 'moneda', 'NOUN', 0, 'root'), ('de', 'de', 'ADP', 4, 'case'), ('oro', 'oro', 'NOUN', 2, 'nmod')], [('Un', 'uno', 'DET', 2, 'det'), ('paseo', 'paseo', 'NOUN', 0, 'root'), ('por', 'por', 'ADP', 5, 'case'), ('el', 'el', 'DET', 5, 'det'), ('lago', 'lago', 'NOUN', 2, 'nmod'), ('negro', 'negro', 'ADJ', 5, 'amod')], [('La', 'el', 'DET', 2, 'det'), ('feria', 'feria', 'NOUN', 0, 'root'), ('de', 'de', 'ADP', 4, 'case'), ('Ucles', 'ucles', 'PROPN', 2, 'nmod')], [('La', 'el', 'DET', 2, 'det'), ('madre', 'madre', 'NOUN', 0, 'root'), ('de', 'de', 'ADP', 5, 'case'), ('la', 'el', 'DET', 5, 'det'), ('marquesa', 'marquesa', 'NOUN', 2, 'nmod'), ('(', '(', 'PUNCT', 7, 'punct'), ('Continuación', 'Continuación', 'PROPN', 2, 'appos'), (')', ')', 'PUNCT', 7, 'punct')], [('Fábula', 'Fábula', 'PROPN', 0, 'root'), ('.', '.', 'PUNCT', 1, 'punct'), ('El', 'el', 'DET', 2, 'det'), ('cabello', 'cabello', 'NOUN', 0, 'root'), ('suelto', 'suelto', 'ADJ', 2, 'amod')], [('Carta', 'Carta', 'PROPN', 0, 'root'), ('II', 'ii', 'NUM', 1, 'nummod'), ('.', '.', 'PUNCT', 1, 'punct'), ('Valencia', 'Valencia', 'PROPN', 0, 'root')], [('La', 'el', 'DET', 2, 'det'), ('feria', 'feria', 'NOUN', 0, 'root'), ('de', 'de', 'ADP', 4, 'case'), ('Ucles', 'ucles', 'PROPN', 2, 'nmod')], [('De', 'de', 'ADP', 3, 'case'), ('la', 'el', 'DET', 3, 'det'), ('poesía', 'poesía', 'NOUN', 0, 'root'), ('.', '.', 'PUNCT', 3, 'punct'), ('Su', 'su', 'DET', 2, 'det'), ('oportunidad', 'oportunidad', 'NOUN', 0, 'root'), ('y', 'y', 'CCONJ', 5, 'cc'), ('su', 'su', 'DET', 5, 'det'), ('objeto', 'objeto', 'NOUN', 2, 'conj')], [('La', 'el', 'DET', 2, 'det'), ('moneda', 'moneda', 'NOUN', 0, 'root'), ('de', 'de', 'ADP', 4, 'case'), ('oro', 'oro', 'NOUN', 2, 'nmod')], [('\"', '\"', 'PUNCT', 3, 'punct'), ('Una', 'uno', 'DET', 3, 'det'), ('duquesa', 'duquesa', 'NOUN', 0, 'root'), ('octogenaria', 'octogenario', 'ADJ', 3, 'amod'), ('[', '[', 'PUNCT', 3, 'punct'), ('...', '...', 'PUNCT', 3, 'punct'), (']\"', ']\"', 'PUNCT', 10, 'punct'), ('-\"', '-\"', 'PUNCT', 10, 'punct'), ('La', 'el', 'DET', 10, 'det'), ('señora', 'señora', 'NOUN', 3, 'appos'), ('de', 'de', 'ADP', 12, 'case'), ('J', 'j', 'PROPN', 10, 'nmod'), ('[', '[', 'PUNCT', 10, 'punct'), ('...', '...', 'PUNCT', 10, 'punct'), (']\"', ']\"', 'PUNCT', 10, 'punct'), ('-\"', '-\"', 'PUNCT', 25, 'punct'), ('El', 'el', 'DET', 18, 'det'), ('señor', 'señor', 'NOUN', 10, 'appos'), ('X', 'x', 'PROPN', 18, 'appos'), ('[', '[', 'PUNCT', 18, 'punct'), ('...', '...', 'PUNCT', 25, 'punct'), (']\"', ']\"', 'PUNCT', 25, 'punct'), ('-\"', '-\"', 'PUNCT', 25, 'punct'), ('Una', 'uno', 'DET', 25, 'det'), ('aldeana', 'aldeana', 'NOUN', 3, 'appos'), ('enriquecida', 'enriquecer', 'ADJ', 25, 'acl'), ('[', '[', 'PUNCT', 25, 'punct'), ('...', '...', 'PUNCT', 25, 'punct'), (']', ']', 'PUNCT', 25, 'punct'), ('\"', '\"', 'PUNCT', 3, 'punct')], [('La', 'el', 'DET', 2, 'det'), ('escalera', 'escalera', 'NOUN', 0, 'root')], [('Carta', 'Carta', 'PROPN', 0, 'root'), ('III', 'iii', 'NUM', 1, 'nummod'), ('.', '.', 'PUNCT', 1, 'punct'), ('Barcelona', 'Barcelona', 'PROPN', 0, 'root')], [('La', 'el', 'DET', 2, 'det'), ('moneda', 'moneda', 'NOUN', 0, 'root'), ('de', 'de', 'ADP', 4, 'case'), ('oro', 'oro', 'NOUN', 2, 'nmod'), ('(', '(', 'PUNCT', 6, 'punct'), ('Conclusión', 'Conclusión', 'PROPN', 2, 'appos'), (')', ')', 'PUNCT', 6, 'punct')], [('El', 'el', 'DET', 2, 'det'), ('Brasil', 'Brasil', 'PROPN', 0, 'root')], [('El', 'el', 'DET', 2, 'det'), ('alma', 'alma', 'NOUN', 0, 'root'), ('de', 'de', 'ADP', 4, 'case'), ('dudas', 'duda', 'NOUN', 2, 'nmod')], [('El', 'el', 'DET', 2, 'det'), ('istmo', 'istmo', 'NOUN', 0, 'root'), ('de', 'de', 'ADP', 4, 'case'), ('Panamá', 'Panamá', 'PROPN', 2, 'nmod')], [('Una', 'uno', 'DET', 2, 'det'), ('peregrinación', 'peregrinación', 'NOUN', 0, 'root'), ('a', 'a', 'ADP', 4, 'case'), ('Saint-Point', 'Saint-Point', 'PROPN', 2, 'nmod')], [('Sin', 'sin', 'ADP', 2, 'case'), ('destinos', 'destino', 'NOUN', 4, 'obl'), ('no', 'no', 'ADV', 4, 'advmod'), ('hay', 'haber', 'VERB', 0, 'root'), ('amigos', 'amigo', 'NOUN', 4, 'obj'), ('.', '.', 'PUNCT', 4, 'punct'), ('Proverbio', 'proverbio', 'NOUN', 0, 'root'), ('en', 'en', 'ADP', 4, 'case'), ('tres', 'tres', 'NUM', 4, 'nummod'), ('cuadros', 'cuadro', 'NOUN', 1, 'nmod')], [('El', 'el', 'DET', 2, 'det'), ('sombrero', 'sombrero', 'NOUN', 0, 'root'), ('de', 'de', 'ADP', 5, 'case'), ('el', 'el', 'DET', 5, 'det'), ('emperador', 'emperador', 'NOUN', 2, 'nmod'), ('de', 'de', 'ADP', 7, 'case'), ('Austria', 'Austria', 'PROPN', 5, 'nmod')], [('El', 'el', 'DET', 2, 'det'), ('amor', 'amor', 'NOUN', 0, 'root')], [('Feria', 'Feria', 'PROPN', 0, 'root'), ('en', 'en', 'ADP', 3, 'case'), ('Sevilla', 'Sevilla', 'PROPN', 1, 'nmod')], [('El', 'el', 'DET', 2, 'det'), ('lentigo', 'lentigo', 'NOUN', 0, 'root'), ('.', '.', 'PUNCT', 2, 'punct'), ('De', 'de', 'ADP', 3, 'case'), ('su', 'su', 'DET', 3, 'det'), ('tratamiento', 'tratamiento', 'NOUN', 0, 'root')], [('En', 'en', 'ADP', 4, 'case'), ('la', 'el', 'DET', 4, 'det'), ('primera', 'primero', 'ADJ', 4, 'amod'), ('página', 'página', 'NOUN', 0, 'root'), ('de', 'de', 'ADP', 7, 'case'), ('un', 'uno', 'DET', 7, 'det'), ('álbum', 'álbum', 'NOUN', 4, 'nmod')], [('El', 'el', 'DET', 2, 'det'), ('mundo', 'mundo', 'NOUN', 0, 'root'), ('para', 'para', 'ADP', 4, 'case'), ('unos', 'uno', 'PRON', 2, 'nmod'), ('.', '.', 'PUNCT', 2, 'punct'), ('Soneto', 'soneto', 'NOUN', 0, 'root')], [('El', 'el', 'DET', 2, 'det'), ('mundo', 'mundo', 'NOUN', 0, 'root'), ('para', 'para', 'ADP', 4, 'case'), ('otros', 'otro', 'PRON', 2, 'nmod'), ('.', '.', 'PUNCT', 2, 'punct'), ('Soneto', 'soneto', 'NOUN', 0, 'root')], [('Última', 'última', 'ADJ', 2, 'amod'), ('hora', 'hora', 'NOUN', 0, 'root')], [('Francisco', 'francisco', 'PROPN', 0, 'root'), ('José', 'José', 'PROPN', 1, 'flat'), ('.', '.', 'PUNCT', 1, 'punct'), ('Emperador', 'Emperador', 'PROPN', 0, 'root'), ('de', 'de', 'ADP', 4, 'case'), ('el', 'el', 'DET', 4, 'det'), ('Austria', 'Austria', 'PROPN', 1, 'nmod')], [('\"', '\"', 'PUNCT', 2, 'punct'), ('Constituido', 'constituido', 'ADJ', 0, 'root'), ('ya', 'ya', 'ADV', 2, 'advmod'), ('oficialmente', 'oficialmente', 'ADV', 2, 'advmod'), ('el', 'el', 'DET', 7, 'det'), ('nuevo', 'nuevo', 'ADJ', 7, 'amod'), ('Ministerio', 'Ministerio', 'PROPN', 2, 'nsubj'), ('Inglés', 'Inglés', 'PROPN', 7, 'amod'), ('\"', '\"', 'PUNCT', 2, 'punct'), ('[', '[', 'PUNCT', 2, 'punct'), ('...', '...', 'PUNCT', 2, 'punct'), (']', ']', 'PUNCT', 2, 'punct')], [('Parte', 'parte', 'NOUN', 0, 'root'), ('oficial', 'oficial', 'ADJ', 1, 'amod'), ('publicado', 'publicado', 'ADJ', 1, 'acl'), ('por', 'por', 'ADP', 6, 'case'), ('el', 'el', 'DET', 6, 'det'), ('Monitor', 'Monitor', 'PROPN', 3, 'obl:agent'), ('de', 'de', 'ADP', 8, 'case'), ('París', 'París', 'PROPN', 6, 'nmod'), ('sobre', 'sobre', 'ADP', 11, 'case'), ('la', 'el', 'DET', 11, 'det'), ('atalla', 'atalla', 'NOUN', 6, 'nmod'), ('de', 'de', 'ADP', 13, 'case'), ('Solferino', 'Solferino', 'PROPN', 11, 'nmod')], [('Censo', 'censo', 'NOUN', 8, 'dep'), ('aproximativo', 'aproximativo', 'ADJ', 1, 'amod'), ('-\"', '-\"', 'PUNCT', 8, 'punct'), ('En', 'en', 'ADP', 6, 'case'), ('un', 'uno', 'DET', 6, 'det'), ('periódico', 'periódico', 'NOUN', 8, 'obl'), ('se', 'él', 'PRON', 8, 'expl:pv'), ('lee', 'leer', 'VERB', 0, 'root'), ('lo', 'él', 'PRON', 10, 'det'), ('siguiente', 'siguiente', 'ADJ', 8, 'nsubj'), ('[', '[', 'PUNCT', 14, 'punct'), ('...', '...', 'PUNCT', 14, 'punct'), (']\"', ']\"', 'PUNCT', 14, 'punct'), ('-Invento-Histórico', '-invento-histórico', 'NOUN', 8, 'punct')], [('A', 'a', 'ADP', 3, 'case'), ('el', 'el', 'DET', 3, 'det'), ('señor', 'señor', 'NOUN', 0, 'root'), ('de', 'de', 'ADP', 5, 'case'), ('N.', 'n.', 'PROPN', 3, 'nmod'), ('y', 'y', 'CCONJ', 8, 'cc'), ('la', 'el', 'DET', 8, 'det'), ('señora', 'señora', 'NOUN', 3, 'conj'), ('**', '**', 'PUNCT', 8, 'punct'), ('*', '*', 'PUNCT', 3, 'appos')], [('El', 'el', 'DET', 2, 'det'), ('fauno', 'fauno', 'NOUN', 0, 'root'), ('de', 'de', 'ADP', 4, 'case'), ('Goysevox', 'Goysevox', 'PROPN', 2, 'nmod')], [('El', 'el', 'DET', 2, 'det'), ('prólogo', 'prólogo', 'NOUN', 0, 'root'), ('.', '.', 'PUNCT', 2, 'punct'), ('Episodio', 'episodio', 'NOUN', 0, 'root')], [('El', 'el', 'DET', 2, 'det'), ('collar', 'collar', 'NOUN', 0, 'root')], [('El', 'el', 'DET', 2, 'det'), ('cabello', 'cabello', 'NOUN', 0, 'root'), ('rubio', 'rubio', 'ADJ', 2, 'amod')], [('La', 'el', 'DET', 2, 'det'), ('esposa', 'esposa', 'NOUN', 0, 'root'), ('de', 'de', 'ADP', 5, 'case'), ('el', 'el', 'DET', 5, 'det'), ('sol', 'sol', 'NOUN', 2, 'nmod')], [('Inauguración', 'inauguración', 'NOUN', 0, 'root'), ('de', 'de', 'ADP', 4, 'case'), ('el', 'el', 'DET', 4, 'det'), ('teatro', 'teatro', 'NOUN', 1, 'nmod'), ('de', 'de', 'ADP', 6, 'case'), ('D.', 'd.', 'PROPN', 4, 'nmod'), ('José', 'José', 'PROPN', 6, 'flat'), ('Piquer-Oda', 'Piquer-Oda', 'PROPN', 6, 'flat'), ('\"', '\"', 'PUNCT', 10, 'punct'), ('Alzad', 'Alzad', 'PROPN', 4, 'appos'), ('vuestras', 'vuestro', 'DET', 12, 'det'), ('tumbas', 'tumba', 'NOUN', 10, 'obj'), ('[', '[', 'PUNCT', 10, 'punct'), ('...', '...', 'PUNCT', 10, 'punct'), (']', ']', 'PUNCT', 10, 'punct'), ('\"', '\"', 'PUNCT', 10, 'punct')], [('Estudios', 'estudios', 'NOUN', 0, 'root'), ('sobre', 'sobre', 'ADP', 5, 'case'), ('los', 'el', 'DET', 5, 'det'), ('primeros', 'primero', 'ADJ', 5, 'amod'), ('tiempos', 'tiempo', 'NOUN', 1, 'nmod'), ('de', 'de', 'ADP', 8, 'case'), ('la', 'el', 'DET', 8, 'det'), ('Rusia', 'Rusia', 'PROPN', 5, 'nmod')], [('Estudios', 'estudios', 'NOUN', 0, 'root'), ('sobre', 'sobre', 'ADP', 5, 'case'), ('los', 'el', 'DET', 5, 'det'), ('primeros', 'primero', 'ADJ', 5, 'amod'), ('tiempos', 'tiempo', 'NOUN', 1, 'nmod'), ('de', 'de', 'ADP', 8, 'case'), ('la', 'el', 'DET', 8, 'det'), ('Rusia', 'Rusia', 'PROPN', 5, 'nmod'), ('.', '.', 'PUNCT', 1, 'punct'), ('(', '(', 'PUNCT', 2, 'punct'), ('Conclusión', 'Conclusión', 'PROPN', 0, 'root'), ('.', '.', 'PUNCT', 2, 'punct'), (')', ')', 'PUNCT', 2, 'punct')], [('A', 'a', 'ADP', 2, 'case'), ('Safo', 'Safo', 'PROPN', 0, 'root')], [('Abnegación', 'abnegación', 'NOUN', 0, 'root')], [('Sombreros', 'sombreros', 'NOUN', 0, 'root'), ('de', 'de', 'ADP', 3, 'case'), ('Alexandrine', 'alexandrine', 'PROPN', 1, 'nmod')], [('Sombreros', 'Sombreros', 'PROPN', 0, 'root'), (\"d'\", \"d'\", 'ADP', 3, 'case'), ('Alexandrine', 'alexandrine', 'PROPN', 1, 'flat')], [('Sombreros', 'Sombreros', 'PROPN', 0, 'root'), ('De', 'de', 'ADP', 3, 'case'), ('Alexandrine', 'alexandrine', 'PROPN', 1, 'flat')], [('Sombreros', 'Sombreros', 'PROPN', 0, 'root'), ('De', 'de', 'ADP', 3, 'case'), ('Alexandrine', 'alexandrine', 'PROPN', 1, 'flat')], [('Sombreros', 'Sombreros', 'PROPN', 0, 'root'), (\"d'\", \"d'\", 'ADP', 3, 'case'), ('Alexandrine', 'alexandrine', 'PROPN', 1, 'flat')], [('Sombreros', 'Sombreros', 'PROPN', 0, 'root'), (\"d'\", \"d'\", 'ADP', 3, 'case'), ('Alexandrine', 'alexandrine', 'PROPN', 1, 'flat')], [('Sombreros', 'Sombreros', 'PROPN', 0, 'root'), (\"d'\", \"d'\", 'ADP', 3, 'case'), ('Alexandrine', 'alexandrine', 'PROPN', 1, 'flat')], [('\"', '\"', 'PUNCT', 4, 'punct'), ('En', 'en', 'ADP', 4, 'case'), ('la', 'el', 'DET', 4, 'det'), ('perfumería', 'perfumería', 'NOUN', 0, 'root'), ('de', 'de', 'ADP', 6, 'case'), ('Planchais', 'planchais', 'PROPN', 4, 'nmod'), ('[', '[', 'PUNCT', 4, 'punct'), ('...', '...', 'PUNCT', 4, 'punct'), (']', ']', 'PUNCT', 4, 'punct'), ('\"', '\"', 'PUNCT', 4, 'punct')], [('\"', '\"', 'PUNCT', 2, 'punct'), ('Recomendamos', 'recomendar', 'VERB', 0, 'root'), ('a', 'a', 'ADP', 5, 'case'), ('nuestros', 'nuestro', 'DET', 5, 'det'), ('lectores', 'lector', 'NOUN', 2, 'obl:arg'), ('los', 'el', 'DET', 7, 'det'), ('pianos', 'piano', 'NOUN', 2, 'obj'), ('[', '[', 'PUNCT', 2, 'punct'), ('...', '...', 'PUNCT', 2, 'punct'), (']', ']', 'PUNCT', 2, 'punct'), ('\"', '\"', 'PUNCT', 2, 'punct')], [('\"', '\"', 'PUNCT', 2, 'punct'), ('Casa', 'casa', 'PROPN', 0, 'root'), ('de', 'de', 'ADP', 4, 'case'), ('comisión', 'comisión', 'NOUN', 2, 'nmod'), ('para', 'para', 'ADP', 6, 'case'), ('París', 'París', 'PROPN', 2, 'nmod'), ('[', '[', 'PUNCT', 2, 'punct'), ('...', '...', 'PUNCT', 2, 'punct'), (']', ']', 'PUNCT', 2, 'punct'), ('\"', '\"', 'PUNCT', 2, 'punct')], [('\"', '\"', 'PUNCT', 3, 'punct'), ('Las', 'el', 'DET', 3, 'det'), ('enfermedades', 'enfermedad', 'NOUN', 0, 'root'), ('de', 'de', 'ADP', 6, 'case'), ('el', 'el', 'DET', 6, 'det'), ('pecho', 'pecho', 'NOUN', 3, 'nmod'), ('[', '[', 'PUNCT', 3, 'punct'), ('...', '...', 'PUNCT', 3, 'punct'), (']', ']', 'PUNCT', 3, 'punct'), ('\"', '\"', 'PUNCT', 3, 'punct')], [('\"', '\"', 'PUNCT', 2, 'punct'), ('Prevenimos', 'prevenir', 'VERB', 0, 'root'), ('a', 'a', 'ADP', 5, 'case'), ('nuestros', 'nuestro', 'DET', 5, 'det'), ('lectores', 'lector', 'NOUN', 2, 'obj'), ('[', '[', 'PUNCT', 2, 'punct'), ('...', '...', 'PUNCT', 2, 'punct'), (']', ']', 'PUNCT', 2, 'punct'), ('\"', '\"', 'PUNCT', 2, 'punct')], [('Sombreros', 'Sombreros', 'PROPN', 0, 'root'), (\"d'\", \"d'\", 'ADP', 3, 'case'), ('Alexandrine', 'alexandrine', 'PROPN', 1, 'nmod'), ('y', 'y', 'CCONJ', 5, 'cc'), ('Corsets', 'Corsets', 'PROPN', 1, 'conj'), ('Plastiques', 'Plastiques', 'PROPN', 5, 'flat'), ('Mme', 'Mme', 'PROPN', 5, 'flat'), ('.', '.', 'PUNCT', 1, 'punct'), ('Bonvallet', 'Bonvallet', 'PROPN', 0, 'root')], [('\"', '\"', 'PUNCT', 3, 'punct'), ('Se', 'él', 'PRON', 3, 'expl:pass'), ('alquila', 'alquilar', 'VERB', 0, 'root'), ('una', 'uno', 'DET', 6, 'det'), ('lindísima', 'lindísimo', 'ADJ', 6, 'amod'), ('habitación', 'habitación', 'NOUN', 3, 'nsubj'), ('[', '[', 'PUNCT', 3, 'punct'), ('...', '...', 'PUNCT', 3, 'punct'), (']', ']', 'PUNCT', 3, 'punct'), ('\"', '\"', 'PUNCT', 3, 'punct')], [('Casas', 'casa', 'NOUN', 0, 'root'), ('recomendadas', 'recomendado', 'ADJ', 1, 'amod'), ('y', 'y', 'CCONJ', 4, 'cc'), ('artículos', 'artículo', 'NOUN', 1, 'conj'), ('en', 'en', 'ADP', 6, 'case'), ('voga', 'voga', 'NOUN', 4, 'nmod')], [('Corsets', 'Corsets', 'PROPN', 0, 'root'), ('plastiques', 'plastiques', 'PROPN', 1, 'amod'), ('de', 'de', 'ADP', 4, 'case'), ('Bonvallet', 'Bonvallet', 'PROPN', 1, 'nmod'), (',', ',', 'PUNCT', 6, 'punct'), ('Guantes', 'Guantes', 'PROPN', 1, 'conj'), (',', ',', 'PUNCT', 8, 'punct'), ('abanicos', 'abanico', 'NOUN', 1, 'conj'), ('y', 'y', 'CCONJ', 10, 'cc'), ('parfumes', 'paráume', 'NOUN', 1, 'conj'), ('de', 'de', 'ADP', 12, 'case'), ('Faguer', 'Faguer', 'PROPN', 10, 'nmod'), ('Labollée', 'labollée', 'PROPN', 12, 'flat'), (',', ',', 'PUNCT', 15, 'punct'), ('Joyas', 'joyas', 'PROPN', 1, 'conj'), ('de', 'de', 'ADP', 17, 'case'), ('cabellos', 'cabello', 'PROPN', 15, 'nmod'), ('Lemnnier', 'lemnnier', 'PROPN', 17, 'flat'), (',', ',', 'PUNCT', 20, 'punct'), ('Porcelaines', 'porcelaines', 'PROPN', 1, 'conj'), ('et', 'et', 'PROPN', 20, 'flat'), ('Cristaux', 'cristaux', 'PROPN', 20, 'flat'), ('Maison', 'maison', 'PROPN', 20, 'flat'), ('de', 'de', 'ADP', 25, 'case'), (\"l'Escalier\", \"l'Escalier\", 'PROPN', 20, 'flat'), ('de', 'de', 'ADP', 27, 'case'), ('Cristal', 'cristal', 'PROPN', 20, 'flat')], [('Casas', 'casa', 'NOUN', 0, 'root'), ('recomendadas', 'recomendado', 'ADJ', 1, 'amod')], [('Cintas', 'cintas', 'NOUN', 0, 'root'), ('y', 'y', 'CCONJ', 3, 'cc'), ('pasamanerías', 'pasamanería', 'NOUN', 1, 'conj'), ('de', 'de', 'ADP', 6, 'case'), ('la', 'el', 'DET', 6, 'det'), ('fábrica', 'fábrica', 'NOUN', 1, 'nmod'), ('Sorré', 'sorré', 'PROPN', 6, 'appos'), ('Dehsle', 'dehsle', 'PROPN', 7, 'flat'), (',', ',', 'PUNCT', 10, 'punct'), ('Corsets', 'Corsets', 'PROPN', 7, 'conj'), ('plastiques', 'plastiques', 'PROPN', 10, 'flat'), ('de', 'de', 'ADP', 13, 'case'), ('Bonvallet', 'Bonvallet', 'PROPN', 10, 'nmod'), (',', ',', 'PUNCT', 15, 'punct'), ('Guantes', 'Guantes', 'PROPN', 7, 'conj'), (',', ',', 'PUNCT', 17, 'punct'), ('abanicos', 'abanico', 'NOUN', 7, 'conj'), ('y', 'y', 'CCONJ', 19, 'cc'), ('parfumes', 'paráume', 'NOUN', 1, 'conj'), ('de', 'de', 'ADP', 21, 'case'), ('Faguer', 'Faguer', 'PROPN', 19, 'nmod'), ('Labollée', 'labollée', 'PROPN', 21, 'flat'), (',', ',', 'PUNCT', 24, 'punct'), ('Joyas', 'joyas', 'PROPN', 7, 'conj'), ('de', 'de', 'ADP', 26, 'case'), ('cabellos', 'cabello', 'PROPN', 24, 'nmod'), ('Lemnnier', 'lemnnier', 'PROPN', 26, 'flat'), (',', ',', 'PUNCT', 29, 'punct'), ('Porcelaines', 'porcelaines', 'PROPN', 1, 'conj'), ('et', 'et', 'PROPN', 29, 'flat'), ('Cristaux', 'cristaux', 'PROPN', 29, 'flat'), ('Maison', 'maison', 'PROPN', 29, 'flat'), ('de', 'de', 'ADP', 34, 'case'), (\"l'Escalier\", \"l'Escalier\", 'PROPN', 29, 'flat'), ('de', 'de', 'ADP', 36, 'case'), ('Cristal', 'cristal', 'PROPN', 29, 'flat')], [('Lait', 'lait', 'PROPN', 0, 'root'), ('antephelique', 'antephelique', 'PROPN', 1, 'flat'), ('.', '.', 'PUNCT', 1, 'punct'), ('Pecas', 'pecas', 'NOUN', 0, 'root'), ('y', 'y', 'CCONJ', 3, 'cc'), ('manchas', 'mancha', 'NOUN', 1, 'conj'), ('de', 'de', 'ADP', 6, 'case'), ('la', 'el', 'DET', 6, 'det'), ('cara', 'cara', 'NOUN', 1, 'nmod')], [('Camisas', 'Camisas', 'PROPN', 0, 'root'), ('Claudio', 'Claudio', 'PROPN', 1, 'flat'), (',', ',', 'PUNCT', 4, 'punct'), ('Hermanos', 'hermano', 'PROPN', 1, 'appos')], [('Tintura', 'tintura', 'NOUN', 0, 'root'), ('inglesa', 'inglés', 'ADJ', 1, 'amod'), ('instantánea', 'instantáneo', 'ADJ', 1, 'amod')], [('Casa', 'casa', 'NOUN', 0, 'root'), ('particular', 'particular', 'ADJ', 1, 'amod'), ('de', 'de', 'ADP', 4, 'case'), ('Huéspedes', 'Huéspedes', 'PROPN', 1, 'nmod')], [('Casa', 'casa', 'PROPN', 0, 'root'), ('Delacroix', 'delacroix', 'PROPN', 1, 'flat')], [('Jules', 'jules', 'PROPN', 0, 'root'), ('Bloch', 'bloch', 'PROPN', 1, 'flat'), (',', ',', 'PUNCT', 4, 'punct'), ('dentista', 'dentista', 'NOUN', 1, 'appos')], [('La', 'el', 'DET', 2, 'det'), ('Gaceta', 'gaceta', 'PROPN', 0, 'root'), ('de', 'de', 'ADP', 5, 'case'), ('Bellas', 'bellas', 'PROPN', 5, 'amod'), ('Artes', 'artes', 'PROPN', 2, 'nmod')], [('Pecas', 'pecas', 'NOUN', 0, 'root'), ('y', 'y', 'CCONJ', 3, 'cc'), ('manchas', 'mancha', 'NOUN', 1, 'conj'), ('de', 'de', 'ADP', 6, 'case'), ('la', 'el', 'DET', 6, 'det'), ('cara', 'cara', 'NOUN', 1, 'nmod')], [('Casas', 'casa', 'NOUN', 0, 'root'), ('recomendadas', 'recomendado', 'ADJ', 1, 'amod')], [('Porta-monedas', 'Porta-monedas', 'PROPN', 0, 'root'), ('Despierres', 'despierres', 'PROPN', 1, 'flat')], [('Tarifs', 'tarifs', 'PROPN', 0, 'root'), ('des', 'd', 'PROPN', 1, 'flat'), ('insertions', 'insertions', 'PROPN', 1, 'flat')], [('Cintas', 'cintas', 'NOUN', 0, 'root'), ('y', 'y', 'CCONJ', 3, 'cc'), ('pasamanerías', 'pasamanería', 'NOUN', 1, 'conj'), ('de', 'de', 'ADP', 6, 'case'), ('la', 'el', 'DET', 6, 'det'), ('fábrica', 'fábrica', 'NOUN', 1, 'nmod'), ('Sorré', 'sorré', 'PROPN', 6, 'appos'), ('Dehsle', 'dehsle', 'PROPN', 7, 'flat'), (',', ',', 'PUNCT', 10, 'punct'), ('Corsets', 'Corsets', 'PROPN', 7, 'conj'), ('plastiques', 'plastiques', 'PROPN', 10, 'flat'), ('de', 'de', 'ADP', 13, 'case'), ('Bonvallet', 'Bonvallet', 'PROPN', 10, 'nmod'), (',', ',', 'PUNCT', 15, 'punct'), ('Guantes', 'Guantes', 'PROPN', 7, 'conj'), (',', ',', 'PUNCT', 17, 'punct'), ('abanicos', 'abanico', 'NOUN', 7, 'conj'), ('y', 'y', 'CCONJ', 19, 'cc'), ('parfumes', 'paráume', 'NOUN', 1, 'conj'), ('de', 'de', 'ADP', 21, 'case'), ('Faguer', 'Faguer', 'PROPN', 19, 'nmod'), ('Labollée', 'labollée', 'PROPN', 21, 'flat'), (',', ',', 'PUNCT', 24, 'punct'), ('Joyas', 'joyas', 'PROPN', 7, 'conj'), ('de', 'de', 'ADP', 26, 'case'), ('cabellos', 'cabello', 'PROPN', 24, 'nmod'), ('Lemnnier', 'lemnnier', 'PROPN', 26, 'flat'), (',', ',', 'PUNCT', 29, 'punct'), ('Porcelaines', 'porcelaines', 'PROPN', 1, 'conj'), ('et', 'et', 'PROPN', 29, 'flat'), ('Cristaux', 'cristaux', 'PROPN', 29, 'flat'), ('Maison', 'maison', 'PROPN', 29, 'flat'), ('de', 'de', 'ADP', 34, 'case'), (\"l'Escalier\", \"l'Escalier\", 'PROPN', 29, 'flat'), ('de', 'de', 'ADP', 36, 'case'), ('Cristal', 'cristal', 'PROPN', 29, 'flat')], [('Camisas', 'Camisas', 'PROPN', 0, 'root'), ('Claudio', 'Claudio', 'PROPN', 1, 'flat'), (',', ',', 'PUNCT', 4, 'punct'), ('Hermanos', 'hermano', 'PROPN', 1, 'appos')], [('Nueva', 'nueva', 'PROPN', 2, 'amod'), ('Geografía', 'geografía', 'PROPN', 0, 'root'), ('Sangansan', 'sangansan', 'PROPN', 2, 'amod')], [('Casa', 'casa', 'NOUN', 0, 'root'), ('particular', 'particular', 'ADJ', 1, 'amod'), ('de', 'de', 'ADP', 4, 'case'), ('Huéspedes', 'Huéspedes', 'PROPN', 1, 'nmod')], [('Casa', 'casa', 'PROPN', 0, 'root'), ('Delacroix', 'delacroix', 'PROPN', 1, 'flat')], [('Jules', 'jules', 'PROPN', 0, 'root'), ('Bloch', 'bloch', 'PROPN', 1, 'flat'), (',', ',', 'PUNCT', 4, 'punct'), ('dentista', 'dentista', 'NOUN', 1, 'appos')], [('Platería', 'Platería', 'PROPN', 0, 'root'), ('Cristofle', 'cristofle', 'PROPN', 1, 'flat')], [('Casas', 'casa', 'NOUN', 0, 'root'), ('recomendadas', 'recomendado', 'ADJ', 1, 'amod')], [('Tarifs', 'tarifs', 'PROPN', 0, 'root'), ('des', 'd', 'PROPN', 1, 'flat'), ('insertions', 'insertions', 'PROPN', 1, 'flat')], [('Cintas', 'cintas', 'NOUN', 0, 'root'), ('y', 'y', 'CCONJ', 3, 'cc'), ('pasamanerías', 'pasamanería', 'NOUN', 1, 'conj'), ('de', 'de', 'ADP', 6, 'case'), ('la', 'el', 'DET', 6, 'det'), ('fábrica', 'fábrica', 'NOUN', 1, 'nmod'), ('Sorré', 'sorré', 'PROPN', 6, 'appos'), ('Dehsle', 'dehsle', 'PROPN', 7, 'flat'), (',', ',', 'PUNCT', 10, 'punct'), ('Corsets', 'Corsets', 'PROPN', 7, 'conj'), ('plastiques', 'plastiques', 'PROPN', 10, 'flat'), ('de', 'de', 'ADP', 13, 'case'), ('Bonvallet', 'Bonvallet', 'PROPN', 10, 'nmod'), (',', ',', 'PUNCT', 15, 'punct'), ('Guantes', 'Guantes', 'PROPN', 7, 'conj'), (',', ',', 'PUNCT', 17, 'punct'), ('abanicos', 'abanico', 'NOUN', 7, 'conj'), ('y', 'y', 'CCONJ', 19, 'cc'), ('parfumes', 'paráume', 'NOUN', 1, 'conj'), ('de', 'de', 'ADP', 21, 'case'), ('Faguer', 'Faguer', 'PROPN', 19, 'nmod'), ('Labollée', 'labollée', 'PROPN', 21, 'flat'), (',', ',', 'PUNCT', 24, 'punct'), ('Joyas', 'joyas', 'PROPN', 7, 'conj'), ('de', 'de', 'ADP', 26, 'case'), ('cabellos', 'cabello', 'PROPN', 24, 'nmod'), ('Lemnnier', 'lemnnier', 'PROPN', 26, 'flat'), (',', ',', 'PUNCT', 29, 'punct'), ('Porcelaines', 'porcelaines', 'PROPN', 1, 'conj'), ('et', 'et', 'PROPN', 29, 'flat'), ('Cristaux', 'cristaux', 'PROPN', 29, 'flat'), ('Maison', 'maison', 'PROPN', 29, 'flat'), ('de', 'de', 'ADP', 34, 'case'), (\"l'Escalier\", \"l'Escalier\", 'PROPN', 29, 'flat'), ('de', 'de', 'ADP', 36, 'case'), ('Cristal', 'cristal', 'PROPN', 29, 'flat')], [('Camisas', 'Camisas', 'PROPN', 0, 'root'), ('Claudio', 'Claudio', 'PROPN', 1, 'flat'), (',', ',', 'PUNCT', 4, 'punct'), ('Hermanos', 'hermano', 'PROPN', 1, 'appos')], [('Nueva', 'nueva', 'PROPN', 2, 'amod'), ('Geografía', 'geografía', 'PROPN', 0, 'root'), ('Sangansan', 'sangansan', 'PROPN', 2, 'amod')], [('Casa', 'casa', 'NOUN', 0, 'root'), ('particular', 'particular', 'ADJ', 1, 'amod'), ('de', 'de', 'ADP', 4, 'case'), ('Huéspedes', 'Huéspedes', 'PROPN', 1, 'nmod')], [('Casa', 'casa', 'PROPN', 0, 'root'), ('Delacroix', 'delacroix', 'PROPN', 1, 'flat')], [('Jules', 'jules', 'PROPN', 0, 'root'), ('Bloch', 'bloch', 'PROPN', 1, 'flat'), (',', ',', 'PUNCT', 4, 'punct'), ('dentista', 'dentista', 'NOUN', 1, 'appos')], [('Platería', 'Platería', 'PROPN', 0, 'root'), ('Cristofle', 'cristofle', 'PROPN', 1, 'flat')], [('Casas', 'casa', 'NOUN', 0, 'root'), ('recomendadas', 'recomendado', 'ADJ', 1, 'amod')], [('Tarifs', 'tarifs', 'PROPN', 0, 'root'), ('des', 'd', 'PROPN', 1, 'flat'), ('insertions', 'insertions', 'PROPN', 1, 'flat')], [('Camisas', 'Camisas', 'PROPN', 0, 'root'), ('Claudio', 'Claudio', 'PROPN', 1, 'flat'), (',', ',', 'PUNCT', 4, 'punct'), ('Hermanos', 'hermano', 'PROPN', 1, 'appos')], [('Nueva', 'nueva', 'PROPN', 2, 'amod'), ('Geografía', 'geografía', 'PROPN', 0, 'root'), ('Sangansan', 'sangansan', 'PROPN', 2, 'amod')], [('Casa', 'casa', 'NOUN', 0, 'root'), ('particular', 'particular', 'ADJ', 1, 'amod'), ('de', 'de', 'ADP', 4, 'case'), ('Huéspedes', 'Huéspedes', 'PROPN', 1, 'nmod')], [('Casa', 'casa', 'PROPN', 0, 'root'), ('Delacroix', 'delacroix', 'PROPN', 1, 'flat')], [('Jules', 'jules', 'PROPN', 0, 'root'), ('Bloch', 'bloch', 'PROPN', 1, 'flat'), (',', ',', 'PUNCT', 4, 'punct'), ('dentista', 'dentista', 'NOUN', 1, 'appos')], [('Platería', 'Platería', 'PROPN', 0, 'root'), ('Cristofle', 'cristofle', 'PROPN', 1, 'flat')], [('Casas', 'casa', 'NOUN', 0, 'root'), ('recomendadas', 'recomendado', 'ADJ', 1, 'amod')], [('Tarifs', 'tarifs', 'PROPN', 0, 'root'), ('des', 'd', 'PROPN', 1, 'flat'), ('insertions', 'insertions', 'PROPN', 1, 'flat')], [('Camisas', 'Camisas', 'PROPN', 0, 'root'), ('Claudio', 'Claudio', 'PROPN', 1, 'flat'), (',', ',', 'PUNCT', 4, 'punct'), ('Hermanos', 'hermano', 'PROPN', 1, 'appos')], [('Nueva', 'nueva', 'PROPN', 2, 'amod'), ('Geografía', 'geografía', 'PROPN', 0, 'root'), ('Sangansan', 'sangansan', 'PROPN', 2, 'amod')], [('Casa', 'casa', 'NOUN', 0, 'root'), ('particular', 'particular', 'ADJ', 1, 'amod'), ('de', 'de', 'ADP', 4, 'case'), ('Huéspedes', 'Huéspedes', 'PROPN', 1, 'nmod')], [('Casa', 'casa', 'PROPN', 0, 'root'), ('Delacroix', 'delacroix', 'PROPN', 1, 'flat')], [('Jules', 'jules', 'PROPN', 0, 'root'), ('Bloch', 'bloch', 'PROPN', 1, 'flat'), (',', ',', 'PUNCT', 4, 'punct'), ('dentista', 'dentista', 'NOUN', 1, 'appos')], [('Platería', 'Platería', 'PROPN', 0, 'root'), ('Cristofle', 'cristofle', 'PROPN', 1, 'flat')], [('Casas', 'casa', 'NOUN', 0, 'root'), ('recomendadas', 'recomendado', 'ADJ', 1, 'amod')], [('Platería', 'Platería', 'PROPN', 0, 'root'), ('Cristofle', 'cristofle', 'PROPN', 1, 'flat')], [('Camisas', 'Camisas', 'PROPN', 0, 'root'), ('Claudio', 'Claudio', 'PROPN', 1, 'flat'), (',', ',', 'PUNCT', 4, 'punct'), ('Hermanos', 'hermano', 'PROPN', 1, 'appos')], [('Nueva', 'nueva', 'PROPN', 2, 'amod'), ('Geografía', 'geografía', 'PROPN', 0, 'root'), ('Sangansan', 'sangansan', 'PROPN', 2, 'amod')], [('Casa', 'casa', 'NOUN', 0, 'root'), ('particular', 'particular', 'ADJ', 1, 'amod'), ('de', 'de', 'ADP', 4, 'case'), ('Huéspedes', 'Huéspedes', 'PROPN', 1, 'nmod')], [('Casa', 'casa', 'PROPN', 0, 'root'), ('Delacroix', 'delacroix', 'PROPN', 1, 'flat')], [('Jules', 'jules', 'PROPN', 0, 'root'), ('Bloch', 'bloch', 'PROPN', 1, 'flat'), (',', ',', 'PUNCT', 4, 'punct'), ('dentista', 'dentista', 'NOUN', 1, 'appos')], [('Casas', 'casa', 'NOUN', 0, 'root'), ('recomendadas', 'recomendado', 'ADJ', 1, 'amod')], [('Cintas', 'cintas', 'NOUN', 0, 'root'), ('y', 'y', 'CCONJ', 3, 'cc'), ('pasamanerías', 'pasamanería', 'NOUN', 1, 'conj'), ('de', 'de', 'ADP', 6, 'case'), ('la', 'el', 'DET', 6, 'det'), ('fábrica', 'fábrica', 'NOUN', 1, 'nmod'), ('Sorré', 'sorré', 'PROPN', 6, 'appos'), ('Dehsle', 'dehsle', 'PROPN', 7, 'flat'), (',', ',', 'PUNCT', 10, 'punct'), ('Corsets', 'Corsets', 'PROPN', 7, 'conj'), ('plastiques', 'plastiques', 'PROPN', 10, 'flat'), ('de', 'de', 'ADP', 13, 'case'), ('Bonvallet', 'Bonvallet', 'PROPN', 10, 'nmod'), (',', ',', 'PUNCT', 15, 'punct'), ('Guantes', 'Guantes', 'PROPN', 7, 'conj'), (',', ',', 'PUNCT', 17, 'punct'), ('abanicos', 'abanico', 'NOUN', 7, 'conj'), ('y', 'y', 'CCONJ', 19, 'cc'), ('parfumes', 'paráume', 'NOUN', 1, 'conj'), ('de', 'de', 'ADP', 21, 'case'), ('Faguer', 'Faguer', 'PROPN', 19, 'nmod'), ('Labollée', 'labollée', 'PROPN', 21, 'flat'), (',', ',', 'PUNCT', 24, 'punct'), ('Joyas', 'joyas', 'PROPN', 7, 'conj'), ('de', 'de', 'ADP', 26, 'case'), ('cabellos', 'cabello', 'PROPN', 24, 'nmod'), ('Lemnnier', 'lemnnier', 'PROPN', 26, 'flat'), (',', ',', 'PUNCT', 29, 'punct'), ('Porcelaines', 'porcelaines', 'PROPN', 1, 'conj'), ('et', 'et', 'PROPN', 29, 'flat'), ('Cristaux', 'cristaux', 'PROPN', 29, 'flat'), ('Maison', 'maison', 'PROPN', 29, 'flat'), ('de', 'de', 'ADP', 34, 'case'), (\"l'Escalier\", \"l'Escalier\", 'PROPN', 29, 'flat'), ('de', 'de', 'ADP', 36, 'case'), ('Cristal', 'cristal', 'PROPN', 29, 'flat')], [('Camisas', 'Camisas', 'PROPN', 0, 'root'), ('Claudio', 'Claudio', 'PROPN', 1, 'flat'), (',', ',', 'PUNCT', 4, 'punct'), ('Hermanos', 'hermano', 'PROPN', 1, 'appos')], [('Nueva', 'nueva', 'PROPN', 2, 'amod'), ('Geografía', 'geografía', 'PROPN', 0, 'root'), ('Sangansan', 'sangansan', 'PROPN', 2, 'amod')], [('Casa', 'casa', 'NOUN', 0, 'root'), ('particular', 'particular', 'ADJ', 1, 'amod'), ('de', 'de', 'ADP', 4, 'case'), ('Huéspedes', 'Huéspedes', 'PROPN', 1, 'nmod')], [('Casa', 'casa', 'PROPN', 0, 'root'), ('Delacroix', 'delacroix', 'PROPN', 1, 'flat')], [('Jules', 'jules', 'PROPN', 0, 'root'), ('Bloch', 'bloch', 'PROPN', 1, 'flat'), (',', ',', 'PUNCT', 4, 'punct'), ('dentista', 'dentista', 'NOUN', 1, 'appos')], [('Platería', 'Platería', 'PROPN', 0, 'root'), ('Cristofle', 'cristofle', 'PROPN', 1, 'flat')], [('Camisas', 'Camisas', 'PROPN', 0, 'root'), ('Claudio', 'Claudio', 'PROPN', 1, 'flat'), (',', ',', 'PUNCT', 4, 'punct'), ('Hermanos', 'hermano', 'PROPN', 1, 'appos')], [('Nueva', 'nueva', 'PROPN', 2, 'amod'), ('Geografía', 'geografía', 'PROPN', 0, 'root'), ('Sangansan', 'sangansan', 'PROPN', 2, 'amod')], [('Casa', 'casa', 'NOUN', 0, 'root'), ('particular', 'particular', 'ADJ', 1, 'amod'), ('de', 'de', 'ADP', 4, 'case'), ('Huéspedes', 'Huéspedes', 'PROPN', 1, 'nmod')], [('Casa', 'casa', 'PROPN', 0, 'root'), ('Delacroix', 'delacroix', 'PROPN', 1, 'flat')], [('Jules', 'jules', 'PROPN', 0, 'root'), ('Bloch', 'bloch', 'PROPN', 1, 'flat'), (',', ',', 'PUNCT', 4, 'punct'), ('dentista', 'dentista', 'NOUN', 1, 'appos')], [('Platería', 'Platería', 'PROPN', 0, 'root'), ('Cristofle', 'cristofle', 'PROPN', 1, 'flat')], [('Casas', 'casa', 'NOUN', 0, 'root'), ('recomendadas', 'recomendado', 'ADJ', 1, 'amod')], [('Cintas', 'cintas', 'NOUN', 0, 'root'), ('y', 'y', 'CCONJ', 3, 'cc'), ('pasamanerías', 'pasamanería', 'NOUN', 1, 'conj'), ('de', 'de', 'ADP', 6, 'case'), ('la', 'el', 'DET', 6, 'det'), ('fábrica', 'fábrica', 'NOUN', 1, 'nmod'), ('Sorré', 'sorré', 'PROPN', 6, 'appos'), ('Dehsle', 'dehsle', 'PROPN', 7, 'flat'), (',', ',', 'PUNCT', 10, 'punct'), ('Corsets', 'Corsets', 'PROPN', 7, 'conj'), ('plastiques', 'plastiques', 'PROPN', 10, 'flat'), ('de', 'de', 'ADP', 13, 'case'), ('Bonvallet', 'Bonvallet', 'PROPN', 10, 'nmod'), (',', ',', 'PUNCT', 15, 'punct'), ('Guantes', 'Guantes', 'PROPN', 7, 'conj'), (',', ',', 'PUNCT', 17, 'punct'), ('abanicos', 'abanico', 'NOUN', 7, 'conj'), ('y', 'y', 'CCONJ', 19, 'cc'), ('parfumes', 'paráume', 'NOUN', 1, 'conj'), ('de', 'de', 'ADP', 21, 'case'), ('Faguer', 'Faguer', 'PROPN', 19, 'nmod'), ('Labollée', 'labollée', 'PROPN', 21, 'flat'), (',', ',', 'PUNCT', 24, 'punct'), ('Joyas', 'joyas', 'PROPN', 7, 'conj'), ('de', 'de', 'ADP', 26, 'case'), ('cabellos', 'cabello', 'PROPN', 24, 'nmod'), ('Lemnnier', 'lemnnier', 'PROPN', 26, 'flat'), (',', ',', 'PUNCT', 29, 'punct'), ('Porcelaines', 'porcelaines', 'PROPN', 1, 'conj'), ('et', 'et', 'PROPN', 29, 'flat'), ('Cristaux', 'cristaux', 'PROPN', 29, 'flat'), ('Maison', 'maison', 'PROPN', 29, 'flat'), ('de', 'de', 'ADP', 34, 'case'), (\"l'Escalier\", \"l'Escalier\", 'PROPN', 29, 'flat'), ('de', 'de', 'ADP', 36, 'case'), ('Cristal', 'cristal', 'PROPN', 29, 'flat')], [('Camisas', 'Camisas', 'PROPN', 0, 'root'), ('Claudio', 'Claudio', 'PROPN', 1, 'flat'), (',', ',', 'PUNCT', 4, 'punct'), ('Hermanos', 'hermano', 'PROPN', 1, 'appos')], [('Nueva', 'nueva', 'PROPN', 2, 'amod'), ('Geografía', 'geografía', 'PROPN', 0, 'root'), ('Sangansan', 'sangansan', 'PROPN', 2, 'amod')], [('Casa', 'casa', 'NOUN', 0, 'root'), ('particular', 'particular', 'ADJ', 1, 'amod'), ('de', 'de', 'ADP', 4, 'case'), ('Huéspedes', 'Huéspedes', 'PROPN', 1, 'nmod')], [('Casa', 'casa', 'PROPN', 0, 'root'), ('Delacroix', 'delacroix', 'PROPN', 1, 'flat')], [('Jules', 'jules', 'PROPN', 0, 'root'), ('Bloch', 'bloch', 'PROPN', 1, 'flat'), (',', ',', 'PUNCT', 4, 'punct'), ('dentista', 'dentista', 'NOUN', 1, 'appos')], [('Platería', 'Platería', 'PROPN', 0, 'root'), ('Cristofle', 'cristofle', 'PROPN', 1, 'flat')], [('Cintas', 'cintas', 'NOUN', 0, 'root'), ('y', 'y', 'CCONJ', 3, 'cc'), ('pasamanerías', 'pasamanería', 'NOUN', 1, 'conj'), ('de', 'de', 'ADP', 6, 'case'), ('la', 'el', 'DET', 6, 'det'), ('fábrica', 'fábrica', 'NOUN', 1, 'nmod'), ('Sorré', 'sorré', 'PROPN', 6, 'appos'), ('Dehsle', 'dehsle', 'PROPN', 7, 'flat'), (',', ',', 'PUNCT', 10, 'punct'), ('Corsets', 'Corsets', 'PROPN', 7, 'conj'), ('plastiques', 'plastiques', 'PROPN', 10, 'flat'), ('de', 'de', 'ADP', 13, 'case'), ('Bonvallet', 'Bonvallet', 'PROPN', 10, 'nmod'), (',', ',', 'PUNCT', 15, 'punct'), ('Guantes', 'Guantes', 'PROPN', 7, 'conj'), (',', ',', 'PUNCT', 17, 'punct'), ('abanicos', 'abanico', 'NOUN', 7, 'conj'), ('y', 'y', 'CCONJ', 19, 'cc'), ('parfumes', 'paráume', 'NOUN', 1, 'conj'), ('de', 'de', 'ADP', 21, 'case'), ('Faguer', 'Faguer', 'PROPN', 19, 'nmod'), ('Labollée', 'labollée', 'PROPN', 21, 'flat'), (',', ',', 'PUNCT', 24, 'punct'), ('Joyas', 'joyas', 'PROPN', 7, 'conj'), ('de', 'de', 'ADP', 26, 'case'), ('cabellos', 'cabello', 'PROPN', 24, 'nmod'), ('Lemnnier', 'lemnnier', 'PROPN', 26, 'flat'), (',', ',', 'PUNCT', 29, 'punct'), ('Porcelaines', 'porcelaines', 'PROPN', 1, 'conj'), ('et', 'et', 'PROPN', 29, 'flat'), ('Cristaux', 'cristaux', 'PROPN', 29, 'flat'), ('Maison', 'maison', 'PROPN', 29, 'flat'), ('de', 'de', 'ADP', 34, 'case'), (\"l'Escalier\", \"l'Escalier\", 'PROPN', 29, 'flat'), ('de', 'de', 'ADP', 36, 'case'), ('Cristal', 'cristal', 'PROPN', 29, 'flat')], [('Platería', 'Platería', 'PROPN', 0, 'root'), ('Cristofle', 'cristofle', 'PROPN', 1, 'flat')], [('Obras', 'obras', 'NOUN', 0, 'root'), ('de', 'de', 'ADP', 4, 'case'), ('la', 'el', 'DET', 4, 'det'), ('señora', 'señora', 'NOUN', 1, 'nmod'), ('doña', 'doña', 'ADJ', 4, 'appos'), ('Emilia', 'emilia', 'PROPN', 4, 'appos'), ('Serrano', 'Serrano', 'PROPN', 6, 'flat'), ('de', 'de', 'ADP', 9, 'case'), ('Wilson', 'wilson', 'PROPN', 6, 'flat')], [('Platería', 'Platería', 'PROPN', 0, 'root'), ('Cristofle', 'cristofle', 'PROPN', 1, 'flat')], [('Obras', 'obras', 'NOUN', 0, 'root'), ('de', 'de', 'ADP', 4, 'case'), ('la', 'el', 'DET', 4, 'det'), ('señora', 'señora', 'NOUN', 1, 'nmod'), ('doña', 'doña', 'ADJ', 4, 'appos'), ('Emilia', 'emilia', 'PROPN', 4, 'appos'), ('Serrano', 'Serrano', 'PROPN', 6, 'flat'), ('de', 'de', 'ADP', 9, 'case'), ('Wilson', 'wilson', 'PROPN', 6, 'flat')], [('Platería', 'Platería', 'PROPN', 0, 'root'), ('Cristofle', 'cristofle', 'PROPN', 1, 'flat')], [('Obras', 'obras', 'NOUN', 0, 'root'), ('de', 'de', 'ADP', 4, 'case'), ('la', 'el', 'DET', 4, 'det'), ('señora', 'señora', 'NOUN', 1, 'nmod'), ('doña', 'doña', 'ADJ', 4, 'appos'), ('Emilia', 'emilia', 'PROPN', 4, 'appos'), ('Serrano', 'Serrano', 'PROPN', 6, 'flat'), ('de', 'de', 'ADP', 9, 'case'), ('Wilson', 'wilson', 'PROPN', 6, 'flat')], [('Modes', 'Modes', 'PROPN', 0, 'root'), ('de', 'de', 'ADP', 3, 'case'), ('Paris', 'parís', 'PROPN', 1, 'flat'), ('.', '.', 'PUNCT', 1, 'punct'), ('Petit', 'petit', 'PROPN', 0, 'root'), ('Courrier', 'courrier', 'PROPN', 1, 'flat'), ('des', 'des', 'ADP', 4, 'case'), ('Dames', 'dames', 'PROPN', 1, 'flat')], [('El', 'el', 'DET', 2, 'det'), ('Eco', 'Eco', 'PROPN', 0, 'root'), ('Hispano-Americano', 'Hispano-Americano', 'PROPN', 2, 'amod')], [('Obras', 'obras', 'NOUN', 0, 'root'), ('de', 'de', 'ADP', 4, 'case'), ('la', 'el', 'DET', 4, 'det'), ('señora', 'señora', 'NOUN', 1, 'nmod'), ('doña', 'doña', 'ADJ', 4, 'appos'), ('Emilia', 'emilia', 'PROPN', 4, 'appos'), ('Serrano', 'Serrano', 'PROPN', 6, 'flat'), ('de', 'de', 'ADP', 9, 'case'), ('Wilson', 'wilson', 'PROPN', 6, 'flat')], [('El', 'el', 'DET', 2, 'det'), ('Eco', 'Eco', 'PROPN', 0, 'root'), ('Hispano-Americano', 'Hispano-Americano', 'PROPN', 2, 'amod')], [('Anuncio', 'anuncio', 'NOUN', 0, 'root')], [('Obras', 'obras', 'NOUN', 0, 'root'), ('de', 'de', 'ADP', 4, 'case'), ('la', 'el', 'DET', 4, 'det'), ('señora', 'señora', 'NOUN', 1, 'nmod'), ('doña', 'doña', 'ADJ', 4, 'appos'), ('Emilia', 'emilia', 'PROPN', 4, 'appos'), ('Serrano', 'Serrano', 'PROPN', 6, 'flat'), ('de', 'de', 'ADP', 9, 'case'), ('Wilson', 'wilson', 'PROPN', 6, 'flat')], [('Explicación', 'explicación', 'NOUN', 0, 'root'), ('de', 'de', 'ADP', 4, 'case'), ('la', 'el', 'DET', 4, 'det'), ('lámina', 'lámina', 'NOUN', 1, 'nmod'), ('de', 'de', 'ADP', 6, 'case'), ('tapicería', 'tapicería', 'NOUN', 4, 'nmod')], [('Explicación', 'explicación', 'NOUN', 0, 'root'), ('de', 'de', 'ADP', 4, 'case'), ('la', 'el', 'DET', 4, 'det'), ('lámina', 'lámina', 'NOUN', 1, 'nmod'), ('de', 'de', 'ADP', 6, 'case'), ('tapicería', 'tapicería', 'NOUN', 4, 'nmod')], [('Explicación', 'explicación', 'NOUN', 0, 'root'), ('de', 'de', 'ADP', 4, 'case'), ('el', 'el', 'DET', 4, 'det'), ('figurín', 'figurín', 'NOUN', 1, 'nmod')], [('Moda', 'Moda', 'PROPN', 0, 'root'), ('de', 'de', 'ADP', 3, 'case'), ('Caballeros', 'Caballeros', 'PROPN', 1, 'nmod')], [('Explicación', 'explicación', 'NOUN', 0, 'root'), ('de', 'de', 'ADP', 4, 'case'), ('el', 'el', 'DET', 4, 'det'), ('figurín', 'figurín', 'NOUN', 1, 'nmod'), ('1', '1', 'NUM', 4, 'appos'), ('º', 'º', 'SYM', 5, 'dep')], [('Explicación', 'explicación', 'NOUN', 0, 'root'), ('de', 'de', 'ADP', 4, 'case'), ('el', 'el', 'DET', 4, 'det'), ('figurín', 'figurín', 'NOUN', 1, 'nmod'), ('2', '2', 'NUM', 4, 'nummod'), ('º', 'º', 'SYM', 5, 'dep')], [('Descripción', 'descripción', 'NOUN', 0, 'root'), ('de', 'de', 'ADP', 4, 'case'), ('el', 'el', 'DET', 4, 'det'), ('figurín', 'figurín', 'NOUN', 1, 'nmod'), (':', ':', 'PUNCT', 9, 'punct'), ('primer', 'primero', 'ADJ', 9, 'amod'), ('y', 'y', 'CCONJ', 8, 'cc'), ('segundo', 'segundo', 'ADJ', 6, 'conj'), ('traje', 'traje', 'NOUN', 1, 'appos')], [('Descripción', 'descripción', 'NOUN', 0, 'root'), ('de', 'de', 'ADP', 4, 'case'), ('el', 'el', 'DET', 4, 'det'), ('figurín', 'figurín', 'NOUN', 1, 'nmod'), (':', ':', 'PUNCT', 6, 'punct'), ('traje', 'traje', 'NOUN', 1, 'appos'), ('de', 'de', 'ADP', 9, 'case'), ('la', 'el', 'DET', 9, 'det'), ('novia', 'novia', 'NOUN', 6, 'nmod'), ('y', 'y', 'CCONJ', 13, 'cc'), ('de', 'de', 'ADP', 13, 'case'), ('la', 'el', 'DET', 13, 'det'), ('madre', 'madre', 'NOUN', 9, 'conj')], [('Explicación', 'explicación', 'NOUN', 0, 'root'), ('de', 'de', 'ADP', 4, 'case'), ('el', 'el', 'DET', 4, 'det'), ('figurín', 'figurín', 'NOUN', 1, 'nmod')], [('Descripción', 'descripción', 'NOUN', 0, 'root'), ('de', 'de', 'ADP', 4, 'case'), ('el', 'el', 'DET', 4, 'det'), ('figurín', 'figurín', 'NOUN', 1, 'nmod'), ('de', 'de', 'ADP', 6, 'case'), ('baile', 'baile', 'NOUN', 4, 'nmod')], [('Figurín', 'figurín', 'NOUN', 0, 'root'), ('de', 'de', 'ADP', 3, 'case'), ('visita', 'visita', 'NOUN', 1, 'nmod')], [('Explicación', 'explicación', 'NOUN', 0, 'root'), ('de', 'de', 'ADP', 4, 'case'), ('el', 'el', 'DET', 4, 'det'), ('figurín', 'figurín', 'NOUN', 1, 'nmod')], [('Explicación', 'explicación', 'NOUN', 0, 'root'), ('de', 'de', 'ADP', 4, 'case'), ('el', 'el', 'DET', 4, 'det'), ('figurín', 'figurín', 'NOUN', 1, 'nmod')], [('Explicación', 'explicación', 'NOUN', 0, 'root'), ('de', 'de', 'ADP', 4, 'case'), ('el', 'el', 'DET', 4, 'det'), ('figurín', 'figurín', 'NOUN', 1, 'nmod')], [('Explicación', 'explicación', 'NOUN', 0, 'root'), ('de', 'de', 'ADP', 4, 'case'), ('el', 'el', 'DET', 4, 'det'), ('figurín', 'figurín', 'NOUN', 1, 'nmod')], [('Explicación', 'explicación', 'NOUN', 0, 'root'), ('de', 'de', 'ADP', 4, 'case'), ('el', 'el', 'DET', 4, 'det'), ('figurín', 'figurín', 'NOUN', 1, 'nmod')], [('Explicación', 'explicación', 'NOUN', 0, 'root'), ('de', 'de', 'ADP', 4, 'case'), ('el', 'el', 'DET', 4, 'det'), ('figurín', 'figurín', 'NOUN', 1, 'nmod')], [('Explicación', 'explicación', 'NOUN', 0, 'root'), ('de', 'de', 'ADP', 4, 'case'), ('los', 'el', 'DET', 4, 'det'), ('figurines', 'figurín', 'NOUN', 1, 'nmod'), ('.', '.', 'PUNCT', 1, 'punct'), ('Primero', 'primero', 'ADV', 0, 'root')], [('Explicación', 'explicación', 'NOUN', 0, 'root'), ('de', 'de', 'ADP', 4, 'case'), ('los', 'el', 'DET', 4, 'det'), ('figurines', 'figurín', 'NOUN', 1, 'nmod'), ('.', '.', 'PUNCT', 1, 'punct'), ('Segundo', 'segundo', 'ADJ', 0, 'root')], [('Revista', 'revista', 'NOUN', 0, 'root'), ('de', 'de', 'ADP', 4, 'case'), ('la', 'el', 'DET', 4, 'det'), ('moda', 'moda', 'NOUN', 1, 'nmod')], [('Revista', 'revista', 'NOUN', 0, 'root'), ('de', 'de', 'ADP', 3, 'case'), ('París', 'París', 'PROPN', 1, 'nmod')], [('Revista', 'revista', 'NOUN', 0, 'root'), ('de', 'de', 'ADP', 4, 'case'), ('la', 'el', 'DET', 4, 'det'), ('moda', 'moda', 'NOUN', 1, 'nmod')], [('Revista', 'revista', 'NOUN', 0, 'root'), ('de', 'de', 'ADP', 3, 'case'), ('París', 'París', 'PROPN', 1, 'nmod')], [('Revista', 'revista', 'NOUN', 0, 'root'), ('de', 'de', 'ADP', 4, 'case'), ('la', 'el', 'DET', 4, 'det'), ('moda', 'moda', 'NOUN', 1, 'nmod')], [('Revista', 'revista', 'NOUN', 0, 'root'), ('de', 'de', 'ADP', 3, 'case'), ('París', 'París', 'PROPN', 1, 'nmod')], [('Revista', 'revista', 'NOUN', 0, 'root'), ('de', 'de', 'ADP', 4, 'case'), ('la', 'el', 'DET', 4, 'det'), ('moda', 'moda', 'NOUN', 1, 'nmod')], [('Revista', 'revista', 'NOUN', 0, 'root'), ('de', 'de', 'ADP', 3, 'case'), ('París', 'París', 'PROPN', 1, 'nmod')], [('Revista', 'revista', 'NOUN', 0, 'root'), ('de', 'de', 'ADP', 4, 'case'), ('la', 'el', 'DET', 4, 'det'), ('moda', 'moda', 'NOUN', 1, 'nmod')], [('Revista', 'revista', 'NOUN', 0, 'root'), ('de', 'de', 'ADP', 3, 'case'), ('París', 'París', 'PROPN', 1, 'nmod')], [('Revista', 'revista', 'NOUN', 0, 'root'), ('de', 'de', 'ADP', 4, 'case'), ('la', 'el', 'DET', 4, 'det'), ('moda', 'moda', 'NOUN', 1, 'nmod')], [('Revista', 'revista', 'NOUN', 0, 'root'), ('de', 'de', 'ADP', 3, 'case'), ('modas', 'moda', 'NOUN', 1, 'nmod'), (',', ',', 'PUNCT', 5, 'punct'), ('salones', 'salón', 'NOUN', 3, 'conj'), ('y', 'y', 'CCONJ', 7, 'cc'), ('teatros', 'teatro', 'NOUN', 3, 'conj')], [('Revista', 'revista', 'NOUN', 0, 'root'), ('de', 'de', 'ADP', 3, 'case'), ('modas', 'moda', 'NOUN', 1, 'nmod'), (',', ',', 'PUNCT', 5, 'punct'), ('salones', 'salón', 'NOUN', 3, 'conj'), ('y', 'y', 'CCONJ', 7, 'cc'), ('teatros', 'teatro', 'NOUN', 3, 'conj')], [('Revista', 'revista', 'NOUN', 0, 'root'), ('de', 'de', 'ADP', 3, 'case'), ('modas', 'moda', 'NOUN', 1, 'nmod'), (',', ',', 'PUNCT', 5, 'punct'), ('salones', 'salón', 'NOUN', 3, 'conj'), ('y', 'y', 'CCONJ', 7, 'cc'), ('teatros', 'teatro', 'NOUN', 3, 'conj')], [('Revista', 'revista', 'NOUN', 0, 'root'), ('de', 'de', 'ADP', 3, 'case'), ('modas', 'moda', 'NOUN', 1, 'nmod'), (',', ',', 'PUNCT', 5, 'punct'), ('salones', 'salón', 'NOUN', 3, 'conj'), ('y', 'y', 'CCONJ', 7, 'cc'), ('teatros', 'teatro', 'NOUN', 3, 'conj')], [('Revista', 'revista', 'NOUN', 0, 'root'), ('de', 'de', 'ADP', 3, 'case'), ('modas', 'moda', 'NOUN', 1, 'nmod'), (',', ',', 'PUNCT', 5, 'punct'), ('salones', 'salón', 'NOUN', 3, 'conj'), ('y', 'y', 'CCONJ', 7, 'cc'), ('teatros', 'teatro', 'NOUN', 3, 'conj')], [('Revista', 'revista', 'NOUN', 0, 'root'), ('histórica', 'histórico', 'ADJ', 1, 'amod'), ('de', 'de', 'ADP', 5, 'case'), ('el', 'el', 'DET', 5, 'det'), ('mes', 'mes', 'NOUN', 1, 'nmod')], [('Revista', 'revista', 'PROPN', 0, 'root'), ('Parisense', 'Parisense', 'PROPN', 1, 'amod')], [('Revista', 'revista', 'NOUN', 0, 'root'), ('de', 'de', 'ADP', 3, 'case'), ('modas', 'moda', 'NOUN', 1, 'nmod')], [('Revista', 'revista', 'NOUN', 0, 'root'), ('histórica', 'histórico', 'ADJ', 1, 'amod'), ('de', 'de', 'ADP', 5, 'case'), ('el', 'el', 'DET', 5, 'det'), ('mes', 'mes', 'NOUN', 1, 'nmod')], [('Revista', 'revista', 'PROPN', 0, 'root'), ('Parisense', 'Parisense', 'PROPN', 1, 'amod')], [('Revista', 'revista', 'NOUN', 0, 'root'), ('de', 'de', 'ADP', 3, 'case'), ('modas', 'moda', 'NOUN', 1, 'nmod')], [('Revista', 'revista', 'NOUN', 0, 'root'), ('histórica', 'histórico', 'ADJ', 1, 'amod'), ('de', 'de', 'ADP', 5, 'case'), ('el', 'el', 'DET', 5, 'det'), ('mes', 'mes', 'NOUN', 1, 'nmod')], [('Revista', 'revista', 'PROPN', 0, 'root'), ('Parisense', 'Parisense', 'PROPN', 1, 'amod')], [('Revista', 'revista', 'NOUN', 0, 'root'), ('de', 'de', 'ADP', 3, 'case'), ('modas', 'moda', 'NOUN', 1, 'nmod')], [('Revista', 'revista', 'PROPN', 0, 'root'), ('Parisense', 'Parisense', 'PROPN', 1, 'amod')], [('Revista', 'revista', 'NOUN', 0, 'root'), ('de', 'de', 'ADP', 3, 'case'), ('modas', 'moda', 'NOUN', 1, 'nmod')], [('Revista', 'revista', 'PROPN', 0, 'root'), ('Parisense', 'Parisense', 'PROPN', 1, 'amod')], [('Revista', 'revista', 'NOUN', 0, 'root'), ('de', 'de', 'ADP', 3, 'case'), ('modas', 'moda', 'NOUN', 1, 'nmod')], [('Revista', 'revista', 'PROPN', 0, 'root'), ('Parisiense', 'parisiense', 'PROPN', 1, 'amod')], [('Revista', 'revista', 'NOUN', 0, 'root'), ('de', 'de', 'ADP', 3, 'case'), ('modas', 'moda', 'NOUN', 1, 'nmod')], [('Revista', 'revista', 'PROPN', 0, 'root'), ('Parisiense', 'parisiense', 'PROPN', 1, 'amod')], [('Revista', 'revista', 'NOUN', 0, 'root'), ('histórico-política', 'histórico-política', 'ADJ', 1, 'amod')], [('Revista', 'revista', 'NOUN', 0, 'root'), ('de', 'de', 'ADP', 3, 'case'), ('modas', 'moda', 'NOUN', 1, 'nmod')], [('Revista', 'revista', 'PROPN', 0, 'root'), ('Parisiense', 'parisiense', 'PROPN', 1, 'amod')], [('Revista', 'revista', 'NOUN', 0, 'root'), ('histórico-política', 'histórico-política', 'ADJ', 1, 'amod')], [('Revista', 'revista', 'NOUN', 0, 'root'), ('de', 'de', 'ADP', 3, 'case'), ('modas', 'moda', 'NOUN', 1, 'nmod')], [('Revista', 'revista', 'PROPN', 0, 'root'), ('Parisiense', 'parisiense', 'PROPN', 1, 'amod')], [('Revista', 'revista', 'NOUN', 0, 'root'), ('histórico-política', 'histórico-política', 'ADJ', 1, 'amod')], [('Revista', 'revista', 'NOUN', 0, 'root'), ('de', 'de', 'ADP', 3, 'case'), ('teatros', 'teatro', 'NOUN', 1, 'nmod')], [('Revista', 'revista', 'NOUN', 0, 'root'), ('de', 'de', 'ADP', 3, 'case'), ('modas', 'moda', 'NOUN', 1, 'nmod')], [('Revista', 'revista', 'PROPN', 0, 'root'), ('de', 'de', 'ADP', 3, 'case'), ('Madrid', 'Madrid', 'PROPN', 1, 'nmod')], [('Revista', 'revista', 'NOUN', 0, 'root'), ('de', 'de', 'ADP', 3, 'case'), ('teatros', 'teatro', 'NOUN', 1, 'nmod')], [('Revista', 'revista', 'NOUN', 0, 'root'), ('de', 'de', 'ADP', 3, 'case'), ('modas', 'moda', 'NOUN', 1, 'nmod')], [('Revista', 'revista', 'PROPN', 0, 'root'), ('Parisiense', 'parisiense', 'PROPN', 1, 'amod')], [('Revista', 'revista', 'PROPN', 0, 'root'), ('de', 'de', 'ADP', 3, 'case'), ('Madrid', 'Madrid', 'PROPN', 1, 'nmod')], [('Revista', 'revista', 'NOUN', 0, 'root'), ('de', 'de', 'ADP', 3, 'case'), ('teatros', 'teatro', 'NOUN', 1, 'nmod')], [('Revista', 'revista', 'NOUN', 0, 'root'), ('de', 'de', 'ADP', 3, 'case'), ('modas', 'moda', 'NOUN', 1, 'nmod')], [('Revista', 'revista', 'PROPN', 0, 'root'), ('Parisiense', 'parisiense', 'PROPN', 1, 'amod')], [('Revista', 'revista', 'PROPN', 0, 'root'), ('de', 'de', 'ADP', 3, 'case'), ('Madrid', 'Madrid', 'PROPN', 1, 'nmod')], [('Crónica', 'crónica', 'NOUN', 0, 'root'), ('parisiense', 'parisiense', 'ADJ', 1, 'amod')], [('Revista', 'revista', 'NOUN', 0, 'root'), ('de', 'de', 'ADP', 3, 'case'), ('teatros', 'teatro', 'NOUN', 1, 'nmod')], [('Revista', 'revista', 'NOUN', 0, 'root'), ('de', 'de', 'ADP', 3, 'case'), ('modas', 'moda', 'NOUN', 1, 'nmod')], [('Revista', 'revista', 'PROPN', 0, 'root'), ('Parisiense', 'parisiense', 'PROPN', 1, 'amod')], [('Revista', 'revista', 'PROPN', 0, 'root'), ('de', 'de', 'ADP', 3, 'case'), ('Madrid', 'Madrid', 'PROPN', 1, 'nmod')], [('Revista', 'revista', 'NOUN', 0, 'root'), ('de', 'de', 'ADP', 3, 'case'), ('teatros', 'teatro', 'NOUN', 1, 'nmod')], [('Revista', 'revista', 'NOUN', 0, 'root'), ('de', 'de', 'ADP', 3, 'case'), ('modas', 'moda', 'NOUN', 1, 'nmod')], [('Revista', 'revista', 'PROPN', 0, 'root'), ('Parisiense', 'parisiense', 'PROPN', 1, 'amod')], [('Revista', 'revista', 'PROPN', 0, 'root'), ('de', 'de', 'ADP', 3, 'case'), ('Madrid', 'Madrid', 'PROPN', 1, 'nmod')], [('Revista', 'revista', 'NOUN', 0, 'root'), ('de', 'de', 'ADP', 3, 'case'), ('modas', 'moda', 'NOUN', 1, 'nmod')], [('Revista', 'revista', 'PROPN', 0, 'root'), ('Parisiense', 'parisiense', 'PROPN', 1, 'amod')], [('Revista', 'revista', 'PROPN', 0, 'root'), ('de', 'de', 'ADP', 3, 'case'), ('Madrid', 'Madrid', 'PROPN', 1, 'nmod')], [('Revista', 'revista', 'NOUN', 0, 'root'), ('de', 'de', 'ADP', 3, 'case'), ('modas', 'moda', 'NOUN', 1, 'nmod')], [('Revista', 'revista', 'PROPN', 0, 'root'), ('Parisiense', 'parisiense', 'PROPN', 1, 'amod')], [('Revista', 'revista', 'PROPN', 0, 'root'), ('de', 'de', 'ADP', 3, 'case'), ('Madrid', 'Madrid', 'PROPN', 1, 'nmod')], [('Revista', 'revista', 'PROPN', 0, 'root'), ('Parisiense', 'parisiense', 'PROPN', 1, 'amod')], [('Revista', 'revista', 'PROPN', 0, 'root'), ('de', 'de', 'ADP', 3, 'case'), ('Madrid', 'Madrid', 'PROPN', 1, 'nmod')], [('Revista', 'revista', 'NOUN', 0, 'root'), ('de', 'de', 'ADP', 3, 'case'), ('modas', 'moda', 'NOUN', 1, 'nmod')], [('Revista', 'revista', 'PROPN', 0, 'root'), ('de', 'de', 'ADP', 3, 'case'), ('Madrid', 'Madrid', 'PROPN', 1, 'nmod')], [('Revista', 'revista', 'NOUN', 0, 'root'), ('de', 'de', 'ADP', 3, 'case'), ('París', 'París', 'PROPN', 1, 'nmod')], [('Teatros', 'Teatros', 'PROPN', 0, 'root')], [('Revista', 'revista', 'NOUN', 0, 'root'), ('de', 'de', 'ADP', 3, 'case'), ('modas', 'moda', 'NOUN', 1, 'nmod')], [('Revista', 'revista', 'PROPN', 0, 'root'), ('de', 'de', 'ADP', 3, 'case'), ('Madrid', 'Madrid', 'PROPN', 1, 'nmod')], [('Revista', 'revista', 'NOUN', 0, 'root'), ('de', 'de', 'ADP', 3, 'case'), ('París', 'París', 'PROPN', 1, 'nmod')], [('Revista', 'revista', 'NOUN', 0, 'root'), ('de', 'de', 'ADP', 3, 'case'), ('modas', 'moda', 'NOUN', 1, 'nmod')], [('Revista', 'revista', 'PROPN', 0, 'root'), ('de', 'de', 'ADP', 3, 'case'), ('Madrid', 'Madrid', 'PROPN', 1, 'nmod')], [('Revista', 'revista', 'NOUN', 0, 'root'), ('de', 'de', 'ADP', 3, 'case'), ('modas', 'moda', 'NOUN', 1, 'nmod')], [('Revista', 'revista', 'PROPN', 0, 'root'), ('de', 'de', 'ADP', 3, 'case'), ('Madrid', 'Madrid', 'PROPN', 1, 'nmod')], [('Revista', 'revista', 'NOUN', 0, 'root'), ('de', 'de', 'ADP', 3, 'case'), ('París', 'París', 'PROPN', 1, 'nmod')], [('Revista', 'revista', 'NOUN', 0, 'root'), ('de', 'de', 'ADP', 3, 'case'), ('modas', 'moda', 'NOUN', 1, 'nmod')], [('Revista', 'revista', 'PROPN', 0, 'root'), ('de', 'de', 'ADP', 3, 'case'), ('Madrid', 'Madrid', 'PROPN', 1, 'nmod')], [('Revista', 'revista', 'NOUN', 0, 'root'), ('de', 'de', 'ADP', 3, 'case'), ('París', 'París', 'PROPN', 1, 'nmod')], [('Revista', 'revista', 'NOUN', 0, 'root'), ('de', 'de', 'ADP', 3, 'case'), ('modas', 'moda', 'NOUN', 1, 'nmod')], [('Revista', 'revista', 'PROPN', 0, 'root'), ('de', 'de', 'ADP', 3, 'case'), ('Madrid', 'Madrid', 'PROPN', 1, 'nmod')], [('Revista', 'revista', 'NOUN', 0, 'root'), ('de', 'de', 'ADP', 3, 'case'), ('París', 'París', 'PROPN', 1, 'nmod')], [('Revista', 'revista', 'NOUN', 0, 'root'), ('de', 'de', 'ADP', 3, 'case'), ('modas', 'moda', 'NOUN', 1, 'nmod')], [('Revista', 'revista', 'PROPN', 0, 'root'), ('de', 'de', 'ADP', 3, 'case'), ('Madrid', 'Madrid', 'PROPN', 1, 'nmod')], [('Revista', 'revista', 'NOUN', 0, 'root'), ('de', 'de', 'ADP', 3, 'case'), ('París', 'París', 'PROPN', 1, 'nmod')], [('Revista', 'revista', 'NOUN', 0, 'root'), ('de', 'de', 'ADP', 3, 'case'), ('modas', 'moda', 'NOUN', 1, 'nmod')], [('Revista', 'revista', 'NOUN', 0, 'root'), ('de', 'de', 'ADP', 3, 'case'), ('modas', 'moda', 'NOUN', 1, 'nmod')], [('Revista', 'revista', 'NOUN', 0, 'root'), ('de', 'de', 'ADP', 3, 'case'), ('modas', 'moda', 'NOUN', 1, 'nmod')], [('Revista', 'revista', 'PROPN', 0, 'root'), ('de', 'de', 'ADP', 3, 'case'), ('Madrid', 'Madrid', 'PROPN', 1, 'nmod')], [('Revista', 'revista', 'NOUN', 0, 'root'), ('de', 'de', 'ADP', 3, 'case'), ('modas', 'moda', 'NOUN', 1, 'nmod')], [('Revista', 'revista', 'PROPN', 0, 'root'), ('de', 'de', 'ADP', 3, 'case'), ('Madrid', 'Madrid', 'PROPN', 1, 'nmod')], [('Revista', 'revista', 'NOUN', 0, 'root'), ('de', 'de', 'ADP', 3, 'case'), ('París', 'París', 'PROPN', 1, 'nmod')], [('Revista', 'revista', 'NOUN', 0, 'root'), ('de', 'de', 'ADP', 3, 'case'), ('modas', 'moda', 'NOUN', 1, 'nmod')], [('Revista', 'revista', 'PROPN', 0, 'root'), ('de', 'de', 'ADP', 3, 'case'), ('Madrid', 'Madrid', 'PROPN', 1, 'nmod')], [('Revista', 'revista', 'NOUN', 0, 'root'), ('de', 'de', 'ADP', 3, 'case'), ('París', 'París', 'PROPN', 1, 'nmod')], [('Revista', 'revista', 'NOUN', 0, 'root'), ('de', 'de', 'ADP', 3, 'case'), ('modas', 'moda', 'NOUN', 1, 'nmod')], [('Revista', 'revista', 'NOUN', 0, 'root'), ('histórica', 'histórico', 'ADJ', 1, 'amod'), ('de', 'de', 'ADP', 5, 'case'), ('el', 'el', 'DET', 5, 'det'), ('mes', 'mes', 'NOUN', 1, 'nmod')], [('Revista', 'revista', 'NOUN', 0, 'root'), ('histórica', 'histórico', 'ADJ', 1, 'amod'), ('de', 'de', 'ADP', 5, 'case'), ('el', 'el', 'DET', 5, 'det'), ('mes', 'mes', 'NOUN', 1, 'nmod')], [('Crónica', 'crónica', 'NOUN', 0, 'root'), ('parisiense', 'parisiense', 'ADJ', 1, 'amod')], [('Revista', 'revista', 'NOUN', 0, 'root'), ('histórica', 'histórico', 'ADJ', 1, 'amod'), ('de', 'de', 'ADP', 5, 'case'), ('el', 'el', 'DET', 5, 'det'), ('mes', 'mes', 'NOUN', 1, 'nmod')], [('Revista', 'revista', 'NOUN', 0, 'root'), ('histórica', 'histórico', 'ADJ', 1, 'amod'), ('de', 'de', 'ADP', 5, 'case'), ('el', 'el', 'DET', 5, 'det'), ('mes', 'mes', 'NOUN', 1, 'nmod')], [('Crónica', 'crónica', 'NOUN', 0, 'root'), ('parisiense', 'parisiense', 'ADJ', 1, 'amod')], [('Revista', 'revista', 'NOUN', 0, 'root'), ('histórica', 'histórico', 'ADJ', 1, 'amod'), ('de', 'de', 'ADP', 5, 'case'), ('el', 'el', 'DET', 5, 'det'), ('mes', 'mes', 'NOUN', 1, 'nmod')], [('Revista', 'revista', 'NOUN', 0, 'root'), ('histórica', 'histórico', 'ADJ', 1, 'amod'), ('de', 'de', 'ADP', 5, 'case'), ('el', 'el', 'DET', 5, 'det'), ('mes', 'mes', 'NOUN', 1, 'nmod')], [('Revista', 'revista', 'NOUN', 0, 'root'), ('histórica', 'histórico', 'ADJ', 1, 'amod'), ('de', 'de', 'ADP', 5, 'case'), ('el', 'el', 'DET', 5, 'det'), ('mes', 'mes', 'NOUN', 1, 'nmod')], [('Revista', 'revista', 'NOUN', 0, 'root'), ('histórica', 'histórico', 'ADJ', 1, 'amod'), ('de', 'de', 'ADP', 5, 'case'), ('el', 'el', 'DET', 5, 'det'), ('mes', 'mes', 'NOUN', 1, 'nmod')], [('Crónica', 'crónica', 'NOUN', 0, 'root'), ('parisiense', 'parisiense', 'ADJ', 1, 'amod')], [('Revista', 'revista', 'NOUN', 0, 'root'), ('histórica', 'histórico', 'ADJ', 1, 'amod'), ('de', 'de', 'ADP', 5, 'case'), ('el', 'el', 'DET', 5, 'det'), ('mes', 'mes', 'NOUN', 1, 'nmod')], [('Revista', 'revista', 'NOUN', 0, 'root'), ('histórica', 'histórico', 'ADJ', 1, 'amod'), ('de', 'de', 'ADP', 5, 'case'), ('el', 'el', 'DET', 5, 'det'), ('mes', 'mes', 'NOUN', 1, 'nmod')], [('Revista', 'revista', 'NOUN', 0, 'root'), ('histórica', 'histórico', 'ADJ', 1, 'amod'), ('de', 'de', 'ADP', 5, 'case'), ('el', 'el', 'DET', 5, 'det'), ('mes', 'mes', 'NOUN', 1, 'nmod')], [('Revista', 'revista', 'NOUN', 0, 'root'), ('histórica', 'histórico', 'ADJ', 1, 'amod'), ('de', 'de', 'ADP', 5, 'case'), ('el', 'el', 'DET', 5, 'det'), ('mes', 'mes', 'NOUN', 1, 'nmod')], [('Crónica', 'crónica', 'NOUN', 0, 'root'), ('parisiense', 'parisiense', 'ADJ', 1, 'amod')], [('Revista', 'revista', 'NOUN', 0, 'root'), ('histórica', 'histórico', 'ADJ', 1, 'amod'), ('de', 'de', 'ADP', 5, 'case'), ('el', 'el', 'DET', 5, 'det'), ('mes', 'mes', 'NOUN', 1, 'nmod')], [('Revista', 'revista', 'NOUN', 0, 'root'), ('histórica', 'histórico', 'ADJ', 1, 'amod'), ('de', 'de', 'ADP', 5, 'case'), ('el', 'el', 'DET', 5, 'det'), ('mes', 'mes', 'NOUN', 1, 'nmod')], [('Crónica', 'crónica', 'NOUN', 0, 'root'), ('parisiense', 'parisiense', 'ADJ', 1, 'amod')], [('Revista', 'revista', 'NOUN', 0, 'root'), ('histórica', 'histórico', 'ADJ', 1, 'amod'), ('de', 'de', 'ADP', 5, 'case'), ('el', 'el', 'DET', 5, 'det'), ('mes', 'mes', 'NOUN', 1, 'nmod')], [('Crónica', 'crónica', 'NOUN', 0, 'root'), ('parisiense', 'parisiense', 'ADJ', 1, 'amod')], [('Crónica', 'crónica', 'NOUN', 0, 'root'), ('parisiense', 'parisiense', 'ADJ', 1, 'amod')], [('Crónica', 'crónica', 'NOUN', 0, 'root'), ('parisiense', 'parisiense', 'ADJ', 1, 'amod')], [('Crónica', 'crónica', 'NOUN', 0, 'root'), ('parisiense', 'parisiense', 'ADJ', 1, 'amod')]]\n"
     ]
    }
   ],
   "source": [
    "#//NLP TOK, MWT, POS, LEMMA, NER, DEPPARSE:\n",
    "\n",
    "def processing_1(text, nlp_model):\n",
    "  doc = nlp_model(text)\n",
    "  return [(word.text, word.lemma, word.upos, word.head, word.deprel) for sent in doc.sentences for word in sent.words]\n",
    "\n",
    "#//ES-------------------\n",
    "nlp_es = stanza.Pipeline(lang=\"es\", processors=\"tokenize,mwt,pos,lemma,ner,depparse\") #IMPORTANTE: EL ORDEN, esto es, lo que antecede afecta a lo siguiente, mientras que lo que precede no)\n",
    "path = \"ALL_TITLES.txt\"\n",
    "\n",
    "## N: un detalle pero vendría bien que incluyas la(s) query/ies SQL directamente en tu programa (de tal forma que,\n",
    "## en el futuro desarrollo de este código, podrás incluir los metadatos de los títulos que necesitarás a la hora de incorporar \n",
    "## toda la información de manera estructurada en la DB)\n",
    "\n",
    "with open(path, \"r\", encoding=\"utf-8\") as f:\n",
    "  rows = f.readlines()\n",
    "\n",
    "## N: puedes hacer una lista de comprehensión para esto:\n",
    "## processed_titles_es = [processing_1(row, nlp_es) for row in rows]\n",
    "processed_titles_es = []\n",
    "\n",
    "for row in rows:\n",
    "    titles_row = processing_1(row, nlp_es)\n",
    "    processed_titles_es.append(titles_row)\n",
    "\n",
    "print(processed_titles_es)\n",
    "\n",
    "#//FR-------------------\n",
    "#nlp_fr = stanza.Pipeline(lang=\"fr\", processors=\"tokenize,mwt,pos,lemma,ner,depparse\") #IMPORTANTE: EL ORDEN, esto es, lo que antecede afecta a lo siguiente, mientras que lo que precede no)\n",
    "\n",
    "#with open(path, \"r\", encoding=\"utf-8\") as f:\n",
    " # rows = f.readlines()\n",
    "\n",
    "#processed_titles_fr = []\n",
    "\n",
    "#for row in rows:\n",
    " #   titles_row = processing_1(row, nlp_fr)\n",
    "  #  processed_titles_fr.append(titles_row)\n",
    "\n",
    "#print(processed_titles_fr)"
   ]
  },
  {
   "cell_type": "code",
   "execution_count": 6,
   "metadata": {
    "id": "HzjV-Jy3RSwr"
   },
   "outputs": [],
   "source": [
    "## N: añadidos necesarios para respetar la arquitectura de la carpeta dentro del Git (no tiene subcarpeta content)\n",
    "import os\n",
    "\n",
    "if not os.path.isdir('content'):\n",
    "    os.makedirs('content')\n",
    "## \n",
    "\n",
    "with open(\"content/_ES_PROCESSING_PERTITLE.txt\", \"w\", encoding=\"utf-8\") as f:\n",
    "  for element in processed_titles_es:\n",
    "    f.write(str(element) + \"\\n\")\n",
    "\n",
    "with open(\"content/_FR_PROCESSING_PERTITLE.txt\", \"w\", encoding=\"utf-8\") as f:\n",
    "  for element in processed_titles_es:\n",
    "    f.write(str(element) + \"\\n\")"
   ]
  },
  {
   "cell_type": "code",
   "execution_count": 8,
   "metadata": {
    "colab": {
     "base_uri": "https://localhost:8080/",
     "height": 462,
     "referenced_widgets": [
      "7a51f5c55bcd4324958cb94607be81b0",
      "a8c85bf27af94743bd63063f5f64e98f",
      "74d78a60b623426fb509aaf1107c5bfe",
      "7232d699a4514c5cb538d46239a0c33d",
      "a01e9012b33e49cabb01fe287d5905fb",
      "c6b212b95e084d9f92e9611e41f9eb8f",
      "3fea833edacc4de3935c93f9b6b0b917",
      "5b98afa900d5443ea418d491e4226226",
      "4dd68ea48a3d4d15a0197639f0c0ab44",
      "ec59a5dfb12a423696f14262e5ce3646",
      "53dc174e65554c799c68ef40d2264b74"
     ]
    },
    "id": "Z095mBLfRZTq",
    "outputId": "88f2bee8-2438-4412-d7d3-d6b372d182d0"
   },
   "outputs": [
    {
     "name": "stderr",
     "output_type": "stream",
     "text": [
      "2025-03-13 14:35:37 INFO: Checking for updates to resources.json in case models have been updated.  Note: this behavior can be turned off with download_method=None or download_method=DownloadMethod.REUSE_RESOURCES\n"
     ]
    },
    {
     "data": {
      "application/vnd.jupyter.widget-view+json": {
       "model_id": "3bc78cbfddc04e24af5f4bb63db972da",
       "version_major": 2,
       "version_minor": 0
      },
      "text/plain": [
       "Downloading https://raw.githubusercontent.com/stanfordnlp/stanza-resources/main/resources_1.10.0.json:   0%|  …"
      ]
     },
     "metadata": {},
     "output_type": "display_data"
    },
    {
     "name": "stderr",
     "output_type": "stream",
     "text": [
      "2025-03-13 14:35:37 INFO: Downloaded file to /home/ludivina/stanza_resources/resources.json\n",
      "2025-03-13 14:35:38 INFO: Loading these models for language: es (Spanish):\n",
      "=================================\n",
      "| Processor | Package           |\n",
      "---------------------------------\n",
      "| tokenize  | combined          |\n",
      "| mwt       | combined          |\n",
      "| pos       | combined_charlm   |\n",
      "| lemma     | combined_nocharlm |\n",
      "| ner       | conll02           |\n",
      "=================================\n",
      "\n",
      "2025-03-13 14:35:38 INFO: Using device: cuda\n",
      "2025-03-13 14:35:38 INFO: Loading: tokenize\n",
      "2025-03-13 14:35:38 INFO: Loading: mwt\n",
      "2025-03-13 14:35:38 INFO: Loading: pos\n",
      "2025-03-13 14:35:39 INFO: Loading: lemma\n",
      "2025-03-13 14:35:39 INFO: Loading: ner\n",
      "2025-03-13 14:35:40 INFO: Done loading processors!\n"
     ]
    },
    {
     "name": "stdout",
     "output_type": "stream",
     "text": [
      "[[('Sr. D. R. P.', 'MISC')], [('Fragmentos', 'MISC')], [('Desvarío', 'MISC')], [('Soneto', 'PER'), ('inmortal Quintana...', 'MISC')], [('Balada', 'PER')], [('Luna', 'MISC'), ('Mocquet', 'PER')], [('señora M…', 'PER')], [], [], [('Luna', 'MISC')], [('Don B. M.', 'PER')], [('Manzanares', 'LOC')], [('Luna', 'MISC')], [('de la Rosa de Alejandra', 'PER')], [], [('Luna', 'MISC')], [('Sr. D. Agustín Esteban Collantes', 'MISC')], [('Margarita Aurora de Wilson', 'PER'), ('Serrano', 'PER')], [('I', 'PER')], [('Margarita', 'PER')], [], [('Señora doña M. Del Pilar Sinués de Marco', 'PER')], [('II', 'MISC')], [('Margarita', 'PER')], [('Margarita Aurora de Wilson', 'PER'), ('Serrano', 'PER')], [('María', 'PER')], [('Alteza Real', 'PER'), ('Príncipe de Asturias', 'PER')], [('Margarita', 'PER')], [], [('Soneto', 'PER')], [('SS. MM. II', 'PER')], [('El matrimonio de la Princesa real de Inglaterra [...]\"', 'MISC')], [('Poesía', 'MISC'), ('Oda', 'PER')], [('Alejandro Dumas', 'PER')], [('Soneto', 'PER')], [], [('SS.', 'MISC'), ('príncipe Mirza-Ally-Kan-Bahadoor', 'PER'), ('Habláse mucho en los círculos aristocrático de un matrimonio [...]', 'MISC')], [], [], [('Ismail', 'PER')], [('Leviatán', 'MISC')], [], [('M. de Lamartine', 'PER')], [], [('Isabel II', 'PER')], [('Hamlet', 'PER')], [('La Malibran', 'MISC'), ('Londres', 'LOC'), ('El gobierno del Brasil [...]', 'MISC')], [('M. de Lamartine', 'PER')], [('Porvenir', 'PER'), ('Francia', 'ORG'), ('Nuevo-Mundo', 'LOC')], [('Confederación Argentina', 'ORG'), ('Uruguay-Le Paraguay', 'ORG')], [('S. M. La emperatriz de los franceses', 'MISC')], [], [('Zurbarán', 'LOC')], [], [('Filadelfia', 'LOC')], [('Ville', 'LOC')], [('Paraguay', 'LOC')], [('Escma', 'ORG'), ('Dª Gertrudis Gómez de Avellaneda', 'PER')], [], [('Leopoldo Robert', 'PER')], [], [], [('Leemos en el Monitor  [...]\"', 'MISC'), ('Anuario diplomático de 1859\\' [...]\"', 'MISC'), ('Alto', 'MISC'), ('Bajo Rin', 'LOC'), ('El matrimonio del hijo mayor [...]\"-Savonnette', 'MISC')], [('Ramón de la Sagra', 'PER')], [('Estados-Unidos', 'ORG'), ('Paraguay', 'ORG')], [], [], [('SS. AA. II', 'MISC'), ('princesa Napoleón', 'PER')], [], [('Leopoldo Robert', 'PER'), ('Conclusión', 'ORG')], [('San Petesburgo', 'MISC'), ('El Entreacto publica un acarta fechada en Génova', 'MISC')], [('Memorándum especial por la guerra de Italia', 'MISC')], [], [('Pbro', 'PER'), ('D. Félix Varela', 'PER')], [], [('catedral de Bron', 'LOC')], [], [('Artículo II', 'MISC'), ('Estados-Unidos', 'ORG'), ('Paraguay', 'ORG')], [], [('Deuda', 'MISC')], [('M. Alejandro Dumas', 'PER')], [('Carta del Sr.', 'MISC'), ('Guillemot', 'PER')], [('Napoleón III', 'PER')], [('Víctor Manuel II', 'PER')], [], [('Poesía', 'MISC'), ('Mariano G. Manrique', 'PER')], [], [], [('Poesía', 'MISC'), ('Napoleón III', 'PER')], [('Montmartre', 'LOC'), ('Fragmento', 'MISC')], [], [('Solferino', 'PER')], [('Memorándum especial por la guerra de Italia', 'MISC')], [('Batalla de Solferino', 'MISC')], [('Ejército de Italia', 'ORG')], [('Villafranca', 'LOC')], [('mariscal Vaillant', 'PER'), ('Italia', 'LOC')], [('Poesía', 'MISC')], [('S. M.', 'PER'), ('Napoleón III', 'PER'), ('Fragmentos', 'ORG')], [], [('Baltasar', 'PER')], [], [], [('Garibaldi', 'PER')], [], [('Señora Doña Emilia Serrano de Wilson', 'PER')], [('Offland', 'PER')], [('doña María Verdejo', 'PER'), ('Durán', 'PER')], [], [('María Leczinska', 'PER')], [('Otello', 'MISC'), ('Rossini', 'PER')], [('señora Hua', 'PER')], [('doña Carolina Coronado', 'PER')], [], [], [('María Leczinska', 'PER')], [], [], [], [], [('niña Adelaida', 'PER')], [('Esther', 'PER')], [], [('Tetuán', 'LOC')], [], [], [], [], [], [], [('Balada', 'PER')], [], [('Velázquez', 'PER')], [], [], [], [('doña Eulogia', 'PER')], [('Velázquez', 'PER')], [('España', 'ORG'), ('Marruecos', 'ORG')], [('D. José Piquer', 'PER')], [], [('Velázquez', 'PER')], [], [], [('Cuba', 'LOC'), ('Cojimar', 'PER')], [('La ópera de Verdi [...]\"-\"El marqués de Casa-Riera [...]\"-\"No podemos resistir el deseo de copiar [...]', 'MISC')], [('Balada', 'PER')], [('Dolora', 'PER')], [('Colón', 'LOC')], [], [], [], [], [('Macahé', 'PER')], [('Emilia', 'PER')], [('Señor', 'PER')], [], [('Cuba', 'LOC')], [], [], [('Griseldina', 'PER')], [('Araceli Abril de Armendi', 'PER')], [], [('Griseldina', 'PER')], [('Cuba', 'LOC')], [], [], [], [], [('Oda', 'PER')], [], [], [], [('Periquito el Veleidoso', 'PER')], [('Cuba', 'LOC')], [('Santo Domingo', 'LOC')], [], [('Soledad', 'PER')], [], [('Santander', 'LOC')], [('Periquito el Veleidoso', 'PER'), ('Conclusion', 'ORG')], [], [('Allende los mares mora [...]', 'MISC')], [('doña Emila Serrano de Wilson', 'PER')], [('J. R.', 'PER')], [], [], [], [('Rolandseck', 'PER')], [], [('marquesa', 'PER')], [('Poesía', 'MISC')], [], [('Soneto', 'PER')], [], [], [], [('SS. MM', 'MISC')], [('Mariquita', 'PER')], [('Bonaparte', 'PER')], [], [('sargento Pérez', 'PER'), ('Santo Domingo', 'LOC')], [], [], [], [], [('Biarritz-\"Hace pocos días [...]', 'MISC')], [], [('Sevilla', 'LOC')], [('Soneto', 'PER')], [('Carta I. Monserrat', 'PER')], [], [], [('Ucles', 'MISC')], [], [('Fábula', 'PER')], [('Carta II', 'MISC'), ('Valencia', 'LOC')], [('Ucles', 'MISC')], [], [], [('señora de J', 'PER'), ('El señor X [...]\"-\"Una aldeana enriquecida [...]', 'MISC')], [], [('Carta III', 'MISC'), ('Barcelona', 'LOC')], [('Conclusión', 'MISC')], [('Brasil', 'ORG')], [], [('Panamá', 'LOC')], [('Saint-Point', 'LOC')], [], [('Austria', 'LOC')], [], [('Feria', 'MISC'), ('Sevilla', 'LOC')], [], [], [('Soneto', 'PER')], [('Soneto', 'PER')], [], [('Francisco José', 'PER'), ('Emperador del Austria', 'PER')], [('Ministerio Inglés', 'ORG')], [('Monitor de París', 'ORG'), ('Solferino', 'PER')], [], [('N.', 'PER'), ('señora **', 'MISC')], [('Goysevox', 'MISC')], [], [], [], [], [('D. José Piquer-Oda', 'MISC'), ('Alzad vuestras tumbas [...]', 'MISC')], [('Rusia', 'ORG')], [('Rusia', 'ORG')], [('Safo', 'PER')], [], [('Sombreros de Alexandrine', 'ORG')], [(\"Sombreros d'Alexandrine\", 'ORG')], [('Sombreros De Alexandrine', 'PER')], [('Sombreros De Alexandrine', 'PER')], [(\"Sombreros d'Alexandrine\", 'ORG')], [(\"Sombreros d'Alexandrine\", 'ORG')], [(\"Sombreros d'Alexandrine\", 'ORG')], [('Planchais [...]', 'MISC')], [], [('Casa de comisión para París [...]', 'MISC')], [], [], [(\"Sombreros d'Alexandrine\", 'MISC'), ('Corsets Plastiques Mme', 'ORG'), ('Bonvallet', 'PER')], [], [], [('Bonvallet', 'LOC'), ('Faguer Labollée', 'PER'), ('Lemnnier', 'LOC'), ('Porcelaines', 'ORG'), (\"Cristaux Maison de l'Escalier de Cristal\", 'ORG')], [], [('Sorré Dehsle', 'LOC'), ('Corsets plastiques de Bonvallet', 'LOC'), ('Guantes', 'LOC'), ('Faguer Labollée', 'LOC'), ('Lemnnier', 'LOC'), (\"Porcelaines et Cristaux Maison de l'Escalier de Cristal\", 'ORG')], [('Lait', 'PER')], [('Camisas Claudio', 'PER'), ('Hermanos', 'PER')], [], [('Huéspedes', 'LOC')], [('Casa Delacroix', 'ORG')], [('Jules Bloch', 'PER')], [('Gaceta de Bellas Artes', 'ORG')], [], [], [('Porta-monedas Despierres', 'ORG')], [('Tarifs des insertions', 'ORG')], [('Sorré Dehsle', 'LOC'), ('Corsets plastiques de Bonvallet', 'LOC'), ('Guantes', 'LOC'), ('Faguer Labollée', 'LOC'), ('Lemnnier', 'LOC'), (\"Porcelaines et Cristaux Maison de l'Escalier de Cristal\", 'ORG')], [('Camisas Claudio', 'PER'), ('Hermanos', 'PER')], [('Nueva Geografía Sangansan', 'MISC')], [('Huéspedes', 'LOC')], [('Casa Delacroix', 'ORG')], [('Jules Bloch', 'PER')], [('Platería Cristofle', 'ORG')], [], [('Tarifs des insertions', 'ORG')], [('Sorré Dehsle', 'LOC'), ('Corsets plastiques de Bonvallet', 'LOC'), ('Guantes', 'LOC'), ('Faguer Labollée', 'LOC'), ('Lemnnier', 'LOC'), (\"Porcelaines et Cristaux Maison de l'Escalier de Cristal\", 'ORG')], [('Camisas Claudio', 'PER'), ('Hermanos', 'PER')], [('Nueva Geografía Sangansan', 'MISC')], [('Huéspedes', 'LOC')], [('Casa Delacroix', 'ORG')], [('Jules Bloch', 'PER')], [('Platería Cristofle', 'ORG')], [], [('Tarifs des insertions', 'ORG')], [('Camisas Claudio', 'PER'), ('Hermanos', 'PER')], [('Nueva Geografía Sangansan', 'MISC')], [('Huéspedes', 'LOC')], [('Casa Delacroix', 'ORG')], [('Jules Bloch', 'PER')], [('Platería Cristofle', 'ORG')], [], [('Tarifs des insertions', 'ORG')], [('Camisas Claudio', 'PER'), ('Hermanos', 'PER')], [('Nueva Geografía Sangansan', 'MISC')], [('Huéspedes', 'LOC')], [('Casa Delacroix', 'ORG')], [('Jules Bloch', 'PER')], [('Platería Cristofle', 'ORG')], [], [('Platería Cristofle', 'ORG')], [('Camisas Claudio', 'PER'), ('Hermanos', 'PER')], [('Nueva Geografía Sangansan', 'MISC')], [('Huéspedes', 'LOC')], [('Casa Delacroix', 'ORG')], [('Jules Bloch', 'PER')], [], [('Sorré Dehsle', 'LOC'), ('Corsets plastiques de Bonvallet', 'LOC'), ('Guantes', 'LOC'), ('Faguer Labollée', 'LOC'), ('Lemnnier', 'LOC'), (\"Porcelaines et Cristaux Maison de l'Escalier de Cristal\", 'ORG')], [('Camisas Claudio', 'PER'), ('Hermanos', 'PER')], [('Nueva Geografía Sangansan', 'MISC')], [('Huéspedes', 'LOC')], [('Casa Delacroix', 'ORG')], [('Jules Bloch', 'PER')], [('Platería Cristofle', 'ORG')], [('Camisas Claudio', 'PER'), ('Hermanos', 'PER')], [('Nueva Geografía Sangansan', 'MISC')], [('Huéspedes', 'LOC')], [('Casa Delacroix', 'ORG')], [('Jules Bloch', 'PER')], [('Platería Cristofle', 'ORG')], [], [('Sorré Dehsle', 'LOC'), ('Corsets plastiques de Bonvallet', 'LOC'), ('Guantes', 'LOC'), ('Faguer Labollée', 'LOC'), ('Lemnnier', 'LOC'), (\"Porcelaines et Cristaux Maison de l'Escalier de Cristal\", 'ORG')], [('Camisas Claudio', 'PER'), ('Hermanos', 'PER')], [('Nueva Geografía Sangansan', 'MISC')], [('Huéspedes', 'LOC')], [('Casa Delacroix', 'ORG')], [('Jules Bloch', 'PER')], [('Platería Cristofle', 'ORG')], [('Sorré Dehsle', 'LOC'), ('Corsets plastiques de Bonvallet', 'LOC'), ('Guantes', 'LOC'), ('Faguer Labollée', 'LOC'), ('Lemnnier', 'LOC'), (\"Porcelaines et Cristaux Maison de l'Escalier de Cristal\", 'ORG')], [('Platería Cristofle', 'ORG')], [('doña Emilia Serrano de Wilson', 'PER')], [('Platería Cristofle', 'ORG')], [('doña Emilia Serrano de Wilson', 'PER')], [('Platería Cristofle', 'ORG')], [('doña Emilia Serrano de Wilson', 'PER')], [('Modes de Paris', 'LOC'), ('Petit Courrier des Dames', 'LOC')], [('Eco Hispano-Americano', 'ORG')], [('doña Emilia Serrano de Wilson', 'PER')], [('Eco Hispano-Americano', 'ORG')], [], [('doña Emilia Serrano de Wilson', 'PER')], [], [], [], [('Moda de Caballeros', 'MISC')], [], [], [], [], [], [], [], [], [], [], [], [], [], [], [('Segundo', 'PER')], [], [('Revista de París', 'ORG')], [], [('Revista de París', 'ORG')], [], [('Revista de París', 'ORG')], [], [('Revista de París', 'ORG')], [], [('Revista de París', 'ORG')], [], [], [], [], [], [], [], [('Revista Parisense', 'ORG')], [], [], [('Revista Parisense', 'ORG')], [], [], [('Revista Parisense', 'ORG')], [], [('Revista Parisense', 'ORG')], [], [('Revista Parisense', 'ORG')], [], [('Revista Parisiense', 'ORG')], [], [('Revista Parisiense', 'ORG')], [], [], [('Revista Parisiense', 'ORG')], [], [], [('Revista Parisiense', 'ORG')], [], [], [], [('Revista de Madrid', 'ORG')], [], [], [('Revista Parisiense', 'ORG')], [('Revista de Madrid', 'ORG')], [], [], [('Revista Parisiense', 'ORG')], [('Revista de Madrid', 'ORG')], [], [], [], [('Revista Parisiense', 'ORG')], [('Revista de Madrid', 'ORG')], [], [], [('Revista Parisiense', 'ORG')], [('Revista de Madrid', 'ORG')], [], [('Revista Parisiense', 'ORG')], [('Revista de Madrid', 'ORG')], [], [('Revista Parisiense', 'ORG')], [('Revista de Madrid', 'ORG')], [('Revista Parisiense', 'ORG')], [('Revista de Madrid', 'ORG')], [], [('Revista de Madrid', 'ORG')], [('Revista de París', 'ORG')], [('Teatros', 'ORG')], [], [('Revista de Madrid', 'ORG')], [('Revista de París', 'ORG')], [], [('Revista de Madrid', 'ORG')], [], [('Revista de Madrid', 'ORG')], [('Revista de París', 'ORG')], [], [('Revista de Madrid', 'ORG')], [('Revista de París', 'ORG')], [], [('Revista de Madrid', 'ORG')], [('Revista de París', 'ORG')], [], [('Revista de Madrid', 'ORG')], [('Revista de París', 'ORG')], [], [], [], [('Revista de Madrid', 'ORG')], [], [('Revista de Madrid', 'ORG')], [('Revista de París', 'ORG')], [], [('Revista de Madrid', 'ORG')], [('Revista de París', 'ORG')], [], [], [], [], [], [], [], [], [], [], [], [], [], [], [], [], [], [], [], [], [], [], [], [], []]\n"
     ]
    }
   ],
   "source": [
    "#NLP NER:\n",
    "def ner1(text, nlp_model):\n",
    "  doc = nlp_model(text)\n",
    "  return [(ent.text, ent.type) for ent in doc.entities]\n",
    "\n",
    "#//ES-----\n",
    "nlp_es = stanza.Pipeline(lang=\"es\", processors=\"tokenize,mwt,pos,lemma,ner\") #IMPORTANTE: EL ORDEN, esto es, lo que antecede afecta a lo siguiente, mientras que lo que precede no)\n",
    "path = \"ALL_TITLES.txt\"\n",
    "\n",
    "with open(path, \"r\", encoding=\"utf-8\") as f:\n",
    "  rows = f.readlines()\n",
    "\n",
    "## N: mismo comentario que antes para ponerlo en una lista de comprehensión (si quieres)\n",
    "entities_ES = []\n",
    "\n",
    "for row in rows:\n",
    "  entities_row = ner1(row, nlp_es)\n",
    "  entities_ES.append(entities_row)\n",
    "\n",
    "print(entities_ES)\n",
    "\n",
    "#//FR---------\n",
    "#nlp_fr = stanza.Pipeline(lang=\"fr\", processors=\"tokenize,mwt,pos,lemma,ner\") #IMPORTANTE: EL ORDEN, esto es, lo que antecede afecta a lo siguiente, mientras que lo que precede no)\n",
    "\n",
    "#with open(path, \"r\", encoding=\"utf-8\") as f:\n",
    "  #rows = f.readlines()\n",
    "\n",
    "#entities_FR = []\n",
    "\n",
    "#for row in rows:\n",
    "  #entities_row = ner1(row, nlp_fr)\n",
    "  #entities_FR.append(entities_row)\n",
    "\n",
    "#print(entities_FR)"
   ]
  },
  {
   "cell_type": "code",
   "execution_count": 9,
   "metadata": {
    "colab": {
     "base_uri": "https://localhost:8080/"
    },
    "id": "VXemlITxm_1l",
    "outputId": "e2c96a16-9a37-49d0-d109-c9988f8ac175"
   },
   "outputs": [
    {
     "name": "stdout",
     "output_type": "stream",
     "text": [
      "[[('Sr. D. R. P.', 'MISC')], [('Fragmentos', 'MISC')], [('Desvarío', 'MISC')], [('Soneto', 'PER'), ('inmortal Quintana...', 'MISC')], [('Balada', 'PER')], [('Luna', 'MISC'), ('Mocquet', 'PER')], [('señora M…', 'PER')], [], [], [('Luna', 'MISC')], [('Don B. M.', 'PER')], [('Manzanares', 'LOC')], [('Luna', 'MISC')], [('de la Rosa de Alejandra', 'PER')], [], [('Luna', 'MISC')], [('Sr. D. Agustín Esteban Collantes', 'MISC')], [('Margarita Aurora de Wilson', 'PER'), ('Serrano', 'PER')], [('I', 'PER')], [('Margarita', 'PER')], [], [('Señora doña M. Del Pilar Sinués de Marco', 'PER')], [('II', 'MISC')], [('Margarita', 'PER')], [('Margarita Aurora de Wilson', 'PER'), ('Serrano', 'PER')], [('María', 'PER')], [('Alteza Real', 'PER'), ('Príncipe de Asturias', 'PER')], [('Margarita', 'PER')], [], [('Soneto', 'PER')], [('SS. MM. II', 'PER')], [('El matrimonio de la Princesa real de Inglaterra [...]\"', 'MISC')], [('Poesía', 'MISC'), ('Oda', 'PER')], [('Alejandro Dumas', 'PER')], [('Soneto', 'PER')], [], [('SS.', 'MISC'), ('príncipe Mirza-Ally-Kan-Bahadoor', 'PER'), ('Habláse mucho en los círculos aristocrático de un matrimonio [...]', 'MISC')], [], [], [('Ismail', 'PER')], [('Leviatán', 'MISC')], [], [('M. de Lamartine', 'PER')], [], [('Isabel II', 'PER')], [('Hamlet', 'PER')], [('La Malibran', 'MISC'), ('Londres', 'LOC'), ('El gobierno del Brasil [...]', 'MISC')], [('M. de Lamartine', 'PER')], [('Porvenir', 'PER'), ('Francia', 'ORG'), ('Nuevo-Mundo', 'LOC')], [('Confederación Argentina', 'ORG'), ('Uruguay-Le Paraguay', 'ORG')], [('S. M. La emperatriz de los franceses', 'MISC')], [], [('Zurbarán', 'LOC')], [], [('Filadelfia', 'LOC')], [('Ville', 'LOC')], [('Paraguay', 'LOC')], [('Escma', 'ORG'), ('Dª Gertrudis Gómez de Avellaneda', 'PER')], [], [('Leopoldo Robert', 'PER')], [], [], [('Leemos en el Monitor  [...]\"', 'MISC'), ('Anuario diplomático de 1859\\' [...]\"', 'MISC'), ('Alto', 'MISC'), ('Bajo Rin', 'LOC'), ('El matrimonio del hijo mayor [...]\"-Savonnette', 'MISC')], [('Ramón de la Sagra', 'PER')], [('Estados-Unidos', 'ORG'), ('Paraguay', 'ORG')], [], [], [('SS. AA. II', 'MISC'), ('princesa Napoleón', 'PER')], [], [('Leopoldo Robert', 'PER'), ('Conclusión', 'ORG')], [('San Petesburgo', 'MISC'), ('El Entreacto publica un acarta fechada en Génova', 'MISC')], [('Memorándum especial por la guerra de Italia', 'MISC')], [], [('Pbro', 'PER'), ('D. Félix Varela', 'PER')], [], [('catedral de Bron', 'LOC')], [], [('Artículo II', 'MISC'), ('Estados-Unidos', 'ORG'), ('Paraguay', 'ORG')], [], [('Deuda', 'MISC')], [('M. Alejandro Dumas', 'PER')], [('Carta del Sr.', 'MISC'), ('Guillemot', 'PER')], [('Napoleón III', 'PER')], [('Víctor Manuel II', 'PER')], [], [('Poesía', 'MISC'), ('Mariano G. Manrique', 'PER')], [], [], [('Poesía', 'MISC'), ('Napoleón III', 'PER')], [('Montmartre', 'LOC'), ('Fragmento', 'MISC')], [], [('Solferino', 'PER')], [('Memorándum especial por la guerra de Italia', 'MISC')], [('Batalla de Solferino', 'MISC')], [('Ejército de Italia', 'ORG')], [('Villafranca', 'LOC')], [('mariscal Vaillant', 'PER'), ('Italia', 'LOC')], [('Poesía', 'MISC')], [('S. M.', 'PER'), ('Napoleón III', 'PER'), ('Fragmentos', 'ORG')], [], [('Baltasar', 'PER')], [], [], [('Garibaldi', 'PER')], [], [('Señora Doña Emilia Serrano de Wilson', 'PER')], [('Offland', 'PER')], [('doña María Verdejo', 'PER'), ('Durán', 'PER')], [], [('María Leczinska', 'PER')], [('Otello', 'MISC'), ('Rossini', 'PER')], [('señora Hua', 'PER')], [('doña Carolina Coronado', 'PER')], [], [], [('María Leczinska', 'PER')], [], [], [], [], [('niña Adelaida', 'PER')], [('Esther', 'PER')], [], [('Tetuán', 'LOC')], [], [], [], [], [], [], [('Balada', 'PER')], [], [('Velázquez', 'PER')], [], [], [], [('doña Eulogia', 'PER')], [('Velázquez', 'PER')], [('España', 'ORG'), ('Marruecos', 'ORG')], [('D. José Piquer', 'PER')], [], [('Velázquez', 'PER')], [], [], [('Cuba', 'LOC'), ('Cojimar', 'PER')], [('La ópera de Verdi [...]\"-\"El marqués de Casa-Riera [...]\"-\"No podemos resistir el deseo de copiar [...]', 'MISC')], [('Balada', 'PER')], [('Dolora', 'PER')], [('Colón', 'LOC')], [], [], [], [], [('Macahé', 'PER')], [('Emilia', 'PER')], [('Señor', 'PER')], [], [('Cuba', 'LOC')], [], [], [('Griseldina', 'PER')], [('Araceli Abril de Armendi', 'PER')], [], [('Griseldina', 'PER')], [('Cuba', 'LOC')], [], [], [], [], [('Oda', 'PER')], [], [], [], [('Periquito el Veleidoso', 'PER')], [('Cuba', 'LOC')], [('Santo Domingo', 'LOC')], [], [('Soledad', 'PER')], [], [('Santander', 'LOC')], [('Periquito el Veleidoso', 'PER'), ('Conclusion', 'ORG')], [], [('Allende los mares mora [...]', 'MISC')], [('doña Emila Serrano de Wilson', 'PER')], [('J. R.', 'PER')], [], [], [], [('Rolandseck', 'PER')], [], [('marquesa', 'PER')], [('Poesía', 'MISC')], [], [('Soneto', 'PER')], [], [], [], [('SS. MM', 'MISC')], [('Mariquita', 'PER')], [('Bonaparte', 'PER')], [], [('sargento Pérez', 'PER'), ('Santo Domingo', 'LOC')], [], [], [], [], [('Biarritz-\"Hace pocos días [...]', 'MISC')], [], [('Sevilla', 'LOC')], [('Soneto', 'PER')], [('Carta I. Monserrat', 'PER')], [], [], [('Ucles', 'MISC')], [], [('Fábula', 'PER')], [('Carta II', 'MISC'), ('Valencia', 'LOC')], [('Ucles', 'MISC')], [], [], [('señora de J', 'PER'), ('El señor X [...]\"-\"Una aldeana enriquecida [...]', 'MISC')], [], [('Carta III', 'MISC'), ('Barcelona', 'LOC')], [('Conclusión', 'MISC')], [('Brasil', 'ORG')], [], [('Panamá', 'LOC')], [('Saint-Point', 'LOC')], [], [('Austria', 'LOC')], [], [('Feria', 'MISC'), ('Sevilla', 'LOC')], [], [], [('Soneto', 'PER')], [('Soneto', 'PER')], [], [('Francisco José', 'PER'), ('Emperador del Austria', 'PER')], [('Ministerio Inglés', 'ORG')], [('Monitor de París', 'ORG'), ('Solferino', 'PER')], [], [('N.', 'PER'), ('señora **', 'MISC')], [('Goysevox', 'MISC')], [], [], [], [], [('D. José Piquer-Oda', 'MISC'), ('Alzad vuestras tumbas [...]', 'MISC')], [('Rusia', 'ORG')], [('Rusia', 'ORG')], [('Safo', 'PER')], [], [('Sombreros de Alexandrine', 'ORG')], [(\"Sombreros d'Alexandrine\", 'ORG')], [('Sombreros De Alexandrine', 'PER')], [('Sombreros De Alexandrine', 'PER')], [(\"Sombreros d'Alexandrine\", 'ORG')], [(\"Sombreros d'Alexandrine\", 'ORG')], [(\"Sombreros d'Alexandrine\", 'ORG')], [('Planchais [...]', 'MISC')], [], [('Casa de comisión para París [...]', 'MISC')], [], [], [(\"Sombreros d'Alexandrine\", 'MISC'), ('Corsets Plastiques Mme', 'ORG'), ('Bonvallet', 'PER')], [], [], [('Bonvallet', 'LOC'), ('Faguer Labollée', 'PER'), ('Lemnnier', 'LOC'), ('Porcelaines', 'ORG'), (\"Cristaux Maison de l'Escalier de Cristal\", 'ORG')], [], [('Sorré Dehsle', 'LOC'), ('Corsets plastiques de Bonvallet', 'LOC'), ('Guantes', 'LOC'), ('Faguer Labollée', 'LOC'), ('Lemnnier', 'LOC'), (\"Porcelaines et Cristaux Maison de l'Escalier de Cristal\", 'ORG')], [('Lait', 'PER')], [('Camisas Claudio', 'PER'), ('Hermanos', 'PER')], [], [('Huéspedes', 'LOC')], [('Casa Delacroix', 'ORG')], [('Jules Bloch', 'PER')], [('Gaceta de Bellas Artes', 'ORG')], [], [], [('Porta-monedas Despierres', 'ORG')], [('Tarifs des insertions', 'ORG')], [('Sorré Dehsle', 'LOC'), ('Corsets plastiques de Bonvallet', 'LOC'), ('Guantes', 'LOC'), ('Faguer Labollée', 'LOC'), ('Lemnnier', 'LOC'), (\"Porcelaines et Cristaux Maison de l'Escalier de Cristal\", 'ORG')], [('Camisas Claudio', 'PER'), ('Hermanos', 'PER')], [('Nueva Geografía Sangansan', 'MISC')], [('Huéspedes', 'LOC')], [('Casa Delacroix', 'ORG')], [('Jules Bloch', 'PER')], [('Platería Cristofle', 'ORG')], [], [('Tarifs des insertions', 'ORG')], [('Sorré Dehsle', 'LOC'), ('Corsets plastiques de Bonvallet', 'LOC'), ('Guantes', 'LOC'), ('Faguer Labollée', 'LOC'), ('Lemnnier', 'LOC'), (\"Porcelaines et Cristaux Maison de l'Escalier de Cristal\", 'ORG')], [('Camisas Claudio', 'PER'), ('Hermanos', 'PER')], [('Nueva Geografía Sangansan', 'MISC')], [('Huéspedes', 'LOC')], [('Casa Delacroix', 'ORG')], [('Jules Bloch', 'PER')], [('Platería Cristofle', 'ORG')], [], [('Tarifs des insertions', 'ORG')], [('Camisas Claudio', 'PER'), ('Hermanos', 'PER')], [('Nueva Geografía Sangansan', 'MISC')], [('Huéspedes', 'LOC')], [('Casa Delacroix', 'ORG')], [('Jules Bloch', 'PER')], [('Platería Cristofle', 'ORG')], [], [('Tarifs des insertions', 'ORG')], [('Camisas Claudio', 'PER'), ('Hermanos', 'PER')], [('Nueva Geografía Sangansan', 'MISC')], [('Huéspedes', 'LOC')], [('Casa Delacroix', 'ORG')], [('Jules Bloch', 'PER')], [('Platería Cristofle', 'ORG')], [], [('Platería Cristofle', 'ORG')], [('Camisas Claudio', 'PER'), ('Hermanos', 'PER')], [('Nueva Geografía Sangansan', 'MISC')], [('Huéspedes', 'LOC')], [('Casa Delacroix', 'ORG')], [('Jules Bloch', 'PER')], [], [('Sorré Dehsle', 'LOC'), ('Corsets plastiques de Bonvallet', 'LOC'), ('Guantes', 'LOC'), ('Faguer Labollée', 'LOC'), ('Lemnnier', 'LOC'), (\"Porcelaines et Cristaux Maison de l'Escalier de Cristal\", 'ORG')], [('Camisas Claudio', 'PER'), ('Hermanos', 'PER')], [('Nueva Geografía Sangansan', 'MISC')], [('Huéspedes', 'LOC')], [('Casa Delacroix', 'ORG')], [('Jules Bloch', 'PER')], [('Platería Cristofle', 'ORG')], [('Camisas Claudio', 'PER'), ('Hermanos', 'PER')], [('Nueva Geografía Sangansan', 'MISC')], [('Huéspedes', 'LOC')], [('Casa Delacroix', 'ORG')], [('Jules Bloch', 'PER')], [('Platería Cristofle', 'ORG')], [], [('Sorré Dehsle', 'LOC'), ('Corsets plastiques de Bonvallet', 'LOC'), ('Guantes', 'LOC'), ('Faguer Labollée', 'LOC'), ('Lemnnier', 'LOC'), (\"Porcelaines et Cristaux Maison de l'Escalier de Cristal\", 'ORG')], [('Camisas Claudio', 'PER'), ('Hermanos', 'PER')], [('Nueva Geografía Sangansan', 'MISC')], [('Huéspedes', 'LOC')], [('Casa Delacroix', 'ORG')], [('Jules Bloch', 'PER')], [('Platería Cristofle', 'ORG')], [('Sorré Dehsle', 'LOC'), ('Corsets plastiques de Bonvallet', 'LOC'), ('Guantes', 'LOC'), ('Faguer Labollée', 'LOC'), ('Lemnnier', 'LOC'), (\"Porcelaines et Cristaux Maison de l'Escalier de Cristal\", 'ORG')], [('Platería Cristofle', 'ORG')], [('doña Emilia Serrano de Wilson', 'PER')], [('Platería Cristofle', 'ORG')], [('doña Emilia Serrano de Wilson', 'PER')], [('Platería Cristofle', 'ORG')], [('doña Emilia Serrano de Wilson', 'PER')], [('Modes de Paris', 'LOC'), ('Petit Courrier des Dames', 'LOC')], [('Eco Hispano-Americano', 'ORG')], [('doña Emilia Serrano de Wilson', 'PER')], [('Eco Hispano-Americano', 'ORG')], [], [('doña Emilia Serrano de Wilson', 'PER')], [], [], [], [('Moda de Caballeros', 'MISC')], [], [], [], [], [], [], [], [], [], [], [], [], [], [], [('Segundo', 'PER')], [], [('Revista de París', 'ORG')], [], [('Revista de París', 'ORG')], [], [('Revista de París', 'ORG')], [], [('Revista de París', 'ORG')], [], [('Revista de París', 'ORG')], [], [], [], [], [], [], [], [('Revista Parisense', 'ORG')], [], [], [('Revista Parisense', 'ORG')], [], [], [('Revista Parisense', 'ORG')], [], [('Revista Parisense', 'ORG')], [], [('Revista Parisense', 'ORG')], [], [('Revista Parisiense', 'ORG')], [], [('Revista Parisiense', 'ORG')], [], [], [('Revista Parisiense', 'ORG')], [], [], [('Revista Parisiense', 'ORG')], [], [], [], [('Revista de Madrid', 'ORG')], [], [], [('Revista Parisiense', 'ORG')], [('Revista de Madrid', 'ORG')], [], [], [('Revista Parisiense', 'ORG')], [('Revista de Madrid', 'ORG')], [], [], [], [('Revista Parisiense', 'ORG')], [('Revista de Madrid', 'ORG')], [], [], [('Revista Parisiense', 'ORG')], [('Revista de Madrid', 'ORG')], [], [('Revista Parisiense', 'ORG')], [('Revista de Madrid', 'ORG')], [], [('Revista Parisiense', 'ORG')], [('Revista de Madrid', 'ORG')], [('Revista Parisiense', 'ORG')], [('Revista de Madrid', 'ORG')], [], [('Revista de Madrid', 'ORG')], [('Revista de París', 'ORG')], [('Teatros', 'ORG')], [], [('Revista de Madrid', 'ORG')], [('Revista de París', 'ORG')], [], [('Revista de Madrid', 'ORG')], [], [('Revista de Madrid', 'ORG')], [('Revista de París', 'ORG')], [], [('Revista de Madrid', 'ORG')], [('Revista de París', 'ORG')], [], [('Revista de Madrid', 'ORG')], [('Revista de París', 'ORG')], [], [('Revista de Madrid', 'ORG')], [('Revista de París', 'ORG')], [], [], [], [('Revista de Madrid', 'ORG')], [], [('Revista de Madrid', 'ORG')], [('Revista de París', 'ORG')], [], [('Revista de Madrid', 'ORG')], [('Revista de París', 'ORG')], [], [], [], [], [], [], [], [], [], [], [], [], [], [], [], [], [], [], [], [], [], [], [], [], []]\n"
     ]
    }
   ],
   "source": [
    "print(entities_ES)"
   ]
  },
  {
   "cell_type": "code",
   "execution_count": 10,
   "metadata": {
    "colab": {
     "base_uri": "https://localhost:8080/"
    },
    "id": "v4KGcqfAVqEl",
    "outputId": "56c2e1e8-3202-48ed-ffbd-1528e4af9791"
   },
   "outputs": [
    {
     "data": {
      "text/plain": [
       "[('Sr', 'sr', 'PROPN'),\n",
       " ('.', '.', 'PUNCT'),\n",
       " ('D.', 'd.', 'PROPN'),\n",
       " ('R.', 'R.', 'PROPN'),\n",
       " ('P.', 'p.', 'PROPN')]"
      ]
     },
     "execution_count": 10,
     "metadata": {},
     "output_type": "execute_result"
    }
   ],
   "source": [
    "#necessary to change also processing function due to depparse won't work with only NER\n",
    "#(lacking rest of title)\n",
    "def processing_2(text, nlp_model):\n",
    "  doc = nlp_model(text)\n",
    "  return [(word.text, word.lemma, word.upos) for sent in doc.sentences for word in sent.words]\n",
    "\n",
    "tok = processing_2('Sr. D. R. P.', nlp_es) #it also produces different results for word.lemma and word.upos if we process it without the rest of the title.\n",
    "tok"
   ]
  },
  {
   "cell_type": "code",
   "execution_count": 12,
   "metadata": {
    "id": "VzHB7FKOU2wO"
   },
   "outputs": [
    {
     "data": {
      "text/plain": [
       "[('Sr', 'sr', 'PROPN'),\n",
       " ('.', '.', 'PUNCT'),\n",
       " ('D.', 'd.', 'PROPN'),\n",
       " ('R.', 'R.', 'PROPN'),\n",
       " ('P.', 'p.', 'PROPN')]"
      ]
     },
     "execution_count": 12,
     "metadata": {},
     "output_type": "execute_result"
    }
   ],
   "source": [
    "#proof of that (specially with punctuation):\n",
    "## N: yo veo el mismo código que anteriormente y no entiendo lo que quieres probar aquí, me lo explicarás por tfo\n",
    "def processing_2(text, nlp_model):\n",
    "  doc = nlp_model(text)\n",
    "  return [(word.text, word.lemma, word.upos) for sent in doc.sentences for word in sent.words]\n",
    "\n",
    "tok =processing_2('Sr. D. R. P.', nlp_es)\n",
    "tok\n"
   ]
  },
  {
   "cell_type": "code",
   "execution_count": 13,
   "metadata": {
    "colab": {
     "base_uri": "https://localhost:8080/"
    },
    "id": "acREgagnecxh",
    "outputId": "7573bde7-ae6d-4ade-8ccf-74d0eddc14ad"
   },
   "outputs": [
    {
     "name": "stdout",
     "output_type": "stream",
     "text": [
      "[[('Sr. D. R. P.', 'MISC'), [('Sr', 'sr', 'PROPN'), ('.', '.', 'PUNCT'), ('D.', 'd.', 'PROPN'), ('R.', 'R.', 'PROPN'), ('P.', 'p.', 'PROPN')]], [('Fragmentos', 'MISC'), [('Fragmentos', 'fragmentos', 'NOUN')]], [('Desvarío', 'MISC'), [('Desvarío', 'desvarío', 'NOUN')]], [('Soneto', 'PER'), [('Soneto', 'soneto', 'NOUN')]], [('inmortal Quintana...', 'MISC'), [('inmortal', 'inmortal', 'ADJ'), ('Quintana', 'Quintana', 'PROPN'), ('...', '...', 'PUNCT')]], [('Balada', 'PER'), [('Balada', 'Balada', 'PROPN')]], [('Luna', 'MISC'), [('Luna', 'luna', 'PROPN')]], [('Mocquet', 'PER'), [('Mocquet', 'Mocquet', 'PROPN')]], [('señora M…', 'PER'), [('señora', 'señora', 'NOUN'), ('M…', 'm…', 'PROPN')]], [('Luna', 'MISC'), [('Luna', 'luna', 'PROPN')]], [('Don B. M.', 'PER'), [('Don', 'Don', 'PROPN'), ('B.', 'B.', 'PROPN'), ('M.', 'M.', 'PROPN')]], [('Manzanares', 'LOC'), [('Manzanares', 'manzanares', 'PROPN')]], [('Luna', 'MISC'), [('Luna', 'luna', 'PROPN')]], [('de la Rosa de Alejandra', 'PER'), [('de', 'de', 'ADP'), ('la', 'el', 'DET'), ('Rosa', 'Rosa', 'PROPN'), ('de', 'de', 'ADP'), ('Alejandra', 'Alejandra', 'PROPN')]], [('Luna', 'MISC'), [('Luna', 'luna', 'PROPN')]], [('Sr. D. Agustín Esteban Collantes', 'MISC'), [('Sr', 'sr', 'PROPN'), ('.', '.', 'PUNCT'), ('D.', 'd.', 'PROPN'), ('Agustín', 'agustín', 'PROPN'), ('Esteban', 'esteban', 'PROPN'), ('Collantes', 'Collantes', 'PROPN')]], [('Margarita Aurora de Wilson', 'PER'), [('Margarita', 'margarita', 'PROPN'), ('Aurora', 'aurora', 'PROPN'), ('de', 'de', 'ADP'), ('Wilson', 'wilson', 'PROPN')]], [('Serrano', 'PER'), [('Serrano', 'Serrano', 'PROPN')]], [('I', 'PER'), [('I', 'i', 'NUM')]], [('Margarita', 'PER'), [('Margarita', 'margarita', 'PROPN')]], [('Señora doña M. Del Pilar Sinués de Marco', 'PER'), [('Señora', 'señora', 'NOUN'), ('doña', 'doña', 'ADJ'), ('M.', 'M.', 'PROPN'), ('De', 'de', 'ADP'), ('el', 'el', 'DET'), ('Pilar', 'Pilar', 'PROPN'), ('Sinués', 'Sinués', 'PROPN'), ('de', 'de', 'ADP'), ('Marco', 'marco', 'PROPN')]], [('II', 'MISC'), [('II', 'ii', 'NUM')]], [('Margarita', 'PER'), [('Margarita', 'margarita', 'PROPN')]], [('Margarita Aurora de Wilson', 'PER'), [('Margarita', 'margarita', 'PROPN'), ('Aurora', 'aurora', 'PROPN'), ('de', 'de', 'ADP'), ('Wilson', 'wilson', 'PROPN')]], [('Serrano', 'PER'), [('Serrano', 'Serrano', 'PROPN')]], [('María', 'PER'), [('María', 'María', 'PROPN')]], [('Alteza Real', 'PER'), [('Alteza', 'alteza', 'PROPN'), ('Real', 'real', 'PROPN')]], [('Príncipe de Asturias', 'PER'), [('Príncipe', 'Príncipe', 'PROPN'), ('de', 'de', 'ADP'), ('Asturias', 'Asturias', 'PROPN')]], [('Margarita', 'PER'), [('Margarita', 'margarita', 'PROPN')]], [('Soneto', 'PER'), [('Soneto', 'soneto', 'NOUN')]], [('SS. MM. II', 'PER'), [('SS.', 'ss.', 'PROPN'), ('MM.', 'mm.', 'PROPN'), ('II', 'ii', 'NUM')]], [('El matrimonio de la Princesa real de Inglaterra [...]\"', 'MISC'), [('El', 'el', 'DET'), ('matrimonio', 'matrimonio', 'NOUN'), ('de', 'de', 'ADP'), ('la', 'el', 'DET'), ('Princesa', 'Princesa', 'PROPN'), ('real', 'real', 'PROPN'), ('de', 'de', 'ADP'), ('Inglaterra', 'inglaterra', 'PROPN'), ('[', '[', 'PUNCT'), ('...', '...', 'PUNCT'), (']', ']', 'PUNCT'), ('\"', '\"', 'PUNCT')]], [('Poesía', 'MISC'), [('Poesía', 'poesía', 'NOUN')]], [('Oda', 'PER'), [('Oda', 'oda', 'PROPN')]], [('Alejandro Dumas', 'PER'), [('Alejandro', 'alejandro', 'PROPN'), ('Dumas', 'dumas', 'PROPN')]], [('Soneto', 'PER'), [('Soneto', 'soneto', 'NOUN')]], [('SS.', 'MISC'), [('SS', 'ss', 'PROPN'), ('.', '.', 'PUNCT')]], [('príncipe Mirza-Ally-Kan-Bahadoor', 'PER'), [('príncipe', 'príncipe', 'NOUN'), ('Mirza-Ally-Kan-Bahadoor', 'Mirza-Ally-Kan-Bahadoor', 'PROPN')]], [('Habláse mucho en los círculos aristocrático de un matrimonio [...]', 'MISC'), [('Habláse', 'hablar', 'VERB'), ('mucho', 'mucho', 'PRON'), ('en', 'en', 'ADP'), ('los', 'el', 'DET'), ('círculos', 'círculo', 'NOUN'), ('aristocrático', 'aristocrático', 'ADJ'), ('de', 'de', 'ADP'), ('un', 'uno', 'DET'), ('matrimonio', 'matrimonio', 'NOUN'), ('[', '[', 'PUNCT'), ('...', '...', 'PUNCT'), (']', ']', 'PUNCT')]], [('Ismail', 'PER'), [('Ismail', 'Ismail', 'PROPN')]], [('Leviatán', 'MISC'), [('Leviatán', 'leviatán', 'PROPN')]], [('M. de Lamartine', 'PER'), [('M.', 'M.', 'PROPN'), ('de', 'de', 'ADP'), ('Lamartine', 'Lamartine', 'PROPN')]], [('Isabel II', 'PER'), [('Isabel', 'isabel', 'PROPN'), ('II', 'ii', 'NUM')]], [('Hamlet', 'PER'), [('Hamlet', 'Hamlet', 'PROPN')]], [('La Malibran', 'MISC'), [('La', 'el', 'DET'), ('Malibran', 'malibran', 'PROPN')]], [('Londres', 'LOC'), [('Londres', 'Londres', 'PROPN')]], [('El gobierno del Brasil [...]', 'MISC'), [('El', 'el', 'DET'), ('gobierno', 'gobierno', 'NOUN'), ('de', 'de', 'ADP'), ('el', 'el', 'DET'), ('Brasil', 'Brasil', 'PROPN'), ('[', '[', 'PUNCT'), ('...', '...', 'PUNCT'), (']', ']', 'PUNCT')]], [('M. de Lamartine', 'PER'), [('M.', 'M.', 'PROPN'), ('de', 'de', 'ADP'), ('Lamartine', 'Lamartine', 'PROPN')]], [('Porvenir', 'PER'), [('Porvenir', 'porvenir', 'PROPN')]], [('Francia', 'ORG'), [('Francia', 'francia', 'PROPN')]], [('Nuevo-Mundo', 'LOC'), [('Nuevo-Mundo', 'Nuevo-Mundo', 'PROPN')]], [('Confederación Argentina', 'ORG'), [('Confederación', 'Confederación', 'PROPN'), ('Argentina', 'argentina', 'PROPN')]], [('Uruguay-Le Paraguay', 'ORG'), [('Uruguay-Le', 'uruguay-le', 'DET'), ('Paraguay', 'paraguay', 'PROPN')]], [('S. M. La emperatriz de los franceses', 'MISC'), [('S.', 'S.', 'PROPN'), ('M.', 'M.', 'PROPN'), ('La', 'el', 'DET'), ('emperatriz', 'emperatriz', 'NOUN'), ('de', 'de', 'ADP'), ('los', 'el', 'DET'), ('franceses', 'francés', 'NOUN')]], [('Zurbarán', 'LOC'), [('Zurbarán', 'zurbarán', 'PROPN')]], [('Filadelfia', 'LOC'), [('Filadelfia', 'filadelfia', 'PROPN')]], [('Ville', 'LOC'), [('Ville', 'ville', 'PROPN')]], [('Paraguay', 'LOC'), [('Paraguay', 'paraguay', 'PROPN')]], [('Escma', 'ORG'), [('Escma', 'Escma', 'PROPN')]], [('Dª Gertrudis Gómez de Avellaneda', 'PER'), [('Dª', 'dª', 'PROPN'), ('Gertrudis', 'Gertrudis', 'PROPN'), ('Gómez', 'Gómez', 'PROPN'), ('de', 'de', 'ADP'), ('Avellaneda', 'avellaneda', 'PROPN')]], [('Leopoldo Robert', 'PER'), [('Leopoldo', 'Leopoldo', 'PROPN'), ('Robert', 'robert', 'PROPN')]], [('Leemos en el Monitor  [...]\"', 'MISC'), [('Leemos', 'leer', 'VERB'), ('en', 'en', 'ADP'), ('el', 'el', 'DET'), ('Monitor', 'Monitor', 'PROPN'), ('[', '[', 'PUNCT'), ('...', '...', 'PUNCT'), (']', ']', 'PUNCT'), ('\"', '\"', 'PUNCT')]], [('Anuario diplomático de 1859\\' [...]\"', 'MISC'), [('Anuario', 'anuario', 'NOUN'), ('diplomático', 'diplomático', 'ADJ'), ('de', 'de', 'ADP'), ('1859', '1859', 'NOUN'), (\"'\", \"'\", 'PUNCT'), ('[', '[', 'PUNCT'), ('...', '...', 'PUNCT'), (']', ']', 'PUNCT'), ('\"', '\"', 'PUNCT')]], [('Alto', 'MISC'), [('Alto', 'alto', 'ADJ')]], [('Bajo Rin', 'LOC'), [('Bajo', 'bajo', 'PROPN'), ('Rin', 'rin', 'PROPN')]], [('El matrimonio del hijo mayor [...]\"-Savonnette', 'MISC'), [('El', 'el', 'DET'), ('matrimonio', 'matrimonio', 'NOUN'), ('de', 'de', 'ADP'), ('el', 'el', 'DET'), ('hijo', 'hijo', 'NOUN'), ('mayor', 'mayor', 'ADJ'), ('[', '[', 'PUNCT'), ('...', '...', 'PUNCT'), (']\"', ']\"', 'PUNCT'), ('-Savonnette', '-Savonnette', 'PROPN')]], [('Ramón de la Sagra', 'PER'), [('Ramón', 'ramón', 'PROPN'), ('de', 'de', 'ADP'), ('la', 'el', 'DET'), ('Sagra', 'sagra', 'PROPN')]], [('Estados-Unidos', 'ORG'), [('Estados-Unidos', 'Estados-Unidos', 'PROPN')]], [('Paraguay', 'ORG'), [('Paraguay', 'paraguay', 'PROPN')]], [('SS. AA. II', 'MISC'), [('SS.', 'ss.', 'PROPN'), ('AA.', 'aa.', 'PROPN'), ('II', 'ii', 'NUM')]], [('princesa Napoleón', 'PER'), [('princesa', 'princesa', 'NOUN'), ('Napoleón', 'napoleón', 'PROPN')]], [('Leopoldo Robert', 'PER'), [('Leopoldo', 'Leopoldo', 'PROPN'), ('Robert', 'robert', 'PROPN')]], [('Conclusión', 'ORG'), [('Conclusión', 'conclusión', 'NOUN')]], [('San Petesburgo', 'MISC'), [('San', 'san', 'PROPN'), ('Petesburgo', 'petesburgo', 'PROPN')]], [('El Entreacto publica un acarta fechada en Génova', 'MISC'), [('El', 'el', 'DET'), ('Entreacto', 'Entreacto', 'PROPN'), ('publica', 'publicar', 'VERB'), ('un', 'uno', 'DET'), ('acarta', 'acarta', 'NOUN'), ('fechada', 'fechada', 'ADJ'), ('en', 'en', 'ADP'), ('Génova', 'génova', 'PROPN')]], [('Memorándum especial por la guerra de Italia', 'MISC'), [('Memorándum', 'Memorándum', 'NOUN'), ('especial', 'especial', 'ADJ'), ('por', 'por', 'ADP'), ('la', 'el', 'DET'), ('guerra', 'guerra', 'NOUN'), ('de', 'de', 'ADP'), ('Italia', 'Italia', 'PROPN')]], [('Pbro', 'PER'), [('Pbro', 'pbro', 'PROPN')]], [('D. Félix Varela', 'PER'), [('D.', 'd.', 'PROPN'), ('Félix', 'félix', 'PROPN'), ('Varela', 'varela', 'PROPN')]], [('catedral de Bron', 'LOC'), [('catedral', 'catedral', 'NOUN'), ('de', 'de', 'ADP'), ('Bron', 'bron', 'PROPN')]], [('Artículo II', 'MISC'), [('Artículo', 'artículo', 'NOUN'), ('II', 'ii', 'NUM')]], [('Estados-Unidos', 'ORG'), [('Estados-Unidos', 'Estados-Unidos', 'PROPN')]], [('Paraguay', 'ORG'), [('Paraguay', 'paraguay', 'PROPN')]], [('Deuda', 'MISC'), [('Deuda', 'deuda', 'PROPN')]], [('M. Alejandro Dumas', 'PER'), [('M.', 'M.', 'PROPN'), ('Alejandro', 'alejandro', 'PROPN'), ('Dumas', 'dumas', 'PROPN')]], [('Carta del Sr.', 'MISC'), [('Carta', 'carta', 'NOUN'), ('de', 'de', 'ADP'), ('el', 'el', 'DET'), ('Sr.', 'sr.', 'PROPN')]], [('Guillemot', 'PER'), [('Guillemot', 'Guillemot', 'PROPN')]], [('Napoleón III', 'PER'), [('Napoleón', 'napoleón', 'PROPN'), ('III', 'iii', 'NUM')]], [('Víctor Manuel II', 'PER'), [('Víctor', 'Víctor', 'PROPN'), ('Manuel', 'Manuel', 'PROPN'), ('II', 'ii', 'NUM')]], [('Poesía', 'MISC'), [('Poesía', 'poesía', 'NOUN')]], [('Mariano G. Manrique', 'PER'), [('Mariano', 'mariano', 'PROPN'), ('G.', 'G.', 'PROPN'), ('Manrique', 'Manrique', 'PROPN')]], [('Poesía', 'MISC'), [('Poesía', 'poesía', 'NOUN')]], [('Napoleón III', 'PER'), [('Napoleón', 'napoleón', 'PROPN'), ('III', 'iii', 'NUM')]], [('Montmartre', 'LOC'), [('Montmartre', 'montmartre', 'PROPN')]], [('Fragmento', 'MISC'), [('Fragmento', 'fragmento', 'NOUN')]], [('Solferino', 'PER'), [('Solferino', 'Solferino', 'PROPN')]], [('Memorándum especial por la guerra de Italia', 'MISC'), [('Memorándum', 'Memorándum', 'NOUN'), ('especial', 'especial', 'ADJ'), ('por', 'por', 'ADP'), ('la', 'el', 'DET'), ('guerra', 'guerra', 'NOUN'), ('de', 'de', 'ADP'), ('Italia', 'Italia', 'PROPN')]], [('Batalla de Solferino', 'MISC'), [('Batalla', 'batalla', 'NOUN'), ('de', 'de', 'ADP'), ('Solferino', 'Solferino', 'PROPN')]], [('Ejército de Italia', 'ORG'), [('Ejército', 'Ejército', 'PROPN'), ('de', 'de', 'ADP'), ('Italia', 'Italia', 'PROPN')]], [('Villafranca', 'LOC'), [('Villafranca', 'villafranca', 'PROPN')]], [('mariscal Vaillant', 'PER'), [('mariscal', 'mariscal', 'NOUN'), ('Vaillant', 'Vaillant', 'PROPN')]], [('Italia', 'LOC'), [('Italia', 'Italia', 'PROPN')]], [('Poesía', 'MISC'), [('Poesía', 'poesía', 'NOUN')]], [('S. M.', 'PER'), [('S.', 'S.', 'PROPN'), ('M.', 'M.', 'PROPN')]], [('Napoleón III', 'PER'), [('Napoleón', 'napoleón', 'PROPN'), ('III', 'iii', 'NUM')]], [('Fragmentos', 'ORG'), [('Fragmentos', 'fragmentos', 'NOUN')]], [('Baltasar', 'PER'), [('Baltasar', 'Baltasar', 'PROPN')]], [('Garibaldi', 'PER'), [('Garibaldi', 'garibaldi', 'PROPN')]], [('Señora Doña Emilia Serrano de Wilson', 'PER'), [('Señora', 'señora', 'NOUN'), ('Doña', 'Doña', 'PROPN'), ('Emilia', 'emilia', 'PROPN'), ('Serrano', 'Serrano', 'PROPN'), ('de', 'de', 'ADP'), ('Wilson', 'wilson', 'PROPN')]], [('Offland', 'PER'), [('Offland', 'offland', 'PROPN')]], [('doña María Verdejo', 'PER'), [('doña', 'doña', 'NOUN'), ('María', 'María', 'PROPN'), ('Verdejo', 'Verdejo', 'PROPN')]], [('Durán', 'PER'), [('Durán', 'durán', 'PROPN')]], [('María Leczinska', 'PER'), [('María', 'María', 'PROPN'), ('Leczinska', 'leczinska', 'PROPN')]], [('Otello', 'MISC'), [('Otello', 'otello', 'PROPN')]], [('Rossini', 'PER'), [('Rossini', 'Rossini', 'PROPN')]], [('señora Hua', 'PER'), [('señora', 'señora', 'NOUN'), ('Hua', 'hua', 'PROPN')]], [('doña Carolina Coronado', 'PER'), [('doña', 'doña', 'NOUN'), ('Carolina', 'carolina', 'PROPN'), ('Coronado', 'Coronado', 'PROPN')]], [('María Leczinska', 'PER'), [('María', 'María', 'PROPN'), ('Leczinska', 'leczinska', 'PROPN')]], [('niña Adelaida', 'PER'), [('niña', 'niña', 'NOUN'), ('Adelaida', 'adelaida', 'PROPN')]], [('Esther', 'PER'), [('Esther', 'Esther', 'PROPN')]], [('Tetuán', 'LOC'), [('Tetuán', 'tetuán', 'PROPN')]], [('Balada', 'PER'), [('Balada', 'Balada', 'PROPN')]], [('Velázquez', 'PER'), [('Velázquez', 'velázquez', 'PROPN')]], [('doña Eulogia', 'PER'), [('doña', 'doña', 'NOUN'), ('Eulogia', 'Eulogia', 'PROPN')]], [('Velázquez', 'PER'), [('Velázquez', 'velázquez', 'PROPN')]], [('España', 'ORG'), [('España', 'España', 'PROPN')]], [('Marruecos', 'ORG'), [('Marruecos', 'Marruecos', 'PROPN')]], [('D. José Piquer', 'PER'), [('D.', 'd.', 'PROPN'), ('José', 'José', 'PROPN'), ('Piquer', 'piquer', 'PROPN')]], [('Velázquez', 'PER'), [('Velázquez', 'velázquez', 'PROPN')]], [('Cuba', 'LOC'), [('Cuba', 'Cuba', 'PROPN')]], [('Cojimar', 'PER'), [('Cojimar', 'cojimar', 'PROPN')]], [('La ópera de Verdi [...]\"-\"El marqués de Casa-Riera [...]\"-\"No podemos resistir el deseo de copiar [...]', 'MISC'), [('La', 'el', 'DET'), ('ópera', 'ópera', 'NOUN'), ('de', 'de', 'ADP'), ('Verdi', 'Verdi', 'PROPN'), ('[', '[', 'PUNCT'), ('...', '...', 'PUNCT'), (']\"', ']\"', 'PUNCT'), ('-\"', '-\"', 'PUNCT'), ('El', 'el', 'DET'), ('marqués', 'marqués', 'PROPN'), ('de', 'de', 'ADP'), ('Casa-Riera', 'Casa-Riera', 'PROPN'), ('[', '[', 'PUNCT'), ('...', '...', 'PUNCT'), (']\"', ']\"', 'PUNCT'), ('-\"', '-\"', 'PUNCT'), ('No', 'no', 'ADV'), ('podemos', 'poder', 'AUX'), ('resistir', 'resistir', 'VERB'), ('el', 'el', 'DET'), ('deseo', 'deseo', 'NOUN'), ('de', 'de', 'ADP'), ('copiar', 'copiar', 'VERB'), ('[', '[', 'PUNCT'), ('...', '...', 'PUNCT'), (']', ']', 'PUNCT')]], [('Balada', 'PER'), [('Balada', 'Balada', 'PROPN')]], [('Dolora', 'PER'), [('Dolora', 'Dolora', 'PROPN')]], [('Colón', 'LOC'), [('Colón', 'colón', 'PROPN')]], [('Macahé', 'PER'), [('Macahé', 'Macahé', 'PROPN')]], [('Emilia', 'PER'), [('Emilia', 'emilia', 'PROPN')]], [('Señor', 'PER'), [('Señor', 'señor', 'NOUN')]], [('Cuba', 'LOC'), [('Cuba', 'Cuba', 'PROPN')]], [('Griseldina', 'PER'), [('Griseldina', 'griseldina', 'PROPN')]], [('Araceli Abril de Armendi', 'PER'), [('Araceli', 'Araceli', 'PROPN'), ('Abril', 'abril', 'PROPN'), ('de', 'de', 'ADP'), ('Armendi', 'armendi', 'PROPN')]], [('Griseldina', 'PER'), [('Griseldina', 'griseldina', 'PROPN')]], [('Cuba', 'LOC'), [('Cuba', 'Cuba', 'PROPN')]], [('Oda', 'PER'), [('Oda', 'oda', 'PROPN')]], [('Periquito el Veleidoso', 'PER'), [('Periquito', 'periquito', 'PROPN'), ('el', 'el', 'DET'), ('Veleidoso', 'Veleidoso', 'PROPN')]], [('Cuba', 'LOC'), [('Cuba', 'Cuba', 'PROPN')]], [('Santo Domingo', 'LOC'), [('Santo', 'santo', 'PROPN'), ('Domingo', 'domingo', 'PROPN')]], [('Soledad', 'PER'), [('Soledad', 'soledad', 'PROPN')]], [('Santander', 'LOC'), [('Santander', 'Santander', 'PROPN')]], [('Periquito el Veleidoso', 'PER'), [('Periquito', 'periquito', 'PROPN'), ('el', 'el', 'DET'), ('Veleidoso', 'Veleidoso', 'PROPN')]], [('Conclusion', 'ORG'), [('Conclusion', 'conclusion', 'PROPN')]], [('Allende los mares mora [...]', 'MISC'), [('Allende', 'allende', 'PROPN'), ('los', 'el', 'DET'), ('mares', 'mare', 'NOUN'), ('mora', 'mora', 'PROPN'), ('[', '[', 'PUNCT'), ('...', '...', 'PUNCT'), (']', ']', 'PUNCT')]], [('doña Emila Serrano de Wilson', 'PER'), [('doña', 'doña', 'NOUN'), ('Emila', 'Emila', 'PROPN'), ('Serrano', 'Serrano', 'PROPN'), ('de', 'de', 'ADP'), ('Wilson', 'wilson', 'PROPN')]], [('J. R.', 'PER'), [('J.', 'J.', 'PROPN'), ('R.', 'R.', 'PROPN')]], [('Rolandseck', 'PER'), [('Rolandseck', 'rolandseck', 'PROPN')]], [('marquesa', 'PER'), [('marquesa', 'marquesa', 'NOUN')]], [('Poesía', 'MISC'), [('Poesía', 'poesía', 'NOUN')]], [('Soneto', 'PER'), [('Soneto', 'soneto', 'NOUN')]], [('SS. MM', 'MISC'), [('SS', 'ss', 'PROPN'), ('.', '.', 'PUNCT'), ('MM', 'mm', 'PROPN')]], [('Mariquita', 'PER'), [('Mariquita', 'mariquita', 'PROPN')]], [('Bonaparte', 'PER'), [('Bonaparte', 'bonaparte', 'PROPN')]], [('sargento Pérez', 'PER'), [('sargento', 'sargento', 'NOUN'), ('Pérez', 'Pérez', 'PROPN')]], [('Santo Domingo', 'LOC'), [('Santo', 'santo', 'PROPN'), ('Domingo', 'domingo', 'PROPN')]], [('Biarritz-\"Hace pocos días [...]', 'MISC'), [('Biarritz-\"', 'biarritz-\"', 'PROPN'), ('Hace', 'hacer', 'VERB'), ('pocos', 'poco', 'DET'), ('días', 'día', 'NOUN'), ('[', '[', 'PUNCT'), ('...', '...', 'PUNCT'), (']', ']', 'PUNCT')]], [('Sevilla', 'LOC'), [('Sevilla', 'Sevilla', 'PROPN')]], [('Soneto', 'PER'), [('Soneto', 'soneto', 'NOUN')]], [('Carta I. Monserrat', 'PER'), [('Carta', 'Carta', 'PROPN'), ('I.', 'i.', 'PROPN'), ('Monserrat', 'monserrat', 'PROPN')]], [('Ucles', 'MISC'), [('Ucles', 'ucles', 'PROPN')]], [('Fábula', 'PER'), [('Fábula', 'Fábula', 'PROPN')]], [('Carta II', 'MISC'), [('Carta', 'Carta', 'PROPN'), ('II', 'ii', 'NUM')]], [('Valencia', 'LOC'), [('Valencia', 'Valencia', 'PROPN')]], [('Ucles', 'MISC'), [('Ucles', 'ucles', 'PROPN')]], [('señora de J', 'PER'), [('señora', 'señora', 'NOUN'), ('de', 'de', 'ADP'), ('J', 'j', 'PROPN')]], [('El señor X [...]\"-\"Una aldeana enriquecida [...]', 'MISC'), [('El', 'el', 'DET'), ('señor', 'señor', 'NOUN'), ('X', 'x', 'PROPN'), ('[', '[', 'PUNCT'), ('...', '...', 'PUNCT'), (']\"', ']\"', 'PUNCT'), ('-\"', '-\"', 'PUNCT'), ('Una', 'uno', 'DET'), ('aldeana', 'aldeana', 'NOUN'), ('enriquecida', 'enriquecer', 'ADJ'), ('[', '[', 'PUNCT'), ('...', '...', 'PUNCT'), (']', ']', 'PUNCT')]], [('Carta III', 'MISC'), [('Carta', 'Carta', 'PROPN'), ('III', 'iii', 'NUM')]], [('Barcelona', 'LOC'), [('Barcelona', 'Barcelona', 'PROPN')]], [('Conclusión', 'MISC'), [('Conclusión', 'conclusión', 'NOUN')]], [('Brasil', 'ORG'), [('Brasil', 'Brasil', 'PROPN')]], [('Panamá', 'LOC'), [('Panamá', 'Panamá', 'PROPN')]], [('Saint-Point', 'LOC'), [('Saint-Point', 'Saint-Point', 'PROPN')]], [('Austria', 'LOC'), [('Austria', 'Austria', 'PROPN')]], [('Feria', 'MISC'), [('Feria', 'Feria', 'PROPN')]], [('Sevilla', 'LOC'), [('Sevilla', 'Sevilla', 'PROPN')]], [('Soneto', 'PER'), [('Soneto', 'soneto', 'NOUN')]], [('Soneto', 'PER'), [('Soneto', 'soneto', 'NOUN')]], [('Francisco José', 'PER'), [('Francisco', 'francisco', 'PROPN'), ('José', 'José', 'PROPN')]], [('Emperador del Austria', 'PER'), [('Emperador', 'Emperador', 'PROPN'), ('de', 'de', 'ADP'), ('el', 'el', 'DET'), ('Austria', 'Austria', 'PROPN')]], [('Ministerio Inglés', 'ORG'), [('Ministerio', 'Ministerio', 'PROPN'), ('Inglés', 'Inglés', 'PROPN')]], [('Monitor de París', 'ORG'), [('Monitor', 'Monitor', 'NOUN'), ('de', 'de', 'ADP'), ('París', 'París', 'PROPN')]], [('Solferino', 'PER'), [('Solferino', 'Solferino', 'PROPN')]], [('N.', 'PER'), [('N.', 'n.', 'PROPN')]], [('señora **', 'MISC'), [('señora', 'señora', 'NOUN'), ('*', '*', 'PUNCT'), ('*', '*', 'PUNCT')]], [('Goysevox', 'MISC'), [('Goysevox', 'Goysevox', 'PROPN')]], [('D. José Piquer-Oda', 'MISC'), [('D.', 'd.', 'PROPN'), ('José', 'José', 'PROPN'), ('Piquer-Oda', 'Piquer-Oda', 'PROPN')]], [('Alzad vuestras tumbas [...]', 'MISC'), [('Alzad', 'alzad', 'VERB'), ('vuestras', 'vuestro', 'DET'), ('tumbas', 'tumba', 'NOUN'), ('[', '[', 'PUNCT'), ('...', '...', 'PUNCT'), (']', ']', 'PUNCT')]], [('Rusia', 'ORG'), [('Rusia', 'Rusia', 'PROPN')]], [('Rusia', 'ORG'), [('Rusia', 'Rusia', 'PROPN')]], [('Safo', 'PER'), [('Safo', 'Safo', 'PROPN')]], [('Sombreros de Alexandrine', 'ORG'), [('Sombreros', 'sombreros', 'NOUN'), ('de', 'de', 'ADP'), ('Alexandrine', 'alexandrine', 'PROPN')]], [(\"Sombreros d'Alexandrine\", 'ORG'), [('Sombreros', 'Sombreros', 'PROPN'), (\"d'\", \"d'\", 'ADP'), ('Alexandrine', 'alexandrine', 'PROPN')]], [('Sombreros De Alexandrine', 'PER'), [('Sombreros', 'Sombreros', 'PROPN'), ('De', 'de', 'ADP'), ('Alexandrine', 'alexandrine', 'PROPN')]], [('Sombreros De Alexandrine', 'PER'), [('Sombreros', 'Sombreros', 'PROPN'), ('De', 'de', 'ADP'), ('Alexandrine', 'alexandrine', 'PROPN')]], [(\"Sombreros d'Alexandrine\", 'ORG'), [('Sombreros', 'Sombreros', 'PROPN'), (\"d'\", \"d'\", 'ADP'), ('Alexandrine', 'alexandrine', 'PROPN')]], [(\"Sombreros d'Alexandrine\", 'ORG'), [('Sombreros', 'Sombreros', 'PROPN'), (\"d'\", \"d'\", 'ADP'), ('Alexandrine', 'alexandrine', 'PROPN')]], [(\"Sombreros d'Alexandrine\", 'ORG'), [('Sombreros', 'Sombreros', 'PROPN'), (\"d'\", \"d'\", 'ADP'), ('Alexandrine', 'alexandrine', 'PROPN')]], [('Planchais [...]', 'MISC'), [('Planchais', 'planchais', 'PROPN'), ('[', '[', 'PUNCT'), ('...', '...', 'PUNCT'), (']', ']', 'PUNCT')]], [('Casa de comisión para París [...]', 'MISC'), [('Casa', 'casa', 'NOUN'), ('de', 'de', 'ADP'), ('comisión', 'comisión', 'NOUN'), ('para', 'para', 'ADP'), ('París', 'París', 'PROPN'), ('[', '[', 'PUNCT'), ('...', '...', 'PUNCT'), (']', ']', 'PUNCT')]], [(\"Sombreros d'Alexandrine\", 'MISC'), [('Sombreros', 'Sombreros', 'PROPN'), (\"d'\", \"d'\", 'ADP'), ('Alexandrine', 'alexandrine', 'PROPN')]], [('Corsets Plastiques Mme', 'ORG'), [('Corsets', 'Corsets', 'PROPN'), ('Plastiques', 'Plastiques', 'PROPN'), ('Mme', 'Mme', 'PROPN')]], [('Bonvallet', 'PER'), [('Bonvallet', 'Bonvallet', 'PROPN')]], [('Bonvallet', 'LOC'), [('Bonvallet', 'Bonvallet', 'PROPN')]], [('Faguer Labollée', 'PER'), [('Faguer', 'Faguer', 'PROPN'), ('Labollée', 'labollée', 'PROPN')]], [('Lemnnier', 'LOC'), [('Lemnnier', 'lemnnier', 'PROPN')]], [('Porcelaines', 'ORG'), [('Porcelaines', 'porcelaines', 'PROPN')]], [(\"Cristaux Maison de l'Escalier de Cristal\", 'ORG'), [('Cristaux', 'cristaux', 'PROPN'), ('Maison', 'maison', 'PROPN'), ('de', 'de', 'ADP'), (\"l'Escalier\", \"l'Escalier\", 'PROPN'), ('de', 'de', 'ADP'), ('Cristal', 'cristal', 'PROPN')]], [('Sorré Dehsle', 'LOC'), [('Sorré', 'sorré', 'PROPN'), ('Dehsle', 'dehsle', 'PROPN')]], [('Corsets plastiques de Bonvallet', 'LOC'), [('Corsets', 'Corsets', 'PROPN'), ('plastiques', 'plastiques', 'PROPN'), ('de', 'de', 'ADP'), ('Bonvallet', 'Bonvallet', 'PROPN')]], [('Guantes', 'LOC'), [('Guantes', 'guantes', 'NOUN')]], [('Faguer Labollée', 'LOC'), [('Faguer', 'Faguer', 'PROPN'), ('Labollée', 'labollée', 'PROPN')]], [('Lemnnier', 'LOC'), [('Lemnnier', 'lemnnier', 'PROPN')]], [(\"Porcelaines et Cristaux Maison de l'Escalier de Cristal\", 'ORG'), [('Porcelaines', 'porcelaines', 'PROPN'), ('et', 'et', 'PROPN'), ('Cristaux', 'cristaux', 'PROPN'), ('Maison', 'maison', 'PROPN'), ('de', 'de', 'ADP'), (\"l'Escalier\", \"l'Escalier\", 'PROPN'), ('de', 'de', 'ADP'), ('Cristal', 'cristal', 'PROPN')]], [('Lait', 'PER'), [('Lait', 'lait', 'PROPN')]], [('Camisas Claudio', 'PER'), [('Camisas', 'Camisas', 'PROPN'), ('Claudio', 'Claudio', 'PROPN')]], [('Hermanos', 'PER'), [('Hermanos', 'hermano', 'PROPN')]], [('Huéspedes', 'LOC'), [('Huéspedes', 'Huéspedes', 'PROPN')]], [('Casa Delacroix', 'ORG'), [('Casa', 'casa', 'PROPN'), ('Delacroix', 'delacroix', 'PROPN')]], [('Jules Bloch', 'PER'), [('Jules', 'jules', 'PROPN'), ('Bloch', 'bloch', 'PROPN')]], [('Gaceta de Bellas Artes', 'ORG'), [('Gaceta', 'gaceta', 'PROPN'), ('de', 'de', 'ADP'), ('Bellas', 'bellas', 'PROPN'), ('Artes', 'artes', 'PROPN')]], [('Porta-monedas Despierres', 'ORG'), [('Porta-monedas', 'Porta-monedas', 'PROPN'), ('Despierres', 'despierres', 'PROPN')]], [('Tarifs des insertions', 'ORG'), [('Tarifs', 'tarifs', 'PROPN'), ('des', 'd', 'PROPN'), ('insertions', 'insertions', 'PROPN')]], [('Sorré Dehsle', 'LOC'), [('Sorré', 'sorré', 'PROPN'), ('Dehsle', 'dehsle', 'PROPN')]], [('Corsets plastiques de Bonvallet', 'LOC'), [('Corsets', 'Corsets', 'PROPN'), ('plastiques', 'plastiques', 'PROPN'), ('de', 'de', 'ADP'), ('Bonvallet', 'Bonvallet', 'PROPN')]], [('Guantes', 'LOC'), [('Guantes', 'guantes', 'NOUN')]], [('Faguer Labollée', 'LOC'), [('Faguer', 'Faguer', 'PROPN'), ('Labollée', 'labollée', 'PROPN')]], [('Lemnnier', 'LOC'), [('Lemnnier', 'lemnnier', 'PROPN')]], [(\"Porcelaines et Cristaux Maison de l'Escalier de Cristal\", 'ORG'), [('Porcelaines', 'porcelaines', 'PROPN'), ('et', 'et', 'PROPN'), ('Cristaux', 'cristaux', 'PROPN'), ('Maison', 'maison', 'PROPN'), ('de', 'de', 'ADP'), (\"l'Escalier\", \"l'Escalier\", 'PROPN'), ('de', 'de', 'ADP'), ('Cristal', 'cristal', 'PROPN')]], [('Camisas Claudio', 'PER'), [('Camisas', 'Camisas', 'PROPN'), ('Claudio', 'Claudio', 'PROPN')]], [('Hermanos', 'PER'), [('Hermanos', 'hermano', 'PROPN')]], [('Nueva Geografía Sangansan', 'MISC'), [('Nueva', 'nueva', 'PROPN'), ('Geografía', 'geografía', 'PROPN'), ('Sangansan', 'sangansan', 'PROPN')]], [('Huéspedes', 'LOC'), [('Huéspedes', 'Huéspedes', 'PROPN')]], [('Casa Delacroix', 'ORG'), [('Casa', 'casa', 'PROPN'), ('Delacroix', 'delacroix', 'PROPN')]], [('Jules Bloch', 'PER'), [('Jules', 'jules', 'PROPN'), ('Bloch', 'bloch', 'PROPN')]], [('Platería Cristofle', 'ORG'), [('Platería', 'Platería', 'PROPN'), ('Cristofle', 'cristofle', 'PROPN')]], [('Tarifs des insertions', 'ORG'), [('Tarifs', 'tarifs', 'PROPN'), ('des', 'd', 'PROPN'), ('insertions', 'insertions', 'PROPN')]], [('Sorré Dehsle', 'LOC'), [('Sorré', 'sorré', 'PROPN'), ('Dehsle', 'dehsle', 'PROPN')]], [('Corsets plastiques de Bonvallet', 'LOC'), [('Corsets', 'Corsets', 'PROPN'), ('plastiques', 'plastiques', 'PROPN'), ('de', 'de', 'ADP'), ('Bonvallet', 'Bonvallet', 'PROPN')]], [('Guantes', 'LOC'), [('Guantes', 'guantes', 'NOUN')]], [('Faguer Labollée', 'LOC'), [('Faguer', 'Faguer', 'PROPN'), ('Labollée', 'labollée', 'PROPN')]], [('Lemnnier', 'LOC'), [('Lemnnier', 'lemnnier', 'PROPN')]], [(\"Porcelaines et Cristaux Maison de l'Escalier de Cristal\", 'ORG'), [('Porcelaines', 'porcelaines', 'PROPN'), ('et', 'et', 'PROPN'), ('Cristaux', 'cristaux', 'PROPN'), ('Maison', 'maison', 'PROPN'), ('de', 'de', 'ADP'), (\"l'Escalier\", \"l'Escalier\", 'PROPN'), ('de', 'de', 'ADP'), ('Cristal', 'cristal', 'PROPN')]], [('Camisas Claudio', 'PER'), [('Camisas', 'Camisas', 'PROPN'), ('Claudio', 'Claudio', 'PROPN')]], [('Hermanos', 'PER'), [('Hermanos', 'hermano', 'PROPN')]], [('Nueva Geografía Sangansan', 'MISC'), [('Nueva', 'nueva', 'PROPN'), ('Geografía', 'geografía', 'PROPN'), ('Sangansan', 'sangansan', 'PROPN')]], [('Huéspedes', 'LOC'), [('Huéspedes', 'Huéspedes', 'PROPN')]], [('Casa Delacroix', 'ORG'), [('Casa', 'casa', 'PROPN'), ('Delacroix', 'delacroix', 'PROPN')]], [('Jules Bloch', 'PER'), [('Jules', 'jules', 'PROPN'), ('Bloch', 'bloch', 'PROPN')]], [('Platería Cristofle', 'ORG'), [('Platería', 'Platería', 'PROPN'), ('Cristofle', 'cristofle', 'PROPN')]], [('Tarifs des insertions', 'ORG'), [('Tarifs', 'tarifs', 'PROPN'), ('des', 'd', 'PROPN'), ('insertions', 'insertions', 'PROPN')]], [('Camisas Claudio', 'PER'), [('Camisas', 'Camisas', 'PROPN'), ('Claudio', 'Claudio', 'PROPN')]], [('Hermanos', 'PER'), [('Hermanos', 'hermano', 'PROPN')]], [('Nueva Geografía Sangansan', 'MISC'), [('Nueva', 'nueva', 'PROPN'), ('Geografía', 'geografía', 'PROPN'), ('Sangansan', 'sangansan', 'PROPN')]], [('Huéspedes', 'LOC'), [('Huéspedes', 'Huéspedes', 'PROPN')]], [('Casa Delacroix', 'ORG'), [('Casa', 'casa', 'PROPN'), ('Delacroix', 'delacroix', 'PROPN')]], [('Jules Bloch', 'PER'), [('Jules', 'jules', 'PROPN'), ('Bloch', 'bloch', 'PROPN')]], [('Platería Cristofle', 'ORG'), [('Platería', 'Platería', 'PROPN'), ('Cristofle', 'cristofle', 'PROPN')]], [('Tarifs des insertions', 'ORG'), [('Tarifs', 'tarifs', 'PROPN'), ('des', 'd', 'PROPN'), ('insertions', 'insertions', 'PROPN')]], [('Camisas Claudio', 'PER'), [('Camisas', 'Camisas', 'PROPN'), ('Claudio', 'Claudio', 'PROPN')]], [('Hermanos', 'PER'), [('Hermanos', 'hermano', 'PROPN')]], [('Nueva Geografía Sangansan', 'MISC'), [('Nueva', 'nueva', 'PROPN'), ('Geografía', 'geografía', 'PROPN'), ('Sangansan', 'sangansan', 'PROPN')]], [('Huéspedes', 'LOC'), [('Huéspedes', 'Huéspedes', 'PROPN')]], [('Casa Delacroix', 'ORG'), [('Casa', 'casa', 'PROPN'), ('Delacroix', 'delacroix', 'PROPN')]], [('Jules Bloch', 'PER'), [('Jules', 'jules', 'PROPN'), ('Bloch', 'bloch', 'PROPN')]], [('Platería Cristofle', 'ORG'), [('Platería', 'Platería', 'PROPN'), ('Cristofle', 'cristofle', 'PROPN')]], [('Platería Cristofle', 'ORG'), [('Platería', 'Platería', 'PROPN'), ('Cristofle', 'cristofle', 'PROPN')]], [('Camisas Claudio', 'PER'), [('Camisas', 'Camisas', 'PROPN'), ('Claudio', 'Claudio', 'PROPN')]], [('Hermanos', 'PER'), [('Hermanos', 'hermano', 'PROPN')]], [('Nueva Geografía Sangansan', 'MISC'), [('Nueva', 'nueva', 'PROPN'), ('Geografía', 'geografía', 'PROPN'), ('Sangansan', 'sangansan', 'PROPN')]], [('Huéspedes', 'LOC'), [('Huéspedes', 'Huéspedes', 'PROPN')]], [('Casa Delacroix', 'ORG'), [('Casa', 'casa', 'PROPN'), ('Delacroix', 'delacroix', 'PROPN')]], [('Jules Bloch', 'PER'), [('Jules', 'jules', 'PROPN'), ('Bloch', 'bloch', 'PROPN')]], [('Sorré Dehsle', 'LOC'), [('Sorré', 'sorré', 'PROPN'), ('Dehsle', 'dehsle', 'PROPN')]], [('Corsets plastiques de Bonvallet', 'LOC'), [('Corsets', 'Corsets', 'PROPN'), ('plastiques', 'plastiques', 'PROPN'), ('de', 'de', 'ADP'), ('Bonvallet', 'Bonvallet', 'PROPN')]], [('Guantes', 'LOC'), [('Guantes', 'guantes', 'NOUN')]], [('Faguer Labollée', 'LOC'), [('Faguer', 'Faguer', 'PROPN'), ('Labollée', 'labollée', 'PROPN')]], [('Lemnnier', 'LOC'), [('Lemnnier', 'lemnnier', 'PROPN')]], [(\"Porcelaines et Cristaux Maison de l'Escalier de Cristal\", 'ORG'), [('Porcelaines', 'porcelaines', 'PROPN'), ('et', 'et', 'PROPN'), ('Cristaux', 'cristaux', 'PROPN'), ('Maison', 'maison', 'PROPN'), ('de', 'de', 'ADP'), (\"l'Escalier\", \"l'Escalier\", 'PROPN'), ('de', 'de', 'ADP'), ('Cristal', 'cristal', 'PROPN')]], [('Camisas Claudio', 'PER'), [('Camisas', 'Camisas', 'PROPN'), ('Claudio', 'Claudio', 'PROPN')]], [('Hermanos', 'PER'), [('Hermanos', 'hermano', 'PROPN')]], [('Nueva Geografía Sangansan', 'MISC'), [('Nueva', 'nueva', 'PROPN'), ('Geografía', 'geografía', 'PROPN'), ('Sangansan', 'sangansan', 'PROPN')]], [('Huéspedes', 'LOC'), [('Huéspedes', 'Huéspedes', 'PROPN')]], [('Casa Delacroix', 'ORG'), [('Casa', 'casa', 'PROPN'), ('Delacroix', 'delacroix', 'PROPN')]], [('Jules Bloch', 'PER'), [('Jules', 'jules', 'PROPN'), ('Bloch', 'bloch', 'PROPN')]], [('Platería Cristofle', 'ORG'), [('Platería', 'Platería', 'PROPN'), ('Cristofle', 'cristofle', 'PROPN')]], [('Camisas Claudio', 'PER'), [('Camisas', 'Camisas', 'PROPN'), ('Claudio', 'Claudio', 'PROPN')]], [('Hermanos', 'PER'), [('Hermanos', 'hermano', 'PROPN')]], [('Nueva Geografía Sangansan', 'MISC'), [('Nueva', 'nueva', 'PROPN'), ('Geografía', 'geografía', 'PROPN'), ('Sangansan', 'sangansan', 'PROPN')]], [('Huéspedes', 'LOC'), [('Huéspedes', 'Huéspedes', 'PROPN')]], [('Casa Delacroix', 'ORG'), [('Casa', 'casa', 'PROPN'), ('Delacroix', 'delacroix', 'PROPN')]], [('Jules Bloch', 'PER'), [('Jules', 'jules', 'PROPN'), ('Bloch', 'bloch', 'PROPN')]], [('Platería Cristofle', 'ORG'), [('Platería', 'Platería', 'PROPN'), ('Cristofle', 'cristofle', 'PROPN')]], [('Sorré Dehsle', 'LOC'), [('Sorré', 'sorré', 'PROPN'), ('Dehsle', 'dehsle', 'PROPN')]], [('Corsets plastiques de Bonvallet', 'LOC'), [('Corsets', 'Corsets', 'PROPN'), ('plastiques', 'plastiques', 'PROPN'), ('de', 'de', 'ADP'), ('Bonvallet', 'Bonvallet', 'PROPN')]], [('Guantes', 'LOC'), [('Guantes', 'guantes', 'NOUN')]], [('Faguer Labollée', 'LOC'), [('Faguer', 'Faguer', 'PROPN'), ('Labollée', 'labollée', 'PROPN')]], [('Lemnnier', 'LOC'), [('Lemnnier', 'lemnnier', 'PROPN')]], [(\"Porcelaines et Cristaux Maison de l'Escalier de Cristal\", 'ORG'), [('Porcelaines', 'porcelaines', 'PROPN'), ('et', 'et', 'PROPN'), ('Cristaux', 'cristaux', 'PROPN'), ('Maison', 'maison', 'PROPN'), ('de', 'de', 'ADP'), (\"l'Escalier\", \"l'Escalier\", 'PROPN'), ('de', 'de', 'ADP'), ('Cristal', 'cristal', 'PROPN')]], [('Camisas Claudio', 'PER'), [('Camisas', 'Camisas', 'PROPN'), ('Claudio', 'Claudio', 'PROPN')]], [('Hermanos', 'PER'), [('Hermanos', 'hermano', 'PROPN')]], [('Nueva Geografía Sangansan', 'MISC'), [('Nueva', 'nueva', 'PROPN'), ('Geografía', 'geografía', 'PROPN'), ('Sangansan', 'sangansan', 'PROPN')]], [('Huéspedes', 'LOC'), [('Huéspedes', 'Huéspedes', 'PROPN')]], [('Casa Delacroix', 'ORG'), [('Casa', 'casa', 'PROPN'), ('Delacroix', 'delacroix', 'PROPN')]], [('Jules Bloch', 'PER'), [('Jules', 'jules', 'PROPN'), ('Bloch', 'bloch', 'PROPN')]], [('Platería Cristofle', 'ORG'), [('Platería', 'Platería', 'PROPN'), ('Cristofle', 'cristofle', 'PROPN')]], [('Sorré Dehsle', 'LOC'), [('Sorré', 'sorré', 'PROPN'), ('Dehsle', 'dehsle', 'PROPN')]], [('Corsets plastiques de Bonvallet', 'LOC'), [('Corsets', 'Corsets', 'PROPN'), ('plastiques', 'plastiques', 'PROPN'), ('de', 'de', 'ADP'), ('Bonvallet', 'Bonvallet', 'PROPN')]], [('Guantes', 'LOC'), [('Guantes', 'guantes', 'NOUN')]], [('Faguer Labollée', 'LOC'), [('Faguer', 'Faguer', 'PROPN'), ('Labollée', 'labollée', 'PROPN')]], [('Lemnnier', 'LOC'), [('Lemnnier', 'lemnnier', 'PROPN')]], [(\"Porcelaines et Cristaux Maison de l'Escalier de Cristal\", 'ORG'), [('Porcelaines', 'porcelaines', 'PROPN'), ('et', 'et', 'PROPN'), ('Cristaux', 'cristaux', 'PROPN'), ('Maison', 'maison', 'PROPN'), ('de', 'de', 'ADP'), (\"l'Escalier\", \"l'Escalier\", 'PROPN'), ('de', 'de', 'ADP'), ('Cristal', 'cristal', 'PROPN')]], [('Platería Cristofle', 'ORG'), [('Platería', 'Platería', 'PROPN'), ('Cristofle', 'cristofle', 'PROPN')]], [('doña Emilia Serrano de Wilson', 'PER'), [('doña', 'doña', 'NOUN'), ('Emilia', 'emilia', 'PROPN'), ('Serrano', 'Serrano', 'PROPN'), ('de', 'de', 'ADP'), ('Wilson', 'wilson', 'PROPN')]], [('Platería Cristofle', 'ORG'), [('Platería', 'Platería', 'PROPN'), ('Cristofle', 'cristofle', 'PROPN')]], [('doña Emilia Serrano de Wilson', 'PER'), [('doña', 'doña', 'NOUN'), ('Emilia', 'emilia', 'PROPN'), ('Serrano', 'Serrano', 'PROPN'), ('de', 'de', 'ADP'), ('Wilson', 'wilson', 'PROPN')]], [('Platería Cristofle', 'ORG'), [('Platería', 'Platería', 'PROPN'), ('Cristofle', 'cristofle', 'PROPN')]], [('doña Emilia Serrano de Wilson', 'PER'), [('doña', 'doña', 'NOUN'), ('Emilia', 'emilia', 'PROPN'), ('Serrano', 'Serrano', 'PROPN'), ('de', 'de', 'ADP'), ('Wilson', 'wilson', 'PROPN')]], [('Modes de Paris', 'LOC'), [('Modes', 'Modes', 'PROPN'), ('de', 'de', 'ADP'), ('Paris', 'parís', 'PROPN')]], [('Petit Courrier des Dames', 'LOC'), [('Petit', 'petit', 'PROPN'), ('Courrier', 'courrier', 'PROPN'), ('des', 'des', 'ADP'), ('Dames', 'dames', 'PROPN')]], [('Eco Hispano-Americano', 'ORG'), [('Eco', 'Eco', 'PROPN'), ('Hispano-Americano', 'Hispano-Americano', 'PROPN')]], [('doña Emilia Serrano de Wilson', 'PER'), [('doña', 'doña', 'NOUN'), ('Emilia', 'emilia', 'PROPN'), ('Serrano', 'Serrano', 'PROPN'), ('de', 'de', 'ADP'), ('Wilson', 'wilson', 'PROPN')]], [('Eco Hispano-Americano', 'ORG'), [('Eco', 'Eco', 'PROPN'), ('Hispano-Americano', 'Hispano-Americano', 'PROPN')]], [('doña Emilia Serrano de Wilson', 'PER'), [('doña', 'doña', 'NOUN'), ('Emilia', 'emilia', 'PROPN'), ('Serrano', 'Serrano', 'PROPN'), ('de', 'de', 'ADP'), ('Wilson', 'wilson', 'PROPN')]], [('Moda de Caballeros', 'MISC'), [('Moda', 'Moda', 'PROPN'), ('de', 'de', 'ADP'), ('Caballeros', 'Caballeros', 'PROPN')]], [('Segundo', 'PER'), [('Segundo', 'segundo', 'ADJ')]], [('Revista de París', 'ORG'), [('Revista', 'revista', 'NOUN'), ('de', 'de', 'ADP'), ('París', 'París', 'PROPN')]], [('Revista de París', 'ORG'), [('Revista', 'revista', 'NOUN'), ('de', 'de', 'ADP'), ('París', 'París', 'PROPN')]], [('Revista de París', 'ORG'), [('Revista', 'revista', 'NOUN'), ('de', 'de', 'ADP'), ('París', 'París', 'PROPN')]], [('Revista de París', 'ORG'), [('Revista', 'revista', 'NOUN'), ('de', 'de', 'ADP'), ('París', 'París', 'PROPN')]], [('Revista de París', 'ORG'), [('Revista', 'revista', 'NOUN'), ('de', 'de', 'ADP'), ('París', 'París', 'PROPN')]], [('Revista Parisense', 'ORG'), [('Revista', 'revista', 'PROPN'), ('Parisense', 'Parisense', 'PROPN')]], [('Revista Parisense', 'ORG'), [('Revista', 'revista', 'PROPN'), ('Parisense', 'Parisense', 'PROPN')]], [('Revista Parisense', 'ORG'), [('Revista', 'revista', 'PROPN'), ('Parisense', 'Parisense', 'PROPN')]], [('Revista Parisense', 'ORG'), [('Revista', 'revista', 'PROPN'), ('Parisense', 'Parisense', 'PROPN')]], [('Revista Parisense', 'ORG'), [('Revista', 'revista', 'PROPN'), ('Parisense', 'Parisense', 'PROPN')]], [('Revista Parisiense', 'ORG'), [('Revista', 'revista', 'PROPN'), ('Parisiense', 'parisiense', 'PROPN')]], [('Revista Parisiense', 'ORG'), [('Revista', 'revista', 'PROPN'), ('Parisiense', 'parisiense', 'PROPN')]], [('Revista Parisiense', 'ORG'), [('Revista', 'revista', 'PROPN'), ('Parisiense', 'parisiense', 'PROPN')]], [('Revista Parisiense', 'ORG'), [('Revista', 'revista', 'PROPN'), ('Parisiense', 'parisiense', 'PROPN')]], [('Revista de Madrid', 'ORG'), [('Revista', 'revista', 'PROPN'), ('de', 'de', 'ADP'), ('Madrid', 'Madrid', 'PROPN')]], [('Revista Parisiense', 'ORG'), [('Revista', 'revista', 'PROPN'), ('Parisiense', 'parisiense', 'PROPN')]], [('Revista de Madrid', 'ORG'), [('Revista', 'revista', 'PROPN'), ('de', 'de', 'ADP'), ('Madrid', 'Madrid', 'PROPN')]], [('Revista Parisiense', 'ORG'), [('Revista', 'revista', 'PROPN'), ('Parisiense', 'parisiense', 'PROPN')]], [('Revista de Madrid', 'ORG'), [('Revista', 'revista', 'PROPN'), ('de', 'de', 'ADP'), ('Madrid', 'Madrid', 'PROPN')]], [('Revista Parisiense', 'ORG'), [('Revista', 'revista', 'PROPN'), ('Parisiense', 'parisiense', 'PROPN')]], [('Revista de Madrid', 'ORG'), [('Revista', 'revista', 'PROPN'), ('de', 'de', 'ADP'), ('Madrid', 'Madrid', 'PROPN')]], [('Revista Parisiense', 'ORG'), [('Revista', 'revista', 'PROPN'), ('Parisiense', 'parisiense', 'PROPN')]], [('Revista de Madrid', 'ORG'), [('Revista', 'revista', 'PROPN'), ('de', 'de', 'ADP'), ('Madrid', 'Madrid', 'PROPN')]], [('Revista Parisiense', 'ORG'), [('Revista', 'revista', 'PROPN'), ('Parisiense', 'parisiense', 'PROPN')]], [('Revista de Madrid', 'ORG'), [('Revista', 'revista', 'PROPN'), ('de', 'de', 'ADP'), ('Madrid', 'Madrid', 'PROPN')]], [('Revista Parisiense', 'ORG'), [('Revista', 'revista', 'PROPN'), ('Parisiense', 'parisiense', 'PROPN')]], [('Revista de Madrid', 'ORG'), [('Revista', 'revista', 'PROPN'), ('de', 'de', 'ADP'), ('Madrid', 'Madrid', 'PROPN')]], [('Revista Parisiense', 'ORG'), [('Revista', 'revista', 'PROPN'), ('Parisiense', 'parisiense', 'PROPN')]], [('Revista de Madrid', 'ORG'), [('Revista', 'revista', 'PROPN'), ('de', 'de', 'ADP'), ('Madrid', 'Madrid', 'PROPN')]], [('Revista de Madrid', 'ORG'), [('Revista', 'revista', 'PROPN'), ('de', 'de', 'ADP'), ('Madrid', 'Madrid', 'PROPN')]], [('Revista de París', 'ORG'), [('Revista', 'revista', 'NOUN'), ('de', 'de', 'ADP'), ('París', 'París', 'PROPN')]], [('Teatros', 'ORG'), [('Teatros', 'Teatros', 'PROPN')]], [('Revista de Madrid', 'ORG'), [('Revista', 'revista', 'PROPN'), ('de', 'de', 'ADP'), ('Madrid', 'Madrid', 'PROPN')]], [('Revista de París', 'ORG'), [('Revista', 'revista', 'NOUN'), ('de', 'de', 'ADP'), ('París', 'París', 'PROPN')]], [('Revista de Madrid', 'ORG'), [('Revista', 'revista', 'PROPN'), ('de', 'de', 'ADP'), ('Madrid', 'Madrid', 'PROPN')]], [('Revista de Madrid', 'ORG'), [('Revista', 'revista', 'PROPN'), ('de', 'de', 'ADP'), ('Madrid', 'Madrid', 'PROPN')]], [('Revista de París', 'ORG'), [('Revista', 'revista', 'NOUN'), ('de', 'de', 'ADP'), ('París', 'París', 'PROPN')]], [('Revista de Madrid', 'ORG'), [('Revista', 'revista', 'PROPN'), ('de', 'de', 'ADP'), ('Madrid', 'Madrid', 'PROPN')]], [('Revista de París', 'ORG'), [('Revista', 'revista', 'NOUN'), ('de', 'de', 'ADP'), ('París', 'París', 'PROPN')]], [('Revista de Madrid', 'ORG'), [('Revista', 'revista', 'PROPN'), ('de', 'de', 'ADP'), ('Madrid', 'Madrid', 'PROPN')]], [('Revista de París', 'ORG'), [('Revista', 'revista', 'NOUN'), ('de', 'de', 'ADP'), ('París', 'París', 'PROPN')]], [('Revista de Madrid', 'ORG'), [('Revista', 'revista', 'PROPN'), ('de', 'de', 'ADP'), ('Madrid', 'Madrid', 'PROPN')]], [('Revista de París', 'ORG'), [('Revista', 'revista', 'NOUN'), ('de', 'de', 'ADP'), ('París', 'París', 'PROPN')]], [('Revista de Madrid', 'ORG'), [('Revista', 'revista', 'PROPN'), ('de', 'de', 'ADP'), ('Madrid', 'Madrid', 'PROPN')]], [('Revista de Madrid', 'ORG'), [('Revista', 'revista', 'PROPN'), ('de', 'de', 'ADP'), ('Madrid', 'Madrid', 'PROPN')]], [('Revista de París', 'ORG'), [('Revista', 'revista', 'NOUN'), ('de', 'de', 'ADP'), ('París', 'París', 'PROPN')]], [('Revista de Madrid', 'ORG'), [('Revista', 'revista', 'PROPN'), ('de', 'de', 'ADP'), ('Madrid', 'Madrid', 'PROPN')]], [('Revista de París', 'ORG'), [('Revista', 'revista', 'NOUN'), ('de', 'de', 'ADP'), ('París', 'París', 'PROPN')]]]\n"
     ]
    },
    {
     "ename": "FileNotFoundError",
     "evalue": "[Errno 2] No such file or directory: '/content/_MERGED_TITLE_NER.txt'",
     "output_type": "error",
     "traceback": [
      "\u001b[0;31m---------------------------------------------------------------------------\u001b[0m",
      "\u001b[0;31mFileNotFoundError\u001b[0m                         Traceback (most recent call last)",
      "Cell \u001b[0;32mIn[13], line 20\u001b[0m\n\u001b[1;32m     16\u001b[0m     processed_entities_ES\u001b[38;5;241m.\u001b[39mappend([tupla, tok])\n\u001b[1;32m     18\u001b[0m \u001b[38;5;28mprint\u001b[39m(processed_entities_ES)\n\u001b[0;32m---> 20\u001b[0m \u001b[38;5;28;01mwith\u001b[39;00m \u001b[38;5;28mopen\u001b[39m(\u001b[38;5;124m\"\u001b[39m\u001b[38;5;124m/content/_MERGED_TITLE_NER.txt\u001b[39m\u001b[38;5;124m\"\u001b[39m, \u001b[38;5;124m\"\u001b[39m\u001b[38;5;124mw\u001b[39m\u001b[38;5;124m\"\u001b[39m, encoding\u001b[38;5;241m=\u001b[39m\u001b[38;5;124m\"\u001b[39m\u001b[38;5;124mutf-8\u001b[39m\u001b[38;5;124m\"\u001b[39m) \u001b[38;5;28;01mas\u001b[39;00m f:\n\u001b[1;32m     21\u001b[0m   \u001b[38;5;28;01mfor\u001b[39;00m element \u001b[38;5;129;01min\u001b[39;00m processed_entities_ES:\n\u001b[1;32m     22\u001b[0m     f\u001b[38;5;241m.\u001b[39mwrite(\u001b[38;5;28mstr\u001b[39m(element) \u001b[38;5;241m+\u001b[39m \u001b[38;5;124m\"\u001b[39m\u001b[38;5;130;01m\\n\u001b[39;00m\u001b[38;5;124m\"\u001b[39m)\n",
      "File \u001b[0;32m~/anaconda3/lib/python3.12/site-packages/IPython/core/interactiveshell.py:324\u001b[0m, in \u001b[0;36m_modified_open\u001b[0;34m(file, *args, **kwargs)\u001b[0m\n\u001b[1;32m    317\u001b[0m \u001b[38;5;28;01mif\u001b[39;00m file \u001b[38;5;129;01min\u001b[39;00m {\u001b[38;5;241m0\u001b[39m, \u001b[38;5;241m1\u001b[39m, \u001b[38;5;241m2\u001b[39m}:\n\u001b[1;32m    318\u001b[0m     \u001b[38;5;28;01mraise\u001b[39;00m \u001b[38;5;167;01mValueError\u001b[39;00m(\n\u001b[1;32m    319\u001b[0m         \u001b[38;5;124mf\u001b[39m\u001b[38;5;124m\"\u001b[39m\u001b[38;5;124mIPython won\u001b[39m\u001b[38;5;124m'\u001b[39m\u001b[38;5;124mt let you open fd=\u001b[39m\u001b[38;5;132;01m{\u001b[39;00mfile\u001b[38;5;132;01m}\u001b[39;00m\u001b[38;5;124m by default \u001b[39m\u001b[38;5;124m\"\u001b[39m\n\u001b[1;32m    320\u001b[0m         \u001b[38;5;124m\"\u001b[39m\u001b[38;5;124mas it is likely to crash IPython. If you know what you are doing, \u001b[39m\u001b[38;5;124m\"\u001b[39m\n\u001b[1;32m    321\u001b[0m         \u001b[38;5;124m\"\u001b[39m\u001b[38;5;124myou can use builtins\u001b[39m\u001b[38;5;124m'\u001b[39m\u001b[38;5;124m open.\u001b[39m\u001b[38;5;124m\"\u001b[39m\n\u001b[1;32m    322\u001b[0m     )\n\u001b[0;32m--> 324\u001b[0m \u001b[38;5;28;01mreturn\u001b[39;00m io_open(file, \u001b[38;5;241m*\u001b[39margs, \u001b[38;5;241m*\u001b[39m\u001b[38;5;241m*\u001b[39mkwargs)\n",
      "\u001b[0;31mFileNotFoundError\u001b[0m: [Errno 2] No such file or directory: '/content/_MERGED_TITLE_NER.txt'"
     ]
    }
   ],
   "source": [
    "#//MERGING ENTITIES AND TOKENS FROM EACH LANG\n",
    "#//(LIST OF SUBLIST WHERE EACH SUBLIST IS A TITLE COMPOSED BY TUPLES WHERE EACH TUPLES IS A TOKEN WITH A LENGTH OF 4):\n",
    "\n",
    "#necessary to change also processing function due to depparse won't work with only NER\n",
    "#(lacking rest of title)\n",
    "\n",
    "def processing_2(text, nlp_model):\n",
    "  doc = nlp_model(text)\n",
    "  return [(word.text, word.lemma, word.upos) for sent in doc.sentences for word in sent.words]\n",
    "\n",
    "processed_entities_ES = []\n",
    "\n",
    "for lista in entities_ES:\n",
    "  for tupla in lista:\n",
    "    tok = processing_2(tupla[0], nlp_es)\n",
    "    processed_entities_ES.append([tupla, tok])\n",
    "\n",
    "print(processed_entities_ES)\n",
    "\n",
    "with open(\"/content/_MERGED_TITLE_NER.txt\", \"w\", encoding=\"utf-8\") as f:\n",
    "  for element in processed_entities_ES:\n",
    "    f.write(str(element) + \"\\n\")\n",
    "#we notice some differences with the way it processes lemmas and POS, without the rest of the title.\n",
    "#ask Nadège about this"
   ]
  },
  {
   "cell_type": "code",
   "execution_count": null,
   "metadata": {
    "id": "TtS9tMS4kD_V"
   },
   "outputs": [],
   "source": [
    "#last code escaping the lines of code that are without NER, as well as jumping line when more than one tuple(entity recognized)\n",
    "#to solve this:\n",
    "\n",
    "def processing_2(text, nlp_model):\n",
    "  doc = nlp_model(text)\n",
    "  return [(word.text, word.lemma, word.upos) for sent in doc.sentences for word in sent.words]\n",
    "\n",
    "processed_entities_ES = []\n",
    "\n",
    "for entity_list in entities_ES:\n",
    "  row_result = []\n",
    "  for entity in entity_list:\n",
    "    text = entity[0]\n",
    "    tok = processing_2(text, nlp_es)\n",
    "    row_result.append([entity, tok])\n",
    "\n",
    "  processed_entities_ES.append(row_result) #IMPORTANT TO NOT INDENT THIS LINE, OTHERWISE IT DOES NOT KEEP EMPTY ROWS(WITHOUT ENTITY)\n",
    "\n",
    "with open(\"/content/_MERGED_TITLE_NER.txt\", \"w\", encoding=\"utf-8\") as f:\n",
    "    for element in processed_entities_ES:\n",
    "        f.write(str(element) + \"\\n\")"
   ]
  },
  {
   "cell_type": "code",
   "execution_count": null,
   "metadata": {
    "colab": {
     "base_uri": "https://localhost:8080/"
    },
    "id": "SzO9Mtx5kD39",
    "outputId": "ee55013e-4265-48d2-c012-7f98b432f79a"
   },
   "outputs": [],
   "source": [
    "processed_entities_ES[:10]"
   ]
  },
  {
   "cell_type": "code",
   "execution_count": 14,
   "metadata": {
    "colab": {
     "base_uri": "https://localhost:8080/"
    },
    "id": "WmXKAIzHkDt-",
    "outputId": "557658f5-3fd8-4470-aeda-535c2db3c488"
   },
   "outputs": [
    {
     "name": "stdout",
     "output_type": "stream",
     "text": [
      "['Al Sr. D. R. P. Enviándole mis obras', 'La mujer piadosa (Fragmentos)', 'Desvarío', 'Soneto. ¡Gloria y pobreza! El inmortal Quintana...', 'Balada. La despedida de una hija', 'Un viaje a la Luna. Prólogo: La pesadilla de Mocquet', 'En el álbum de la señora M…', 'La primavera', 'La perejilera', 'Un viaje a la Luna. (Continuación)', 'Al señor Don B. M.', 'A orillas del Manzanares. La súplica', 'Un viaje a la Luna. (Continuación)', 'Fragmentos de la Rosa de Alejandra', 'Gente morena', 'Un viaje a la Luna. (Continuación)', 'Al excmo. Sr. D. Agustín Esteban Collantes, en el día de su santo', 'A la niña Margarita Aurora de Wilson y Serrano, el día de su cumpleaños', 'Costumbres del siglo XIX. I', 'Margarita. Novela bretona', 'Los escondidos y la tapada. Fragmentos', 'A mi apreciable amiga la Señora doña M. Del Pilar Sinués de Marco en su álbum', 'Costumbres del siglo XIX.II', 'Margarita. Novela bretona. (Continuación)', 'A la niña Margarita Aurora de Wilson y Serrano', 'A María', 'A su Alteza Real el Príncipe de Asturias', 'Margarita. Novela bretona. (Conclusión)', 'El otoño', 'Soneto. Aún eco tienen en el alma mía...', 'Atentado contra SS. MM. II.', 'El matrimonio de la Princesa real de Inglaterra Hace algunos años que un banquero muy rico Varios periódicos franceses y del extranjero', 'A la Poesía. Oda', 'A mi buen amigo el distinguido escritor don Alejandro Dumas en prueba de sincera amistad', 'A la luna. Soneto', 'Las apariencias engañan. Historia cuento', 'El viaje de SS. AA. El sábado a la una El príncipe Mirza Ally Kan Bahadoor Habláse mucho en los círculos aristocrático de un matrimonio', 'El invierno', 'La hada azul', 'El lunes 5 del corriente se ha inaugurado Vamos a contar una historia ocurrida en estos días de Pascua Cuando Ismail, generalísimo del ejército otomano', 'El navío Leviatán', 'Ayes del corazón', 'Carta de M. de Lamartine', 'Introducción', 'Isabel II', 'Hamlet', 'Lo que cada lector pide La trata de blancas De la decadencia de las costumbres La Malibran recibía en Londres El gobierno del Brasil', 'Consignamos la acarta original qu enos ha dirigido M. de Lamartine', 'Porvenir de la raza latina y de la Francia en el Nuevo Mundo. Introducción', 'Confederación Argentina y república del Uruguay Le Paraguay', 'S. M. La emperatriz de los franceses', 'Cursos familiares de literatura. La pintura', 'El perro de Zurbarán', 'Serenatas. Introducción. (Fragmentos)', 'Lo que viene a ser un periodista inglés Ha sucedido en los alrededores de Filadelfia Máximas', 'Recuerdo. Un baile en el hotel de Ville, en 1859', 'Abertura del Paraguay y de los ríos', 'La Escma. Sra. Dª Gertrudis Gómez de Avellaneda', 'El 20 de marzo', 'Cursos familiares de literatura. Leopoldo Robert', 'Leyenda pastoral', 'La dalia', \"Leemos en el Monitor Según el 'Anuario diplomático de 1859' Hace algunas semanas que los diarios del Alto y del Bajo Rin He aquí la siguiente anécdota Un curioso ha dicho El matrimonio del hijo mayor Savonnette a vilain\", 'Carta de Ramón de la Sagra', 'Artículo I. Los Estados Unidos y el Paraguay', 'Costumbres andaluzas. Los dos marineros', 'Viaje por un vestido de boda', 'SS. AA. II el príncipe y la princesa Napoleón', 'El miércoles de ceniza', 'Cursos familiares de literatura. Leopoldo Robert. (Conclusión)', 'Pues que en nuestros días se hacen tantos adelantos en la fotografía Acaba de llegar de San Petesburgo El Entreacto publica un acarta fechada en Génova', 'Memorándum especial por la guerra de Italia', 'Introducción', 'Pbro. D. Félix Varela', 'Las flores de mayo', 'A la catedral de Bron', 'Viaje al rededpr de un vestido de boda. (Conclusiones)', 'Artículo II. Los Estados Unidos y el Paraguay', 'Una de tantas', 'Para que se vea cómo los principales intereses y amortización de la Deuda pública', 'Carta de M. Alejandro Dumas', 'Carta del Sr. Guillemot', 'Napoleón III', 'Víctor Manuel II', 'El oso', 'Poesía. A mi amigo Mariano G. Manrique', 'Perfil inglés', 'La ostra', 'Poesía. A Napoleón III', 'A una tumba en el cementerio de Montmartre. (Fragmento)', 'Consideraciones sobre los vestidos', 'Gran batalla de Solferino', 'Memorándum especial por la guerra de Italia', 'Batalla de Solferino. El emperador a la emperatriz', 'Ejército de Italia. Proclama', 'La entrevista de Villafranca. Nuevos detalles', 'El mariscal Vaillant, mayor general del ejército de Italia', 'Poesía. Costumbres andaluzas. Un baile de candil', 'A S. M. el emperador Napoleón III (Fragmentos)', 'Mi fotografía', 'El festín de Baltasar. Estudio bíblico', 'Quién es el...', 'La primera quincena del mes de agosto [… ]', 'El general Garibaldi', 'En sus días', 'A la Señora Doña Emilia Serrano de Wilson en débil muestra de aprecio', 'Offland', 'La señorita doña María Verdejo y Durán', 'Una cifra en un ciprés', 'María Leczinska', 'Composición de la ópera Otello por Rossini', 'El robo del niño de la señora Hua', 'La señora doña Carolina Coronado', 'La granadina. Marcha guerrera', 'El genio', 'María Leczinska', 'El coro de los ángeles', 'El kaleidescopio', 'El duelo de las mujeres', 'Los secretos de la hermosura', 'A la niña Adelaida. En su día', 'Esther', 'Origen de algunos instrumentos. La guitarra', 'Tetuán', 'El duelo de las mujeres. (Continuación.)', 'Secretos de la hermosura. (Continuación)', 'L a vuelta de la golondrina. (Fragmentos)', 'El duelo de las mujeres. (Continuación.)', 'Secretos de la hermosura. (Continuación)', 'El sauce', 'Balada', 'El duelo de las mujeres. (Continuación.)', 'La hermana de Velázquez', 'La cuaresma del amor', 'Lo mejor de una niña', 'El duelo de las mujeres. (Continuación.)', 'El museo viviente: colección de cuadros sociales. Cuadro primero: doña Eulogia', 'La hermana de Velázquez', 'La oliva. A la paz entre España y Marruecos', 'Descripción del teatro de D. José Piquer', 'El duelo de las mujeres. (Continuación.)', 'La hermana de Velázquez', 'El ángel de la inclusa', 'Los espejos mágicos. Cuento fantástico', 'Cartas de Cuba. Cojimar', 'Días pasados se hallaba en el bosque La ópera de Verdi El marqués de Casa Riera No podemos resistir el deseo de copiar', 'La cama de matrimonio. Balada', 'Las dos tumbas. Dolora', 'A Colón', 'Una madre', 'Un baile de manga larga', 'La heredad bendecida', 'Esto y aquello', 'Macahé', 'A Emilia. En su álbum', 'La ascensión del Señor', 'Una madre', 'Cartas de Cuba. El conuco del indio', 'Amor y fe', 'Las dos rosas', 'Griseldina', 'A mi sobrina Araceli Abril de Armendi', 'El mensage', 'Griseldina', 'Cartas de Cuba. El conuco del indio', 'Una caricia puede curar un defecto', 'Sin princpio ni fin.', 'La felicidad', 'En el álbum de una niña', 'El arte. Oda', 'A una dama muy galanteada. En su álbum', 'Sin princpio ni fin. Novela de costumbres contemporáneas', 'La felicidad', 'Periquito el Veleidoso', 'Cartas de Cuba (III). El conuco del indio', 'A Santo Domingo', 'El toque de la oración', 'Soledad', 'Sin princpio ni fin. Novela de costumbres contemporáneas', 'Los bailes campestres en Santander', 'Periquito el Veleidoso (Conclusion)', 'Duelos de amor', 'Allende los mares mora', 'A la señora doña Emila Serrano de Wilson en su álbum', 'En el álbum de la señorita J. R.', 'Carta', 'Cada cual en su lugar', 'Duelos de amor (Conclusión.)', 'Rolandseck. Tradición', 'Secretos del tocador', 'La madre de la marquesa', 'Poesía', 'Ilusión. A el...', 'La violeta. Soneto', 'La verdad del sentimiento', 'De la poesía. Su oportunidad y su objeto', 'Cada cual en su lugar (Conclusión.)', 'Viaje de SS. MM.', 'Mariquita', 'Entre las aventuras numerosas Cuando el general Bonaparte Es notable lo siguiente', 'La madre de la marquesa (Continuación)', 'El sargento Pérez. Episodio de dominación francesa en Santo Domingo', 'Sin princpio ni fin. Novela de costumbres contemporáneas', 'Los pájaros', 'Una flor', 'La moneda de oro', 'Matrimonios por anuncios Los baños de Biarritz Hace pocos días', 'La madre de la marquesa (Continuación)', 'A Sevilla', 'Soneto. Un año más', 'Carta I. Monserrat', 'La moneda de oro', 'Un paseo por el lago negro', 'La feria de Ucles', 'La madre de la marquesa (Continuación)', 'Fábula. El cabello suelto', 'Carta II. Valencia', 'La feria de Ucles', 'De la poesía. Su oportunidad y su objeto', 'La moneda de oro', 'Una duquesa octogenaria La señora de J El señor X Una aldeana enriquecida', 'La escalera', 'Carta III. Barcelona', 'La moneda de oro (Conclusión)', 'El Brasil', 'El alma de dudas', 'El istmo de Panamá', 'Una peregrinación a Saint Point', 'Sin destinos no hay amigos. Proverbio en tres cuadros', 'El sombrero del emperador de Austria', 'El amor', 'Feria en Sevilla', 'El lentigo. De su tratamiento', 'En la primera página de un álbum', 'El mundo para unos. Soneto', 'El mundo para otros. Soneto', 'Última hora', 'Francisco José. Emperador del Austria', 'Constituido ya oficialmente el nuevo Ministerio Inglés', 'Parte oficial publicado por el Monitor de París sobre la atalla de Solferino', 'Censo aproximativo En un periódico se lee lo siguiente Invento Histórico', 'Al señor de N. y la señora ***', 'El fauno de Goysevox', 'El prólogo. Episodio', 'El collar', 'El cabello rubio', 'La esposa del sol', 'Inauguración del teatro de D. José Piquer Oda Alzad vuestras tumbas', 'Estudios sobre los primeros tiempos de la Rusia', 'Estudios sobre los primeros tiempos de la Rusia. (Conclusión.)', 'A Safo', 'Abnegación', 'Sombreros de Alexandrine', \"Sombreros d'Alexandrine\", 'Sombreros De Alexandrine', 'Sombreros De Alexandrine', \"Sombreros d'Alexandrine\", \"Sombreros d'Alexandrine\", \"Sombreros d'Alexandrine\", 'En la perfumería de Planchais', 'Recomendamos a nuestros lectores los pianos', 'Casa de comisión para París', 'Las enfermedades del pecho', 'Prevenimos a nuestros lectores', \"Sombreros d'Alexandrine y Corsets Plastiques Mme. Bonvallet\", 'Se alquila una lindísima habitación', 'Casas recomendadas y artículos en voga', \"Corsets plastiques de Bonvallet, Guantes, abanicos y parfumes de Faguer Labollée, Joyas de cabellos Lemnnier, Porcelaines et Cristaux Maison de l'Escalier de Cristal\", 'Casas recomendadas', \"Cintas y pasamanerías de la fábrica Sorré Dehsle, Corsets plastiques de Bonvallet, Guantes, abanicos y parfumes de Faguer Labollée, Joyas de cabellos Lemnnier, Porcelaines et Cristaux Maison de l'Escalier de Cristal\", 'Lait antephelique. Pecas y manchas de la cara', 'Camisas Claudio, Hermanos', 'Tintura inglesa instantánea', 'Casa particular de Huéspedes', 'Casa Delacroix', 'Jules Bloch, dentista', 'La Gaceta de Bellas Artes', 'Pecas y manchas de la cara', 'Casas recomendadas', 'Porta monedas Despierres', 'Tarifs des insertions', \"Cintas y pasamanerías de la fábrica Sorré Dehsle, Corsets plastiques de Bonvallet, Guantes, abanicos y parfumes de Faguer Labollée, Joyas de cabellos Lemnnier, Porcelaines et Cristaux Maison de l'Escalier de Cristal\", 'Camisas Claudio, Hermanos', 'Nueva Geografía Sangansan', 'Casa particular de Huéspedes', 'Casa Delacroix', 'Jules Bloch, dentista', 'Platería Cristofle', 'Casas recomendadas', 'Tarifs des insertions', \"Cintas y pasamanerías de la fábrica Sorré Dehsle, Corsets plastiques de Bonvallet, Guantes, abanicos y parfumes de Faguer Labollée, Joyas de cabellos Lemnnier, Porcelaines et Cristaux Maison de l'Escalier de Cristal\", 'Camisas Claudio, Hermanos', 'Nueva Geografía Sangansan', 'Casa particular de Huéspedes', 'Casa Delacroix', 'Jules Bloch, dentista', 'Platería Cristofle', 'Casas recomendadas', 'Tarifs des insertions', 'Camisas Claudio, Hermanos', 'Nueva Geografía Sangansan', 'Casa particular de Huéspedes', 'Casa Delacroix', 'Jules Bloch, dentista', 'Platería Cristofle', 'Casas recomendadas', 'Tarifs des insertions', 'Camisas Claudio, Hermanos', 'Nueva Geografía Sangansan', 'Casa particular de Huéspedes', 'Casa Delacroix', 'Jules Bloch, dentista', 'Platería Cristofle', 'Casas recomendadas', 'Platería Cristofle', 'Camisas Claudio, Hermanos', 'Nueva Geografía Sangansan', 'Casa particular de Huéspedes', 'Casa Delacroix', 'Jules Bloch, dentista', 'Casas recomendadas', \"Cintas y pasamanerías de la fábrica Sorré Dehsle, Corsets plastiques de Bonvallet, Guantes, abanicos y parfumes de Faguer Labollée, Joyas de cabellos Lemnnier, Porcelaines et Cristaux Maison de l'Escalier de Cristal\", 'Camisas Claudio, Hermanos', 'Nueva Geografía Sangansan', 'Casa particular de Huéspedes', 'Casa Delacroix', 'Jules Bloch, dentista', 'Platería Cristofle', 'Camisas Claudio, Hermanos', 'Nueva Geografía Sangansan', 'Casa particular de Huéspedes', 'Casa Delacroix', 'Jules Bloch, dentista', 'Platería Cristofle', 'Casas recomendadas', \"Cintas y pasamanerías de la fábrica Sorré Dehsle, Corsets plastiques de Bonvallet, Guantes, abanicos y parfumes de Faguer Labollée, Joyas de cabellos Lemnnier, Porcelaines et Cristaux Maison de l'Escalier de Cristal\", 'Camisas Claudio, Hermanos', 'Nueva Geografía Sangansan', 'Casa particular de Huéspedes', 'Casa Delacroix', 'Jules Bloch, dentista', 'Platería Cristofle', \"Cintas y pasamanerías de la fábrica Sorré Dehsle, Corsets plastiques de Bonvallet, Guantes, abanicos y parfumes de Faguer Labollée, Joyas de cabellos Lemnnier, Porcelaines et Cristaux Maison de l'Escalier de Cristal\", 'Platería Cristofle', 'Obras de la señora doña Emilia Serrano de Wilson', 'Platería Cristofle', 'Obras de la señora doña Emilia Serrano de Wilson', 'Platería Cristofle', 'Obras de la señora doña Emilia Serrano de Wilson', 'Modes de Paris. Petit Courrier des Dames', 'El Eco Hispano Americano', 'Obras de la señora doña Emilia Serrano de Wilson', 'El Eco Hispano Americano', 'Anuncio', 'Obras de la señora doña Emilia Serrano de Wilson', 'Explicación de la lámina de tapicería', 'Explicación de la lámina de tapicería', 'Explicación del figurín', 'Moda de Caballeros', 'Explicación del figurín 1º', 'Explicación del figurín 2º', 'Descripción del figurín: primer y segundo traje', 'Descripción del figurín: traje de la novia y de la madre', 'Explicación del figurín', 'Descripción del figurín de baile', 'Figurín de visita', 'Explicación del figurín', 'Explicación del figurín', 'Explicación del figurín', 'Explicación del figurín', 'Explicación del figurín', 'Explicación del figurín', 'Explicación de los figurines. Primero', 'Explicación de los figurines. Segundo', 'Revista de la moda', 'Revista de París', 'Revista de la moda', 'Revista de París', 'Revista de la moda', 'Revista de París', 'Revista de la moda', 'Revista de París', 'Revista de la moda', 'Revista de París', 'Revista de la moda', 'Revista de modas, salones y teatros', 'Revista de modas, salones y teatros', 'Revista de modas, salones y teatros', 'Revista de modas, salones y teatros', 'Revista de modas, salones y teatros', 'Revista histórica del mes', 'Revista Parisense', 'Revista de modas', 'Revista histórica del mes', 'Revista Parisense', 'Revista de modas', 'Revista histórica del mes', 'Revista Parisense', 'Revista de modas', 'Revista Parisense', 'Revista de modas', 'Revista Parisense', 'Revista de modas', 'Revista Parisiense', 'Revista de modas', 'Revista Parisiense', 'Revista histórico política', 'Revista de modas', 'Revista Parisiense', 'Revista histórico política', 'Revista de modas', 'Revista Parisiense', 'Revista histórico política', 'Revista de teatros', 'Revista de modas', 'Revista de Madrid', 'Revista de teatros', 'Revista de modas', 'Revista Parisiense', 'Revista de Madrid', 'Revista de teatros', 'Revista de modas', 'Revista Parisiense', 'Revista de Madrid', 'Crónica parisiense', 'Revista de teatros', 'Revista de modas', 'Revista Parisiense', 'Revista de Madrid', 'Revista de teatros', 'Revista de modas', 'Revista Parisiense', 'Revista de Madrid', 'Revista de modas', 'Revista Parisiense', 'Revista de Madrid', 'Revista de modas', 'Revista Parisiense', 'Revista de Madrid', 'Revista Parisiense', 'Revista de Madrid', 'Revista de modas', 'Revista de Madrid', 'Revista de París', 'Teatros', 'Revista de modas', 'Revista de Madrid', 'Revista de París', 'Revista de modas', 'Revista de Madrid', 'Revista de modas', 'Revista de Madrid', 'Revista de París', 'Revista de modas', 'Revista de Madrid', 'Revista de París', 'Revista de modas', 'Revista de Madrid', 'Revista de París', 'Revista de modas', 'Revista de Madrid', 'Revista de París', 'Revista de modas', 'Revista de modas', 'Revista de modas', 'Revista de Madrid', 'Revista de modas', 'Revista de Madrid', 'Revista de París', 'Revista de modas', 'Revista de Madrid', 'Revista de París', 'Revista de modas', 'Revista histórica del mes', 'Revista histórica del mes', 'Crónica parisiense', 'Revista histórica del mes', 'Revista histórica del mes', 'Crónica parisiense', 'Revista histórica del mes', 'Revista histórica del mes', 'Revista histórica del mes', 'Revista histórica del mes', 'Crónica parisiense', 'Revista histórica del mes', 'Revista histórica del mes', 'Revista histórica del mes', 'Revista histórica del mes', 'Crónica parisiense', 'Revista histórica del mes', 'Revista histórica del mes', 'Crónica parisiense', 'Revista histórica del mes', 'Crónica parisiense', 'Crónica parisiense', 'Crónica parisiense', 'Crónica parisiense']\n"
     ]
    }
   ],
   "source": [
    "# necessary to make some cleaning before NER, specific symbols that are\n",
    "# problematic %%\n",
    "import re\n",
    "def clean_text(text):\n",
    "  cleaned_text = re.sub(r'\\s*\"\\s*|\\s*-\\s*|\\s*\\[\\.\\.\\.\\]\\s*', ' ', text)\n",
    "  cleaned_text = re.sub(r'\\s+', ' ', cleaned_text).strip()\n",
    "  return cleaned_text\n",
    "\n",
    "with open(path, \"r\", encoding=\"utf-8\") as f:\n",
    "  rows = f.readlines()\n",
    "  cleaned_rows = [clean_text(row) for row in rows]\n",
    "\n",
    "print(cleaned_rows)\n",
    "#Talk to Nadège: why do we keep other \"redundant\" things\n",
    "#such as (Fragmentos), (Continuación) or (Conclusión) %%\n",
    "#might be nteresting to categorize and create categories with them (maybe as genres?)%%\n"
   ]
  },
  {
   "cell_type": "code",
   "execution_count": 15,
   "metadata": {
    "id": "uDVA51KlecvB"
   },
   "outputs": [
    {
     "ename": "FileNotFoundError",
     "evalue": "[Errno 2] No such file or directory: '/content/CLEAN_ALL_TITLES.txt'",
     "output_type": "error",
     "traceback": [
      "\u001b[0;31m---------------------------------------------------------------------------\u001b[0m",
      "\u001b[0;31mFileNotFoundError\u001b[0m                         Traceback (most recent call last)",
      "Cell \u001b[0;32mIn[15], line 1\u001b[0m\n\u001b[0;32m----> 1\u001b[0m \u001b[38;5;28;01mwith\u001b[39;00m \u001b[38;5;28mopen\u001b[39m(\u001b[38;5;124m\"\u001b[39m\u001b[38;5;124m/content/CLEAN_ALL_TITLES.txt\u001b[39m\u001b[38;5;124m\"\u001b[39m, \u001b[38;5;124m\"\u001b[39m\u001b[38;5;124mw\u001b[39m\u001b[38;5;124m\"\u001b[39m, encoding\u001b[38;5;241m=\u001b[39m\u001b[38;5;124m\"\u001b[39m\u001b[38;5;124mutf-8\u001b[39m\u001b[38;5;124m\"\u001b[39m) \u001b[38;5;28;01mas\u001b[39;00m f:\n\u001b[1;32m      2\u001b[0m     \u001b[38;5;28;01mfor\u001b[39;00m element \u001b[38;5;129;01min\u001b[39;00m cleaned_rows:\n\u001b[1;32m      3\u001b[0m         f\u001b[38;5;241m.\u001b[39mwrite(\u001b[38;5;28mstr\u001b[39m(element) \u001b[38;5;241m+\u001b[39m \u001b[38;5;124m\"\u001b[39m\u001b[38;5;130;01m\\n\u001b[39;00m\u001b[38;5;124m\"\u001b[39m)\n",
      "File \u001b[0;32m~/anaconda3/lib/python3.12/site-packages/IPython/core/interactiveshell.py:324\u001b[0m, in \u001b[0;36m_modified_open\u001b[0;34m(file, *args, **kwargs)\u001b[0m\n\u001b[1;32m    317\u001b[0m \u001b[38;5;28;01mif\u001b[39;00m file \u001b[38;5;129;01min\u001b[39;00m {\u001b[38;5;241m0\u001b[39m, \u001b[38;5;241m1\u001b[39m, \u001b[38;5;241m2\u001b[39m}:\n\u001b[1;32m    318\u001b[0m     \u001b[38;5;28;01mraise\u001b[39;00m \u001b[38;5;167;01mValueError\u001b[39;00m(\n\u001b[1;32m    319\u001b[0m         \u001b[38;5;124mf\u001b[39m\u001b[38;5;124m\"\u001b[39m\u001b[38;5;124mIPython won\u001b[39m\u001b[38;5;124m'\u001b[39m\u001b[38;5;124mt let you open fd=\u001b[39m\u001b[38;5;132;01m{\u001b[39;00mfile\u001b[38;5;132;01m}\u001b[39;00m\u001b[38;5;124m by default \u001b[39m\u001b[38;5;124m\"\u001b[39m\n\u001b[1;32m    320\u001b[0m         \u001b[38;5;124m\"\u001b[39m\u001b[38;5;124mas it is likely to crash IPython. If you know what you are doing, \u001b[39m\u001b[38;5;124m\"\u001b[39m\n\u001b[1;32m    321\u001b[0m         \u001b[38;5;124m\"\u001b[39m\u001b[38;5;124myou can use builtins\u001b[39m\u001b[38;5;124m'\u001b[39m\u001b[38;5;124m open.\u001b[39m\u001b[38;5;124m\"\u001b[39m\n\u001b[1;32m    322\u001b[0m     )\n\u001b[0;32m--> 324\u001b[0m \u001b[38;5;28;01mreturn\u001b[39;00m io_open(file, \u001b[38;5;241m*\u001b[39margs, \u001b[38;5;241m*\u001b[39m\u001b[38;5;241m*\u001b[39mkwargs)\n",
      "\u001b[0;31mFileNotFoundError\u001b[0m: [Errno 2] No such file or directory: '/content/CLEAN_ALL_TITLES.txt'"
     ]
    }
   ],
   "source": [
    "with open(\"/content/CLEAN_ALL_TITLES.txt\", \"w\", encoding=\"utf-8\") as f:\n",
    "    for element in cleaned_rows:\n",
    "        f.write(str(element) + \"\\n\")"
   ]
  },
  {
   "cell_type": "code",
   "execution_count": null,
   "metadata": {
    "colab": {
     "base_uri": "https://localhost:8080/",
     "height": 490,
     "referenced_widgets": [
      "6ddc1b0c53b64d8099e444a79a70b68a",
      "15f01887b6824a569638e42b52b354e6",
      "9e4df7c3ba594490833ff81a0a6da26b",
      "a887e95d24574a4bb2788bbb18933437",
      "7286ab4d04234cbc80734dbac9a45828",
      "e73598d484964c00adb21dd296dd9603",
      "ac55a39bbe384410af759c3c07287c69",
      "bea928edc0cb4420a417605394f446e0",
      "37b03990ccf241b0a75664935703b8f9",
      "e1917c5dd2e2437c9ba4a18ba03b2c8e",
      "ecd5206b850b43fb82b5561724959149"
     ]
    },
    "id": "Fcgrsp7XecsR",
    "outputId": "9b451812-d16b-4769-e1bc-46f45c9abc63"
   },
   "outputs": [],
   "source": [
    "#let's iterate through same NER function but now on this cleaned corpus %%\n",
    "def ner1(text, nlp_model):\n",
    "  doc = nlp_model(text)\n",
    "  return [(ent.text, ent.type) for ent in doc.entities]\n",
    "\n",
    "nlp_es = stanza.Pipeline(lang=\"es\", processors=\"tokenize,mwt,pos,lemma,ner\") #IMPORTANTE: EL ORDEN, esto es, lo que antecede afecta a lo siguiente, mientras que lo que precede no)\n",
    "\n",
    "cleaned_entities_ES = []\n",
    "\n",
    "for title in cleaned_rows:\n",
    "  entities_title = ner1(title, nlp_es)\n",
    "  cleaned_entities_ES.append(entities_title)\n",
    "\n",
    "print(cleaned_entities_ES)\n",
    "\n",
    "with open(\"/content/CLEANED_ENTITIES_ES.txt\", \"w\", encoding=\"utf-8\") as f:\n",
    "    for element in cleaned_entities_ES:\n",
    "        f.write(str(element) + \"\\n\")"
   ]
  },
  {
   "cell_type": "code",
   "execution_count": null,
   "metadata": {
    "colab": {
     "base_uri": "https://localhost:8080/"
    },
    "id": "uIAMf5kjecpX",
    "outputId": "7fc41a75-42ff-441d-cc2f-90b41370fea7"
   },
   "outputs": [],
   "source": [
    "#as before, we process NER (tok, lemma, mkw, pos) (NOT depparse)\n",
    "def processing_2(text, nlp_model):\n",
    "  doc = nlp_model(text)\n",
    "  return [(word.text, word.lemma, word.upos) for sent in doc.sentences for word in sent.words]\n",
    "\n",
    "clean_processed_entities_ES = []\n",
    "\n",
    "for entity_list in cleaned_entities_ES:\n",
    "  row_result = []\n",
    "  for entity in entity_list:\n",
    "    text = entity[0]\n",
    "    tok = processing_2(text, nlp_es)\n",
    "    row_result.append([entity, tok])\n",
    "\n",
    "  clean_processed_entities_ES.append(row_result) #IMPORTANT TO NOT INDENT THIS LINE, OTHERWISE IT DOES NOT KEEP EMPTY ROWS(WITHOUT ENTITY)\n",
    "\n",
    "with open(\"/content/CLEAN_MERGED_TITLE_NER.txt\", \"w\", encoding=\"utf-8\") as f:\n",
    "    for element in clean_processed_entities_ES:\n",
    "        f.write(str(element) + \"\\n\")\n",
    "\n",
    "clean_processed_entities_ES[:10]"
   ]
  },
  {
   "cell_type": "code",
   "execution_count": null,
   "metadata": {
    "colab": {
     "base_uri": "https://localhost:8080/",
     "height": 176
    },
    "id": "guS9e8i8ecnQ",
    "outputId": "1e56e2fd-401d-4962-a52c-9d45c1ed50c7"
   },
   "outputs": [],
   "source": [
    "#it gets into loop trying to modify the list itself. point to start tomorrow.\n",
    "\n",
    "new_titulos = []\n",
    "\n",
    "cleaned_rows_copy = cleaned_rows.copy() #solution to avoid infinite loop, create a new list outside\n",
    "                                        #as we did in last setps %%\n",
    "\n",
    "clean_tit = \"/content/CLEAN_ALL_TITLES.txt\"\n",
    "for titulo in clean_processed_entities_ES:\n",
    "  for componentes in titulo:\n",
    "    for elementos in componentes:\n",
    "      for i, row in enumerate(cleaned_rows):\n",
    "        if elementos[0][0] in row:\n",
    "          cleaned_rows[i] = row.replace(elementos[0][0], str(elementos))\n"
   ]
  },
  {
   "cell_type": "code",
   "execution_count": null,
   "metadata": {
    "id": "L1o_TNWUecjy"
   },
   "outputs": [],
   "source": []
  },
  {
   "cell_type": "code",
   "execution_count": null,
   "metadata": {
    "id": "iCmDidSvecg9"
   },
   "outputs": [],
   "source": []
  },
  {
   "cell_type": "code",
   "execution_count": null,
   "metadata": {
    "id": "ycXgYvM4ecdy"
   },
   "outputs": [],
   "source": []
  },
  {
   "cell_type": "code",
   "execution_count": null,
   "metadata": {
    "id": "WK-oy6UIecZ0"
   },
   "outputs": [],
   "source": []
  },
  {
   "cell_type": "code",
   "execution_count": null,
   "metadata": {
    "id": "mBkW1PrJecQy"
   },
   "outputs": [],
   "source": []
  },
  {
   "cell_type": "code",
   "execution_count": null,
   "metadata": {
    "id": "3OYqR4YzSW0K"
   },
   "outputs": [],
   "source": [
    "#clean_data_es = [word_tuple for word_tuple in processed_titles_es if word_tuple[2] not in ('PUNCT')]\n",
    "#clean_data_es\n",
    "\n",
    "#clean_data_fr = [word_tuple for word_tuple in processed_titles_fr if word_tuple[2] not in ('PUNCT')]\n",
    "#clean_data_fr"
   ]
  }
 ],
 "metadata": {
  "accelerator": "GPU",
  "colab": {
   "gpuType": "T4",
   "provenance": []
  },
  "kernelspec": {
   "display_name": "Python 3 (ipykernel)",
   "language": "python",
   "name": "python3"
  },
  "language_info": {
   "codemirror_mode": {
    "name": "ipython",
    "version": 3
   },
   "file_extension": ".py",
   "mimetype": "text/x-python",
   "name": "python",
   "nbconvert_exporter": "python",
   "pygments_lexer": "ipython3",
   "version": "3.12.4"
  },
  "widgets": {
   "application/vnd.jupyter.widget-state+json": {
    "01f24dd4e2734273b33a2031099d37d2": {
     "model_module": "@jupyter-widgets/base",
     "model_module_version": "1.2.0",
     "model_name": "LayoutModel",
     "state": {
      "_model_module": "@jupyter-widgets/base",
      "_model_module_version": "1.2.0",
      "_model_name": "LayoutModel",
      "_view_count": null,
      "_view_module": "@jupyter-widgets/base",
      "_view_module_version": "1.2.0",
      "_view_name": "LayoutView",
      "align_content": null,
      "align_items": null,
      "align_self": null,
      "border": null,
      "bottom": null,
      "display": null,
      "flex": null,
      "flex_flow": null,
      "grid_area": null,
      "grid_auto_columns": null,
      "grid_auto_flow": null,
      "grid_auto_rows": null,
      "grid_column": null,
      "grid_gap": null,
      "grid_row": null,
      "grid_template_areas": null,
      "grid_template_columns": null,
      "grid_template_rows": null,
      "height": null,
      "justify_content": null,
      "justify_items": null,
      "left": null,
      "margin": null,
      "max_height": null,
      "max_width": null,
      "min_height": null,
      "min_width": null,
      "object_fit": null,
      "object_position": null,
      "order": null,
      "overflow": null,
      "overflow_x": null,
      "overflow_y": null,
      "padding": null,
      "right": null,
      "top": null,
      "visibility": null,
      "width": null
     }
    },
    "038e6bda481e413c95c42afe12f6c78b": {
     "model_module": "@jupyter-widgets/controls",
     "model_module_version": "1.5.0",
     "model_name": "HBoxModel",
     "state": {
      "_dom_classes": [],
      "_model_module": "@jupyter-widgets/controls",
      "_model_module_version": "1.5.0",
      "_model_name": "HBoxModel",
      "_view_count": null,
      "_view_module": "@jupyter-widgets/controls",
      "_view_module_version": "1.5.0",
      "_view_name": "HBoxView",
      "box_style": "",
      "children": [
       "IPY_MODEL_c04567d8306a43dfa6a6016d1859a05d",
       "IPY_MODEL_63254401b3c4427f863bdc18278301f1",
       "IPY_MODEL_f1d59f9ba13f433680129bf6641296a2"
      ],
      "layout": "IPY_MODEL_2ddb771325af47a9bb68e5276f9d56ce"
     }
    },
    "15f01887b6824a569638e42b52b354e6": {
     "model_module": "@jupyter-widgets/controls",
     "model_module_version": "1.5.0",
     "model_name": "HTMLModel",
     "state": {
      "_dom_classes": [],
      "_model_module": "@jupyter-widgets/controls",
      "_model_module_version": "1.5.0",
      "_model_name": "HTMLModel",
      "_view_count": null,
      "_view_module": "@jupyter-widgets/controls",
      "_view_module_version": "1.5.0",
      "_view_name": "HTMLView",
      "description": "",
      "description_tooltip": null,
      "layout": "IPY_MODEL_e73598d484964c00adb21dd296dd9603",
      "placeholder": "​",
      "style": "IPY_MODEL_ac55a39bbe384410af759c3c07287c69",
      "value": "Downloading https://raw.githubusercontent.com/stanfordnlp/stanza-resources/main/resources_1.10.0.json: "
     }
    },
    "17284fe9e15341fda97e70a3779421ac": {
     "model_module": "@jupyter-widgets/controls",
     "model_module_version": "1.5.0",
     "model_name": "DescriptionStyleModel",
     "state": {
      "_model_module": "@jupyter-widgets/controls",
      "_model_module_version": "1.5.0",
      "_model_name": "DescriptionStyleModel",
      "_view_count": null,
      "_view_module": "@jupyter-widgets/base",
      "_view_module_version": "1.2.0",
      "_view_name": "StyleView",
      "description_width": ""
     }
    },
    "2ddb771325af47a9bb68e5276f9d56ce": {
     "model_module": "@jupyter-widgets/base",
     "model_module_version": "1.2.0",
     "model_name": "LayoutModel",
     "state": {
      "_model_module": "@jupyter-widgets/base",
      "_model_module_version": "1.2.0",
      "_model_name": "LayoutModel",
      "_view_count": null,
      "_view_module": "@jupyter-widgets/base",
      "_view_module_version": "1.2.0",
      "_view_name": "LayoutView",
      "align_content": null,
      "align_items": null,
      "align_self": null,
      "border": null,
      "bottom": null,
      "display": null,
      "flex": null,
      "flex_flow": null,
      "grid_area": null,
      "grid_auto_columns": null,
      "grid_auto_flow": null,
      "grid_auto_rows": null,
      "grid_column": null,
      "grid_gap": null,
      "grid_row": null,
      "grid_template_areas": null,
      "grid_template_columns": null,
      "grid_template_rows": null,
      "height": null,
      "justify_content": null,
      "justify_items": null,
      "left": null,
      "margin": null,
      "max_height": null,
      "max_width": null,
      "min_height": null,
      "min_width": null,
      "object_fit": null,
      "object_position": null,
      "order": null,
      "overflow": null,
      "overflow_x": null,
      "overflow_y": null,
      "padding": null,
      "right": null,
      "top": null,
      "visibility": null,
      "width": null
     }
    },
    "37b03990ccf241b0a75664935703b8f9": {
     "model_module": "@jupyter-widgets/controls",
     "model_module_version": "1.5.0",
     "model_name": "ProgressStyleModel",
     "state": {
      "_model_module": "@jupyter-widgets/controls",
      "_model_module_version": "1.5.0",
      "_model_name": "ProgressStyleModel",
      "_view_count": null,
      "_view_module": "@jupyter-widgets/base",
      "_view_module_version": "1.2.0",
      "_view_name": "StyleView",
      "bar_color": null,
      "description_width": ""
     }
    },
    "3fea833edacc4de3935c93f9b6b0b917": {
     "model_module": "@jupyter-widgets/controls",
     "model_module_version": "1.5.0",
     "model_name": "DescriptionStyleModel",
     "state": {
      "_model_module": "@jupyter-widgets/controls",
      "_model_module_version": "1.5.0",
      "_model_name": "DescriptionStyleModel",
      "_view_count": null,
      "_view_module": "@jupyter-widgets/base",
      "_view_module_version": "1.2.0",
      "_view_name": "StyleView",
      "description_width": ""
     }
    },
    "42e3feeac29241cc939770dd477d2063": {
     "model_module": "@jupyter-widgets/base",
     "model_module_version": "1.2.0",
     "model_name": "LayoutModel",
     "state": {
      "_model_module": "@jupyter-widgets/base",
      "_model_module_version": "1.2.0",
      "_model_name": "LayoutModel",
      "_view_count": null,
      "_view_module": "@jupyter-widgets/base",
      "_view_module_version": "1.2.0",
      "_view_name": "LayoutView",
      "align_content": null,
      "align_items": null,
      "align_self": null,
      "border": null,
      "bottom": null,
      "display": null,
      "flex": null,
      "flex_flow": null,
      "grid_area": null,
      "grid_auto_columns": null,
      "grid_auto_flow": null,
      "grid_auto_rows": null,
      "grid_column": null,
      "grid_gap": null,
      "grid_row": null,
      "grid_template_areas": null,
      "grid_template_columns": null,
      "grid_template_rows": null,
      "height": null,
      "justify_content": null,
      "justify_items": null,
      "left": null,
      "margin": null,
      "max_height": null,
      "max_width": null,
      "min_height": null,
      "min_width": null,
      "object_fit": null,
      "object_position": null,
      "order": null,
      "overflow": null,
      "overflow_x": null,
      "overflow_y": null,
      "padding": null,
      "right": null,
      "top": null,
      "visibility": null,
      "width": null
     }
    },
    "4dd68ea48a3d4d15a0197639f0c0ab44": {
     "model_module": "@jupyter-widgets/controls",
     "model_module_version": "1.5.0",
     "model_name": "ProgressStyleModel",
     "state": {
      "_model_module": "@jupyter-widgets/controls",
      "_model_module_version": "1.5.0",
      "_model_name": "ProgressStyleModel",
      "_view_count": null,
      "_view_module": "@jupyter-widgets/base",
      "_view_module_version": "1.2.0",
      "_view_name": "StyleView",
      "bar_color": null,
      "description_width": ""
     }
    },
    "53dc174e65554c799c68ef40d2264b74": {
     "model_module": "@jupyter-widgets/controls",
     "model_module_version": "1.5.0",
     "model_name": "DescriptionStyleModel",
     "state": {
      "_model_module": "@jupyter-widgets/controls",
      "_model_module_version": "1.5.0",
      "_model_name": "DescriptionStyleModel",
      "_view_count": null,
      "_view_module": "@jupyter-widgets/base",
      "_view_module_version": "1.2.0",
      "_view_name": "StyleView",
      "description_width": ""
     }
    },
    "5b98afa900d5443ea418d491e4226226": {
     "model_module": "@jupyter-widgets/base",
     "model_module_version": "1.2.0",
     "model_name": "LayoutModel",
     "state": {
      "_model_module": "@jupyter-widgets/base",
      "_model_module_version": "1.2.0",
      "_model_name": "LayoutModel",
      "_view_count": null,
      "_view_module": "@jupyter-widgets/base",
      "_view_module_version": "1.2.0",
      "_view_name": "LayoutView",
      "align_content": null,
      "align_items": null,
      "align_self": null,
      "border": null,
      "bottom": null,
      "display": null,
      "flex": null,
      "flex_flow": null,
      "grid_area": null,
      "grid_auto_columns": null,
      "grid_auto_flow": null,
      "grid_auto_rows": null,
      "grid_column": null,
      "grid_gap": null,
      "grid_row": null,
      "grid_template_areas": null,
      "grid_template_columns": null,
      "grid_template_rows": null,
      "height": null,
      "justify_content": null,
      "justify_items": null,
      "left": null,
      "margin": null,
      "max_height": null,
      "max_width": null,
      "min_height": null,
      "min_width": null,
      "object_fit": null,
      "object_position": null,
      "order": null,
      "overflow": null,
      "overflow_x": null,
      "overflow_y": null,
      "padding": null,
      "right": null,
      "top": null,
      "visibility": null,
      "width": null
     }
    },
    "63254401b3c4427f863bdc18278301f1": {
     "model_module": "@jupyter-widgets/controls",
     "model_module_version": "1.5.0",
     "model_name": "FloatProgressModel",
     "state": {
      "_dom_classes": [],
      "_model_module": "@jupyter-widgets/controls",
      "_model_module_version": "1.5.0",
      "_model_name": "FloatProgressModel",
      "_view_count": null,
      "_view_module": "@jupyter-widgets/controls",
      "_view_module_version": "1.5.0",
      "_view_name": "ProgressView",
      "bar_style": "success",
      "description": "",
      "description_tooltip": null,
      "layout": "IPY_MODEL_8ce49b8bfa7f4ae9986c1ad6c31feb02",
      "max": 52557,
      "min": 0,
      "orientation": "horizontal",
      "style": "IPY_MODEL_a2e483de07ad48cb8d9bbd154b36f6f7",
      "value": 52557
     }
    },
    "6ddc1b0c53b64d8099e444a79a70b68a": {
     "model_module": "@jupyter-widgets/controls",
     "model_module_version": "1.5.0",
     "model_name": "HBoxModel",
     "state": {
      "_dom_classes": [],
      "_model_module": "@jupyter-widgets/controls",
      "_model_module_version": "1.5.0",
      "_model_name": "HBoxModel",
      "_view_count": null,
      "_view_module": "@jupyter-widgets/controls",
      "_view_module_version": "1.5.0",
      "_view_name": "HBoxView",
      "box_style": "",
      "children": [
       "IPY_MODEL_15f01887b6824a569638e42b52b354e6",
       "IPY_MODEL_9e4df7c3ba594490833ff81a0a6da26b",
       "IPY_MODEL_a887e95d24574a4bb2788bbb18933437"
      ],
      "layout": "IPY_MODEL_7286ab4d04234cbc80734dbac9a45828"
     }
    },
    "7232d699a4514c5cb538d46239a0c33d": {
     "model_module": "@jupyter-widgets/controls",
     "model_module_version": "1.5.0",
     "model_name": "HTMLModel",
     "state": {
      "_dom_classes": [],
      "_model_module": "@jupyter-widgets/controls",
      "_model_module_version": "1.5.0",
      "_model_name": "HTMLModel",
      "_view_count": null,
      "_view_module": "@jupyter-widgets/controls",
      "_view_module_version": "1.5.0",
      "_view_name": "HTMLView",
      "description": "",
      "description_tooltip": null,
      "layout": "IPY_MODEL_ec59a5dfb12a423696f14262e5ce3646",
      "placeholder": "​",
      "style": "IPY_MODEL_53dc174e65554c799c68ef40d2264b74",
      "value": " 424k/? [00:00&lt;00:00, 15.8MB/s]"
     }
    },
    "7286ab4d04234cbc80734dbac9a45828": {
     "model_module": "@jupyter-widgets/base",
     "model_module_version": "1.2.0",
     "model_name": "LayoutModel",
     "state": {
      "_model_module": "@jupyter-widgets/base",
      "_model_module_version": "1.2.0",
      "_model_name": "LayoutModel",
      "_view_count": null,
      "_view_module": "@jupyter-widgets/base",
      "_view_module_version": "1.2.0",
      "_view_name": "LayoutView",
      "align_content": null,
      "align_items": null,
      "align_self": null,
      "border": null,
      "bottom": null,
      "display": null,
      "flex": null,
      "flex_flow": null,
      "grid_area": null,
      "grid_auto_columns": null,
      "grid_auto_flow": null,
      "grid_auto_rows": null,
      "grid_column": null,
      "grid_gap": null,
      "grid_row": null,
      "grid_template_areas": null,
      "grid_template_columns": null,
      "grid_template_rows": null,
      "height": null,
      "justify_content": null,
      "justify_items": null,
      "left": null,
      "margin": null,
      "max_height": null,
      "max_width": null,
      "min_height": null,
      "min_width": null,
      "object_fit": null,
      "object_position": null,
      "order": null,
      "overflow": null,
      "overflow_x": null,
      "overflow_y": null,
      "padding": null,
      "right": null,
      "top": null,
      "visibility": null,
      "width": null
     }
    },
    "74d78a60b623426fb509aaf1107c5bfe": {
     "model_module": "@jupyter-widgets/controls",
     "model_module_version": "1.5.0",
     "model_name": "FloatProgressModel",
     "state": {
      "_dom_classes": [],
      "_model_module": "@jupyter-widgets/controls",
      "_model_module_version": "1.5.0",
      "_model_name": "FloatProgressModel",
      "_view_count": null,
      "_view_module": "@jupyter-widgets/controls",
      "_view_module_version": "1.5.0",
      "_view_name": "ProgressView",
      "bar_style": "success",
      "description": "",
      "description_tooltip": null,
      "layout": "IPY_MODEL_5b98afa900d5443ea418d491e4226226",
      "max": 52557,
      "min": 0,
      "orientation": "horizontal",
      "style": "IPY_MODEL_4dd68ea48a3d4d15a0197639f0c0ab44",
      "value": 52557
     }
    },
    "7a51f5c55bcd4324958cb94607be81b0": {
     "model_module": "@jupyter-widgets/controls",
     "model_module_version": "1.5.0",
     "model_name": "HBoxModel",
     "state": {
      "_dom_classes": [],
      "_model_module": "@jupyter-widgets/controls",
      "_model_module_version": "1.5.0",
      "_model_name": "HBoxModel",
      "_view_count": null,
      "_view_module": "@jupyter-widgets/controls",
      "_view_module_version": "1.5.0",
      "_view_name": "HBoxView",
      "box_style": "",
      "children": [
       "IPY_MODEL_a8c85bf27af94743bd63063f5f64e98f",
       "IPY_MODEL_74d78a60b623426fb509aaf1107c5bfe",
       "IPY_MODEL_7232d699a4514c5cb538d46239a0c33d"
      ],
      "layout": "IPY_MODEL_a01e9012b33e49cabb01fe287d5905fb"
     }
    },
    "8ce49b8bfa7f4ae9986c1ad6c31feb02": {
     "model_module": "@jupyter-widgets/base",
     "model_module_version": "1.2.0",
     "model_name": "LayoutModel",
     "state": {
      "_model_module": "@jupyter-widgets/base",
      "_model_module_version": "1.2.0",
      "_model_name": "LayoutModel",
      "_view_count": null,
      "_view_module": "@jupyter-widgets/base",
      "_view_module_version": "1.2.0",
      "_view_name": "LayoutView",
      "align_content": null,
      "align_items": null,
      "align_self": null,
      "border": null,
      "bottom": null,
      "display": null,
      "flex": null,
      "flex_flow": null,
      "grid_area": null,
      "grid_auto_columns": null,
      "grid_auto_flow": null,
      "grid_auto_rows": null,
      "grid_column": null,
      "grid_gap": null,
      "grid_row": null,
      "grid_template_areas": null,
      "grid_template_columns": null,
      "grid_template_rows": null,
      "height": null,
      "justify_content": null,
      "justify_items": null,
      "left": null,
      "margin": null,
      "max_height": null,
      "max_width": null,
      "min_height": null,
      "min_width": null,
      "object_fit": null,
      "object_position": null,
      "order": null,
      "overflow": null,
      "overflow_x": null,
      "overflow_y": null,
      "padding": null,
      "right": null,
      "top": null,
      "visibility": null,
      "width": null
     }
    },
    "9e4df7c3ba594490833ff81a0a6da26b": {
     "model_module": "@jupyter-widgets/controls",
     "model_module_version": "1.5.0",
     "model_name": "FloatProgressModel",
     "state": {
      "_dom_classes": [],
      "_model_module": "@jupyter-widgets/controls",
      "_model_module_version": "1.5.0",
      "_model_name": "FloatProgressModel",
      "_view_count": null,
      "_view_module": "@jupyter-widgets/controls",
      "_view_module_version": "1.5.0",
      "_view_name": "ProgressView",
      "bar_style": "success",
      "description": "",
      "description_tooltip": null,
      "layout": "IPY_MODEL_bea928edc0cb4420a417605394f446e0",
      "max": 52557,
      "min": 0,
      "orientation": "horizontal",
      "style": "IPY_MODEL_37b03990ccf241b0a75664935703b8f9",
      "value": 52557
     }
    },
    "a01e9012b33e49cabb01fe287d5905fb": {
     "model_module": "@jupyter-widgets/base",
     "model_module_version": "1.2.0",
     "model_name": "LayoutModel",
     "state": {
      "_model_module": "@jupyter-widgets/base",
      "_model_module_version": "1.2.0",
      "_model_name": "LayoutModel",
      "_view_count": null,
      "_view_module": "@jupyter-widgets/base",
      "_view_module_version": "1.2.0",
      "_view_name": "LayoutView",
      "align_content": null,
      "align_items": null,
      "align_self": null,
      "border": null,
      "bottom": null,
      "display": null,
      "flex": null,
      "flex_flow": null,
      "grid_area": null,
      "grid_auto_columns": null,
      "grid_auto_flow": null,
      "grid_auto_rows": null,
      "grid_column": null,
      "grid_gap": null,
      "grid_row": null,
      "grid_template_areas": null,
      "grid_template_columns": null,
      "grid_template_rows": null,
      "height": null,
      "justify_content": null,
      "justify_items": null,
      "left": null,
      "margin": null,
      "max_height": null,
      "max_width": null,
      "min_height": null,
      "min_width": null,
      "object_fit": null,
      "object_position": null,
      "order": null,
      "overflow": null,
      "overflow_x": null,
      "overflow_y": null,
      "padding": null,
      "right": null,
      "top": null,
      "visibility": null,
      "width": null
     }
    },
    "a2e483de07ad48cb8d9bbd154b36f6f7": {
     "model_module": "@jupyter-widgets/controls",
     "model_module_version": "1.5.0",
     "model_name": "ProgressStyleModel",
     "state": {
      "_model_module": "@jupyter-widgets/controls",
      "_model_module_version": "1.5.0",
      "_model_name": "ProgressStyleModel",
      "_view_count": null,
      "_view_module": "@jupyter-widgets/base",
      "_view_module_version": "1.2.0",
      "_view_name": "StyleView",
      "bar_color": null,
      "description_width": ""
     }
    },
    "a887e95d24574a4bb2788bbb18933437": {
     "model_module": "@jupyter-widgets/controls",
     "model_module_version": "1.5.0",
     "model_name": "HTMLModel",
     "state": {
      "_dom_classes": [],
      "_model_module": "@jupyter-widgets/controls",
      "_model_module_version": "1.5.0",
      "_model_name": "HTMLModel",
      "_view_count": null,
      "_view_module": "@jupyter-widgets/controls",
      "_view_module_version": "1.5.0",
      "_view_name": "HTMLView",
      "description": "",
      "description_tooltip": null,
      "layout": "IPY_MODEL_e1917c5dd2e2437c9ba4a18ba03b2c8e",
      "placeholder": "​",
      "style": "IPY_MODEL_ecd5206b850b43fb82b5561724959149",
      "value": " 424k/? [00:00&lt;00:00, 31.4MB/s]"
     }
    },
    "a8c85bf27af94743bd63063f5f64e98f": {
     "model_module": "@jupyter-widgets/controls",
     "model_module_version": "1.5.0",
     "model_name": "HTMLModel",
     "state": {
      "_dom_classes": [],
      "_model_module": "@jupyter-widgets/controls",
      "_model_module_version": "1.5.0",
      "_model_name": "HTMLModel",
      "_view_count": null,
      "_view_module": "@jupyter-widgets/controls",
      "_view_module_version": "1.5.0",
      "_view_name": "HTMLView",
      "description": "",
      "description_tooltip": null,
      "layout": "IPY_MODEL_c6b212b95e084d9f92e9611e41f9eb8f",
      "placeholder": "​",
      "style": "IPY_MODEL_3fea833edacc4de3935c93f9b6b0b917",
      "value": "Downloading https://raw.githubusercontent.com/stanfordnlp/stanza-resources/main/resources_1.10.0.json: "
     }
    },
    "ac55a39bbe384410af759c3c07287c69": {
     "model_module": "@jupyter-widgets/controls",
     "model_module_version": "1.5.0",
     "model_name": "DescriptionStyleModel",
     "state": {
      "_model_module": "@jupyter-widgets/controls",
      "_model_module_version": "1.5.0",
      "_model_name": "DescriptionStyleModel",
      "_view_count": null,
      "_view_module": "@jupyter-widgets/base",
      "_view_module_version": "1.2.0",
      "_view_name": "StyleView",
      "description_width": ""
     }
    },
    "bea928edc0cb4420a417605394f446e0": {
     "model_module": "@jupyter-widgets/base",
     "model_module_version": "1.2.0",
     "model_name": "LayoutModel",
     "state": {
      "_model_module": "@jupyter-widgets/base",
      "_model_module_version": "1.2.0",
      "_model_name": "LayoutModel",
      "_view_count": null,
      "_view_module": "@jupyter-widgets/base",
      "_view_module_version": "1.2.0",
      "_view_name": "LayoutView",
      "align_content": null,
      "align_items": null,
      "align_self": null,
      "border": null,
      "bottom": null,
      "display": null,
      "flex": null,
      "flex_flow": null,
      "grid_area": null,
      "grid_auto_columns": null,
      "grid_auto_flow": null,
      "grid_auto_rows": null,
      "grid_column": null,
      "grid_gap": null,
      "grid_row": null,
      "grid_template_areas": null,
      "grid_template_columns": null,
      "grid_template_rows": null,
      "height": null,
      "justify_content": null,
      "justify_items": null,
      "left": null,
      "margin": null,
      "max_height": null,
      "max_width": null,
      "min_height": null,
      "min_width": null,
      "object_fit": null,
      "object_position": null,
      "order": null,
      "overflow": null,
      "overflow_x": null,
      "overflow_y": null,
      "padding": null,
      "right": null,
      "top": null,
      "visibility": null,
      "width": null
     }
    },
    "c04567d8306a43dfa6a6016d1859a05d": {
     "model_module": "@jupyter-widgets/controls",
     "model_module_version": "1.5.0",
     "model_name": "HTMLModel",
     "state": {
      "_dom_classes": [],
      "_model_module": "@jupyter-widgets/controls",
      "_model_module_version": "1.5.0",
      "_model_name": "HTMLModel",
      "_view_count": null,
      "_view_module": "@jupyter-widgets/controls",
      "_view_module_version": "1.5.0",
      "_view_name": "HTMLView",
      "description": "",
      "description_tooltip": null,
      "layout": "IPY_MODEL_01f24dd4e2734273b33a2031099d37d2",
      "placeholder": "​",
      "style": "IPY_MODEL_17284fe9e15341fda97e70a3779421ac",
      "value": "Downloading https://raw.githubusercontent.com/stanfordnlp/stanza-resources/main/resources_1.10.0.json: "
     }
    },
    "c6b212b95e084d9f92e9611e41f9eb8f": {
     "model_module": "@jupyter-widgets/base",
     "model_module_version": "1.2.0",
     "model_name": "LayoutModel",
     "state": {
      "_model_module": "@jupyter-widgets/base",
      "_model_module_version": "1.2.0",
      "_model_name": "LayoutModel",
      "_view_count": null,
      "_view_module": "@jupyter-widgets/base",
      "_view_module_version": "1.2.0",
      "_view_name": "LayoutView",
      "align_content": null,
      "align_items": null,
      "align_self": null,
      "border": null,
      "bottom": null,
      "display": null,
      "flex": null,
      "flex_flow": null,
      "grid_area": null,
      "grid_auto_columns": null,
      "grid_auto_flow": null,
      "grid_auto_rows": null,
      "grid_column": null,
      "grid_gap": null,
      "grid_row": null,
      "grid_template_areas": null,
      "grid_template_columns": null,
      "grid_template_rows": null,
      "height": null,
      "justify_content": null,
      "justify_items": null,
      "left": null,
      "margin": null,
      "max_height": null,
      "max_width": null,
      "min_height": null,
      "min_width": null,
      "object_fit": null,
      "object_position": null,
      "order": null,
      "overflow": null,
      "overflow_x": null,
      "overflow_y": null,
      "padding": null,
      "right": null,
      "top": null,
      "visibility": null,
      "width": null
     }
    },
    "d97f3a7acdf2407281d9fe7385f54c33": {
     "model_module": "@jupyter-widgets/controls",
     "model_module_version": "1.5.0",
     "model_name": "DescriptionStyleModel",
     "state": {
      "_model_module": "@jupyter-widgets/controls",
      "_model_module_version": "1.5.0",
      "_model_name": "DescriptionStyleModel",
      "_view_count": null,
      "_view_module": "@jupyter-widgets/base",
      "_view_module_version": "1.2.0",
      "_view_name": "StyleView",
      "description_width": ""
     }
    },
    "e1917c5dd2e2437c9ba4a18ba03b2c8e": {
     "model_module": "@jupyter-widgets/base",
     "model_module_version": "1.2.0",
     "model_name": "LayoutModel",
     "state": {
      "_model_module": "@jupyter-widgets/base",
      "_model_module_version": "1.2.0",
      "_model_name": "LayoutModel",
      "_view_count": null,
      "_view_module": "@jupyter-widgets/base",
      "_view_module_version": "1.2.0",
      "_view_name": "LayoutView",
      "align_content": null,
      "align_items": null,
      "align_self": null,
      "border": null,
      "bottom": null,
      "display": null,
      "flex": null,
      "flex_flow": null,
      "grid_area": null,
      "grid_auto_columns": null,
      "grid_auto_flow": null,
      "grid_auto_rows": null,
      "grid_column": null,
      "grid_gap": null,
      "grid_row": null,
      "grid_template_areas": null,
      "grid_template_columns": null,
      "grid_template_rows": null,
      "height": null,
      "justify_content": null,
      "justify_items": null,
      "left": null,
      "margin": null,
      "max_height": null,
      "max_width": null,
      "min_height": null,
      "min_width": null,
      "object_fit": null,
      "object_position": null,
      "order": null,
      "overflow": null,
      "overflow_x": null,
      "overflow_y": null,
      "padding": null,
      "right": null,
      "top": null,
      "visibility": null,
      "width": null
     }
    },
    "e73598d484964c00adb21dd296dd9603": {
     "model_module": "@jupyter-widgets/base",
     "model_module_version": "1.2.0",
     "model_name": "LayoutModel",
     "state": {
      "_model_module": "@jupyter-widgets/base",
      "_model_module_version": "1.2.0",
      "_model_name": "LayoutModel",
      "_view_count": null,
      "_view_module": "@jupyter-widgets/base",
      "_view_module_version": "1.2.0",
      "_view_name": "LayoutView",
      "align_content": null,
      "align_items": null,
      "align_self": null,
      "border": null,
      "bottom": null,
      "display": null,
      "flex": null,
      "flex_flow": null,
      "grid_area": null,
      "grid_auto_columns": null,
      "grid_auto_flow": null,
      "grid_auto_rows": null,
      "grid_column": null,
      "grid_gap": null,
      "grid_row": null,
      "grid_template_areas": null,
      "grid_template_columns": null,
      "grid_template_rows": null,
      "height": null,
      "justify_content": null,
      "justify_items": null,
      "left": null,
      "margin": null,
      "max_height": null,
      "max_width": null,
      "min_height": null,
      "min_width": null,
      "object_fit": null,
      "object_position": null,
      "order": null,
      "overflow": null,
      "overflow_x": null,
      "overflow_y": null,
      "padding": null,
      "right": null,
      "top": null,
      "visibility": null,
      "width": null
     }
    },
    "ec59a5dfb12a423696f14262e5ce3646": {
     "model_module": "@jupyter-widgets/base",
     "model_module_version": "1.2.0",
     "model_name": "LayoutModel",
     "state": {
      "_model_module": "@jupyter-widgets/base",
      "_model_module_version": "1.2.0",
      "_model_name": "LayoutModel",
      "_view_count": null,
      "_view_module": "@jupyter-widgets/base",
      "_view_module_version": "1.2.0",
      "_view_name": "LayoutView",
      "align_content": null,
      "align_items": null,
      "align_self": null,
      "border": null,
      "bottom": null,
      "display": null,
      "flex": null,
      "flex_flow": null,
      "grid_area": null,
      "grid_auto_columns": null,
      "grid_auto_flow": null,
      "grid_auto_rows": null,
      "grid_column": null,
      "grid_gap": null,
      "grid_row": null,
      "grid_template_areas": null,
      "grid_template_columns": null,
      "grid_template_rows": null,
      "height": null,
      "justify_content": null,
      "justify_items": null,
      "left": null,
      "margin": null,
      "max_height": null,
      "max_width": null,
      "min_height": null,
      "min_width": null,
      "object_fit": null,
      "object_position": null,
      "order": null,
      "overflow": null,
      "overflow_x": null,
      "overflow_y": null,
      "padding": null,
      "right": null,
      "top": null,
      "visibility": null,
      "width": null
     }
    },
    "ecd5206b850b43fb82b5561724959149": {
     "model_module": "@jupyter-widgets/controls",
     "model_module_version": "1.5.0",
     "model_name": "DescriptionStyleModel",
     "state": {
      "_model_module": "@jupyter-widgets/controls",
      "_model_module_version": "1.5.0",
      "_model_name": "DescriptionStyleModel",
      "_view_count": null,
      "_view_module": "@jupyter-widgets/base",
      "_view_module_version": "1.2.0",
      "_view_name": "StyleView",
      "description_width": ""
     }
    },
    "f1d59f9ba13f433680129bf6641296a2": {
     "model_module": "@jupyter-widgets/controls",
     "model_module_version": "1.5.0",
     "model_name": "HTMLModel",
     "state": {
      "_dom_classes": [],
      "_model_module": "@jupyter-widgets/controls",
      "_model_module_version": "1.5.0",
      "_model_name": "HTMLModel",
      "_view_count": null,
      "_view_module": "@jupyter-widgets/controls",
      "_view_module_version": "1.5.0",
      "_view_name": "HTMLView",
      "description": "",
      "description_tooltip": null,
      "layout": "IPY_MODEL_42e3feeac29241cc939770dd477d2063",
      "placeholder": "​",
      "style": "IPY_MODEL_d97f3a7acdf2407281d9fe7385f54c33",
      "value": " 424k/? [00:00&lt;00:00, 19.1MB/s]"
     }
    }
   }
  }
 },
 "nbformat": 4,
 "nbformat_minor": 4
}
